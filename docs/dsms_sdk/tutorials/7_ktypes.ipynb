{
 "cells": [
  {
   "cell_type": "markdown",
   "metadata": {},
   "source": [
    "# 7. Interact with KTypes through the SDK\n"
   ]
  },
  {
   "cell_type": "markdown",
   "metadata": {},
   "source": [
    "## 7.1. Setting up\n",
    "\n",
    "Before you run this tutorial: make sure to have access to a DSMS-instance of your interest, alongwith with installation of this package and have establised access to the DSMS through DSMS-SDK (refer to [Connecting to DSMS](../dsms_sdk.md#connecting-to-dsms))\n",
    "\n",
    "Import the needed classes and functions."
   ]
  },
  {
   "cell_type": "code",
   "execution_count": 1,
   "metadata": {},
   "outputs": [],
   "source": [
    "from dsms import DSMS, KType"
   ]
  },
  {
   "cell_type": "markdown",
   "metadata": {},
   "source": [
    "Now source the environmental variables from an `.env` file and start the DSMS-session."
   ]
  },
  {
   "cell_type": "code",
   "execution_count": 2,
   "metadata": {},
   "outputs": [],
   "source": [
    "dsms = DSMS(env=\".env\")"
   ]
  },
  {
   "cell_type": "markdown",
   "metadata": {},
   "source": [
    "## 7.2. Create KTypes\n",
    "\n",
    "A Ktype can have a webform schema - for e.g. data properties or a process schema for clustering KItems into a context.\n",
    "\n",
    "The webform and process schema of a ktype may look as follows:"
   ]
  },
  {
   "cell_type": "code",
   "execution_count": 3,
   "metadata": {},
   "outputs": [],
   "source": [
    "ktype = {\n",
    "  \"id\": \"characterization-process\",\n",
    "  \"name\": \"Characterization Process\",\n",
    "  \"webform_schema_id\": \"69e58442-5837-4bba-9326-3083bccc7c86\",\n",
    "  \"webform_schema\": {\n",
    "    \"id\": \"69e58442-5837-4bba-9326-3083bccc7c86\",\n",
    "    \"name\": \"Characterization Process\",\n",
    "    \"spec\": {\n",
    "      \"semantics_enabled\": True,\n",
    "      \"sections_enabled\": False,\n",
    "      \"class_mapping\": [\n",
    "        \"https://w3id.org/emmo/domain/characterisation-methodology/chameo#CharacterisationProcedure\"\n",
    "      ],\n",
    "      \"sections\": [\n",
    "        {\n",
    "          \"id\": \"id57f43923129f28\",\n",
    "          \"name\": \"Untitled Section\",\n",
    "          \"inputs\": [\n",
    "            {\n",
    "              \"id\": \"id02760f0b0cd56\",\n",
    "              \"label\": \"Start time\",\n",
    "              \"widget\": \"Text\",\n",
    "              \"relation_mapping\": {\n",
    "                \"iri\": \"http://www.w3.org/ns/dcat#startDate\",\n",
    "                \"label\": \"start date\",\n",
    "                \"type\": \"data_property\",\n",
    "              },\n",
    "            },\n",
    "            {\n",
    "              \"id\": \"id3ff5961015588\",\n",
    "              \"label\": \"End time \",\n",
    "              \"widget\": \"Text\",\n",
    "              \n",
    "              \"relation_mapping\": {\n",
    "                \"iri\": \"http://www.w3.org/ns/dcat#endDate\",\n",
    "                \"label\": \"end date\",\n",
    "                \"type\": \"data_property\",\n",
    "              },\n",
    "            }\n",
    "          ],\n",
    "        }\n",
    "      ]\n",
    "    },\n",
    "  },\n",
    "  \"process_schema_id\": \"ee815110-ee41-44cf-a049-5873942440d6\",\n",
    "  \"process_schema\": {\n",
    "    \"id\": \"ee815110-ee41-44cf-a049-5873942440d6\",\n",
    "    \"name\": \"Characterization Process\",\n",
    "    \"spec\": [\n",
    "      {\n",
    "        \"id\": \"specimen\",\n",
    "        \"label\": \"Specimen\",\n",
    "      },\n",
    "      {\n",
    "        \"id\": \"testingmachine\",\n",
    "        \"label\": \"TestingMachine\",\n",
    "      },\n",
    "      {\n",
    "        \"id\": \"expert\",\n",
    "        \"label\": \"expert\",\n",
    "        \"mappings\": [\n",
    "          {\n",
    "            \"dst_ktype_id\": \"organization\",\n",
    "            \"relation_iri\": \"http://www.w3.org/ns/prov#wasAssociatedWith\",\n",
    "            \"relation_name\": \"wasAssociatedWith\"\n",
    "          },\n",
    "          {\n",
    "            \"dst_ktype_id\": \"testingmachine\",\n",
    "            \"relation_iri\": \"http://www.w3.org/ns/prov#wasAssociatedWith\",\n",
    "            \"relation_name\": \"wasAssociatedWith\"\n",
    "          },\n",
    "          {\n",
    "            \"dst_ktype_id\": \"specimen\",\n",
    "            \"relation_iri\": \"http://www.w3.org/ns/prov#wasAssociatedWith\",\n",
    "            \"relation_name\": \"wasAssociatedWith\"\n",
    "          }\n",
    "        ],\n",
    "      },\n",
    "      {\n",
    "        \"id\": \"organization\",\n",
    "        \"label\": \"organization\",\n",
    "      }\n",
    "    ],\n",
    "  },\n",
    "}"
   ]
  },
  {
   "cell_type": "markdown",
   "metadata": {},
   "source": [
    "We can see, that the ktype is describing a characterization process.\n",
    "The webfrom describes two fields:\n",
    "* start date of the characterization (with dcat mapping)\n",
    "* end data of the characterization (with dcat mapping)\n",
    "\n",
    "The process schema describes the following entities:\n",
    "\n",
    "* the expert involed\n",
    "* the testing machine involved\n",
    "* the specimen involved\n",
    "* the organization involed\n",
    "* the semantic relations between the expert and the organization/specimen/testing machine"
   ]
  },
  {
   "cell_type": "markdown",
   "metadata": {},
   "source": [
    "The Ktype can be instanciated with simple dictionary expansion:"
   ]
  },
  {
   "cell_type": "code",
   "execution_count": 4,
   "metadata": {},
   "outputs": [
    {
     "data": {
      "text/plain": [
       "ktype:\n",
       "  id: characterization-process\n",
       "  name: Characterization Process\n",
       "  webform_schema_id: 69e58442-5837-4bba-9326-3083bccc7c86\n",
       "  webform_schema:\n",
       "    id: 69e58442-5837-4bba-9326-3083bccc7c86\n",
       "    name: Characterization Process\n",
       "    spec:\n",
       "      semantics_enabled: true\n",
       "      sections_enabled: false\n",
       "      class_mapping:\n",
       "      - https://w3id.org/emmo/domain/characterisation-methodology/chameo#CharacterisationProcedure\n",
       "      sections:\n",
       "      - id: id57f43923129f28\n",
       "        name: Untitled Section\n",
       "        inputs:\n",
       "        - id: id02760f0b0cd56\n",
       "          label: Start time\n",
       "          widget: Text\n",
       "          relation_mapping:\n",
       "            iri: http://www.w3.org/ns/dcat#startDate\n",
       "            label: start date\n",
       "            type: data_property\n",
       "        - id: id3ff5961015588\n",
       "          label: 'End time '\n",
       "          widget: Text\n",
       "          relation_mapping:\n",
       "            iri: http://www.w3.org/ns/dcat#endDate\n",
       "            label: end date\n",
       "            type: data_property\n",
       "  process_schema_id: ee815110-ee41-44cf-a049-5873942440d6\n",
       "  process_schema:\n",
       "    id: ee815110-ee41-44cf-a049-5873942440d6\n",
       "    name: Characterization Process\n",
       "    spec:\n",
       "    - id: specimen\n",
       "      label: Specimen\n",
       "    - id: testingmachine\n",
       "      label: TestingMachine\n",
       "    - id: expert\n",
       "      label: expert\n",
       "      mappings:\n",
       "      - dst_ktype_id: organization\n",
       "        relation_iri: http://www.w3.org/ns/prov#wasAssociatedWith\n",
       "        relation_name: wasAssociatedWith\n",
       "      - dst_ktype_id: testingmachine\n",
       "        relation_iri: http://www.w3.org/ns/prov#wasAssociatedWith\n",
       "        relation_name: wasAssociatedWith\n",
       "      - dst_ktype_id: specimen\n",
       "        relation_iri: http://www.w3.org/ns/prov#wasAssociatedWith\n",
       "        relation_name: wasAssociatedWith\n",
       "    - id: organization\n",
       "      label: organization"
      ]
     },
     "execution_count": 4,
     "metadata": {},
     "output_type": "execute_result"
    }
   ],
   "source": [
    "ktype = KType(**ktype)\n",
    "\n",
    "ktype"
   ]
  },
  {
   "cell_type": "markdown",
   "metadata": {},
   "source": [
    "The `commit` method should be executed to synchronize the changes with the DSMS SDK."
   ]
  },
  {
   "cell_type": "code",
   "execution_count": 5,
   "metadata": {},
   "outputs": [],
   "source": [
    "dsms.add(ktype)\n",
    "dsms.commit()"
   ]
  },
  {
   "cell_type": "markdown",
   "metadata": {},
   "source": [
    "The `ktype` object will automatically get updated with after the commit."
   ]
  },
  {
   "cell_type": "code",
   "execution_count": 6,
   "metadata": {},
   "outputs": [
    {
     "name": "stderr",
     "output_type": "stream",
     "text": [
      "/usr/local/lib/python3.11/site-packages/pydantic/main.py:463: UserWarning: Pydantic serializer warnings:\n",
      "  PydanticSerializationUnexpectedValue(Expected `WebformSchema` - serialized value may not be as expected [input_value={'id': '69e58442-5837-4bb...-08-13T15:19:53.355557'}, input_type=dict])\n",
      "  PydanticSerializationUnexpectedValue(Expected `ProcessSchema` - serialized value may not be as expected [input_value={'id': 'ee815110-ee41-44c...-08-13T15:16:24.873119'}, input_type=dict])\n",
      "  return self.__pydantic_serializer__.to_python(\n"
     ]
    },
    {
     "data": {
      "text/plain": [
       "ktype:\n",
       "  id: characterization-process\n",
       "  name: Characterization Process\n",
       "  webform_schema_id: 69e58442-5837-4bba-9326-3083bccc7c86\n",
       "  webform_schema:\n",
       "    id: 69e58442-5837-4bba-9326-3083bccc7c86\n",
       "    name: Characterization Process\n",
       "    spec:\n",
       "      semanticsEnabled: true\n",
       "      sectionsEnabled: false\n",
       "      classMapping:\n",
       "      - https://w3id.org/emmo/domain/characterisation-methodology/chameo#CharacterisationProcedure\n",
       "      sections:\n",
       "      - id: id57f43923129f28\n",
       "        name: Untitled Section\n",
       "        inputs:\n",
       "        - id: id02760f0b0cd56\n",
       "          label: Start time\n",
       "          widget: Text\n",
       "          required: false\n",
       "          value: null\n",
       "          hint: null\n",
       "          hidden: false\n",
       "          ignore: false\n",
       "          selectOptions: []\n",
       "          measurementUnit: null\n",
       "          relationMapping:\n",
       "            iri: http://www.w3.org/ns/dcat#startDate\n",
       "            label: start date\n",
       "            type: data_property\n",
       "            classIri: null\n",
       "          relationMappingExtra: null\n",
       "          multipleSelection: false\n",
       "          knowledgeType: null\n",
       "          rangeOptions: null\n",
       "          placeholder: null\n",
       "        - id: id3ff5961015588\n",
       "          label: 'End time '\n",
       "          widget: Text\n",
       "          required: false\n",
       "          value: null\n",
       "          hint: null\n",
       "          hidden: false\n",
       "          ignore: false\n",
       "          selectOptions: []\n",
       "          measurementUnit: null\n",
       "          relationMapping:\n",
       "            iri: http://www.w3.org/ns/dcat#endDate\n",
       "            label: end date\n",
       "            type: data_property\n",
       "            classIri: null\n",
       "          relationMappingExtra: null\n",
       "          multipleSelection: false\n",
       "          knowledgeType: null\n",
       "          rangeOptions: null\n",
       "          placeholder: null\n",
       "        hidden: false\n",
       "    created_at: '2025-08-13T15:16:24.730491'\n",
       "    updated_at: '2025-08-13T15:19:53.355557'\n",
       "  process_schema_id: ee815110-ee41-44cf-a049-5873942440d6\n",
       "  process_schema:\n",
       "    id: ee815110-ee41-44cf-a049-5873942440d6\n",
       "    name: Characterization Process\n",
       "    spec:\n",
       "    - id: specimen\n",
       "      label: Specimen\n",
       "      isChild: false\n",
       "      mappings: []\n",
       "      children: []\n",
       "    - id: testingmachine\n",
       "      label: TestingMachine\n",
       "      isChild: false\n",
       "      mappings: []\n",
       "      children: []\n",
       "    - id: expert\n",
       "      label: expert\n",
       "      isChild: false\n",
       "      mappings:\n",
       "      - dstKtypeId: organization\n",
       "        relationIri: http://www.w3.org/ns/prov#wasAssociatedWith\n",
       "        relationName: wasAssociatedWith\n",
       "      - dstKtypeId: testingmachine\n",
       "        relationIri: http://www.w3.org/ns/prov#wasAssociatedWith\n",
       "        relationName: wasAssociatedWith\n",
       "      - dstKtypeId: specimen\n",
       "        relationIri: http://www.w3.org/ns/prov#wasAssociatedWith\n",
       "        relationName: wasAssociatedWith\n",
       "      children: []\n",
       "    - id: organization\n",
       "      label: organization\n",
       "      isChild: false\n",
       "      mappings: []\n",
       "      children: []\n",
       "    created_at: '2025-08-13T15:16:24.873119'\n",
       "    updated_at: '2025-08-13T15:16:24.873119'\n",
       "  created_at: '2025-08-13T15:16:25.014255'\n",
       "  updated_at: '2025-08-13T15:31:36.259116'"
      ]
     },
     "execution_count": 6,
     "metadata": {},
     "output_type": "execute_result"
    }
   ],
   "source": [
    "ktype"
   ]
  },
  {
   "cell_type": "markdown",
   "metadata": {},
   "source": [
    "## 7.3. Update KTypes"
   ]
  },
  {
   "cell_type": "markdown",
   "metadata": {},
   "source": [
    "The ktype object can be fetched using its id."
   ]
  },
  {
   "cell_type": "code",
   "execution_count": 7,
   "metadata": {},
   "outputs": [
    {
     "data": {
      "text/plain": [
       "ktype:\n",
       "  id: characterization-process\n",
       "  name: Characterization Process\n",
       "  webform_schema_id: 69e58442-5837-4bba-9326-3083bccc7c86\n",
       "  webform_schema:\n",
       "    id: 69e58442-5837-4bba-9326-3083bccc7c86\n",
       "    name: Characterization Process\n",
       "    spec:\n",
       "      semantics_enabled: true\n",
       "      sections_enabled: false\n",
       "      class_mapping:\n",
       "      - https://w3id.org/emmo/domain/characterisation-methodology/chameo#CharacterisationProcedure\n",
       "      sections:\n",
       "      - id: id57f43923129f28\n",
       "        name: Untitled Section\n",
       "        inputs:\n",
       "        - id: id02760f0b0cd56\n",
       "          label: Start time\n",
       "          widget: Text\n",
       "          required: false\n",
       "          hidden: false\n",
       "          ignore: false\n",
       "          select_options: []\n",
       "          relation_mapping:\n",
       "            iri: http://www.w3.org/ns/dcat#startDate\n",
       "            label: start date\n",
       "            type: data_property\n",
       "          multiple_selection: false\n",
       "        - id: id3ff5961015588\n",
       "          label: 'End time '\n",
       "          widget: Text\n",
       "          required: false\n",
       "          hidden: false\n",
       "          ignore: false\n",
       "          select_options: []\n",
       "          relation_mapping:\n",
       "            iri: http://www.w3.org/ns/dcat#endDate\n",
       "            label: end date\n",
       "            type: data_property\n",
       "          multiple_selection: false\n",
       "        hidden: false\n",
       "    created_at: '2025-08-13T15:16:24.730491'\n",
       "    updated_at: '2025-08-13T15:19:53.355557'\n",
       "  process_schema_id: ee815110-ee41-44cf-a049-5873942440d6\n",
       "  process_schema:\n",
       "    id: ee815110-ee41-44cf-a049-5873942440d6\n",
       "    name: Characterization Process\n",
       "    spec:\n",
       "    - id: specimen\n",
       "      label: Specimen\n",
       "      is_child: false\n",
       "      mappings: []\n",
       "      children: []\n",
       "    - id: testingmachine\n",
       "      label: TestingMachine\n",
       "      is_child: false\n",
       "      mappings: []\n",
       "      children: []\n",
       "    - id: expert\n",
       "      label: expert\n",
       "      is_child: false\n",
       "      mappings:\n",
       "      - dst_ktype_id: organization\n",
       "        relation_iri: http://www.w3.org/ns/prov#wasAssociatedWith\n",
       "        relation_name: wasAssociatedWith\n",
       "      - dst_ktype_id: testingmachine\n",
       "        relation_iri: http://www.w3.org/ns/prov#wasAssociatedWith\n",
       "        relation_name: wasAssociatedWith\n",
       "      - dst_ktype_id: specimen\n",
       "        relation_iri: http://www.w3.org/ns/prov#wasAssociatedWith\n",
       "        relation_name: wasAssociatedWith\n",
       "      children: []\n",
       "    - id: organization\n",
       "      label: organization\n",
       "      is_child: false\n",
       "      mappings: []\n",
       "      children: []\n",
       "    created_at: 2025-08-13 15:16:24.873119\n",
       "    updated_at: 2025-08-13 15:16:24.873119\n",
       "  created_at: '2025-08-13T15:16:25.014255'\n",
       "  updated_at: '2025-08-13T15:31:36.259116'"
      ]
     },
     "execution_count": 7,
     "metadata": {},
     "output_type": "execute_result"
    }
   ],
   "source": [
    "ktype = dsms.ktypes.CharacterizationProcess\n",
    "ktype"
   ]
  },
  {
   "cell_type": "markdown",
   "metadata": {},
   "source": [
    "We can change e.g. the name of the ktype"
   ]
  },
  {
   "cell_type": "code",
   "execution_count": 8,
   "metadata": {},
   "outputs": [
    {
     "data": {
      "text/plain": [
       "ktype:\n",
       "  id: characterization-process\n",
       "  name: Characterization Procedure\n",
       "  webform_schema_id: 69e58442-5837-4bba-9326-3083bccc7c86\n",
       "  webform_schema:\n",
       "    id: 69e58442-5837-4bba-9326-3083bccc7c86\n",
       "    name: Characterization Process\n",
       "    spec:\n",
       "      semanticsEnabled: true\n",
       "      sectionsEnabled: false\n",
       "      classMapping:\n",
       "      - https://w3id.org/emmo/domain/characterisation-methodology/chameo#CharacterisationProcedure\n",
       "      sections:\n",
       "      - id: id57f43923129f28\n",
       "        name: Untitled Section\n",
       "        inputs:\n",
       "        - id: id02760f0b0cd56\n",
       "          label: Start time\n",
       "          widget: Text\n",
       "          required: false\n",
       "          value: null\n",
       "          hint: null\n",
       "          hidden: false\n",
       "          ignore: false\n",
       "          selectOptions: []\n",
       "          measurementUnit: null\n",
       "          relationMapping:\n",
       "            iri: http://www.w3.org/ns/dcat#startDate\n",
       "            label: start date\n",
       "            type: data_property\n",
       "            classIri: null\n",
       "          relationMappingExtra: null\n",
       "          multipleSelection: false\n",
       "          knowledgeType: null\n",
       "          rangeOptions: null\n",
       "          placeholder: null\n",
       "        - id: id3ff5961015588\n",
       "          label: 'End time '\n",
       "          widget: Text\n",
       "          required: false\n",
       "          value: null\n",
       "          hint: null\n",
       "          hidden: false\n",
       "          ignore: false\n",
       "          selectOptions: []\n",
       "          measurementUnit: null\n",
       "          relationMapping:\n",
       "            iri: http://www.w3.org/ns/dcat#endDate\n",
       "            label: end date\n",
       "            type: data_property\n",
       "            classIri: null\n",
       "          relationMappingExtra: null\n",
       "          multipleSelection: false\n",
       "          knowledgeType: null\n",
       "          rangeOptions: null\n",
       "          placeholder: null\n",
       "        hidden: false\n",
       "    created_at: '2025-08-13T15:16:24.730491'\n",
       "    updated_at: '2025-08-13T15:19:53.355557'\n",
       "  process_schema_id: ee815110-ee41-44cf-a049-5873942440d6\n",
       "  process_schema:\n",
       "    id: ee815110-ee41-44cf-a049-5873942440d6\n",
       "    name: Characterization Process\n",
       "    spec:\n",
       "    - id: specimen\n",
       "      label: Specimen\n",
       "      isChild: false\n",
       "      mappings: []\n",
       "      children: []\n",
       "    - id: testingmachine\n",
       "      label: TestingMachine\n",
       "      isChild: false\n",
       "      mappings: []\n",
       "      children: []\n",
       "    - id: expert\n",
       "      label: expert\n",
       "      isChild: false\n",
       "      mappings:\n",
       "      - dstKtypeId: organization\n",
       "        relationIri: http://www.w3.org/ns/prov#wasAssociatedWith\n",
       "        relationName: wasAssociatedWith\n",
       "      - dstKtypeId: testingmachine\n",
       "        relationIri: http://www.w3.org/ns/prov#wasAssociatedWith\n",
       "        relationName: wasAssociatedWith\n",
       "      - dstKtypeId: specimen\n",
       "        relationIri: http://www.w3.org/ns/prov#wasAssociatedWith\n",
       "        relationName: wasAssociatedWith\n",
       "      children: []\n",
       "    - id: organization\n",
       "      label: organization\n",
       "      isChild: false\n",
       "      mappings: []\n",
       "      children: []\n",
       "    created_at: '2025-08-13T15:16:24.873119'\n",
       "    updated_at: '2025-08-13T15:16:24.873119'\n",
       "  created_at: '2025-08-13T15:16:25.014255'\n",
       "  updated_at: '2025-08-13T15:31:36.905383'"
      ]
     },
     "execution_count": 8,
     "metadata": {},
     "output_type": "execute_result"
    }
   ],
   "source": [
    "ktype.name = 'Characterization Procedure'\n",
    "\n",
    "dsms.add(ktype)\n",
    "dsms.commit()\n",
    "\n",
    "ktype"
   ]
  },
  {
   "cell_type": "markdown",
   "metadata": {},
   "source": [
    "## 7.4. Delete KTypes"
   ]
  },
  {
   "cell_type": "markdown",
   "metadata": {},
   "source": [
    "The fetched ktype can be deleted by applying the `del`-operator to the `dsms` object with the individual `KType` object."
   ]
  },
  {
   "cell_type": "code",
   "execution_count": 9,
   "metadata": {},
   "outputs": [],
   "source": [
    "del dsms[ktype]"
   ]
  },
  {
   "cell_type": "markdown",
   "metadata": {},
   "source": [
    "As always, commit the changes."
   ]
  },
  {
   "cell_type": "code",
   "execution_count": 10,
   "metadata": {},
   "outputs": [],
   "source": [
    "dsms.commit()"
   ]
  },
  {
   "cell_type": "markdown",
   "metadata": {},
   "source": [
    "The available KTypes in the SDK can be fetched from an enum list."
   ]
  }
 ],
 "metadata": {
  "kernelspec": {
   "display_name": "Python 3",
   "language": "python",
   "name": "python3"
  },
  "language_info": {
   "codemirror_mode": {
    "name": "ipython",
    "version": 3
   },
   "file_extension": ".py",
   "mimetype": "text/x-python",
   "name": "python",
   "nbconvert_exporter": "python",
   "pygments_lexer": "ipython3",
   "version": "3.11.13"
  }
 },
 "nbformat": 4,
 "nbformat_minor": 2
}
