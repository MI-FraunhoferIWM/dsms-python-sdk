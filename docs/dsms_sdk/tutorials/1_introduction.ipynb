{
 "cells": [
  {
   "cell_type": "markdown",
   "metadata": {},
   "source": [
    "# 1. Connecting with the SDK to DSMS\n",
    "\n",
    "In this tutorial we see the overview on how to setup and basic use DSMS-SDK\n"
   ]
  },
  {
   "cell_type": "markdown",
   "metadata": {},
   "source": [
    "### 1.1. Setting up\n",
    "\n",
    "Before you run this tutorial: make sure to have access to a DSMS-instance of your interest, alongwith with installation of this package and have establised access to the DSMS through DSMS-SDK (refer to [Connecting to DSMS](../dsms_sdk.md#connecting-to-dsms))\n",
    "\n",
    "Now let us import the needed classes and functions for this tutorial."
   ]
  },
  {
   "cell_type": "code",
   "execution_count": 5,
   "metadata": {},
   "outputs": [],
   "source": [
    "from dsms import DSMS"
   ]
  },
  {
   "cell_type": "markdown",
   "metadata": {},
   "source": [
    "Now source the environmental variables from an `.env` file and start the DSMS-session."
   ]
  },
  {
   "cell_type": "code",
   "execution_count": 6,
   "metadata": {},
   "outputs": [],
   "source": [
    "dsms = DSMS(env=\".env\")"
   ]
  },
  {
   "cell_type": "markdown",
   "metadata": {},
   "source": [
    "### 1.2. Introduction to KItems"
   ]
  },
  {
   "cell_type": "markdown",
   "metadata": {},
   "source": [
    "We can see which kind of DSMS-object we own as a user (in the beginning, we own none):"
   ]
  },
  {
   "cell_type": "code",
   "execution_count": 7,
   "metadata": {},
   "outputs": [
    {
     "data": {
      "text/plain": [
       "[]"
      ]
     },
     "execution_count": 7,
     "metadata": {},
     "output_type": "execute_result"
    }
   ],
   "source": [
    "dsms.kitems"
   ]
  },
  {
   "cell_type": "markdown",
   "metadata": {},
   "source": [
    "We can investigate what a KItem needs in order to be created. KItems are entirely based on Pydantic-Models (v2), hence the properties (in Pydantic called Fields) are automatically validated once we set them.\n",
    "\n",
    "The schema of the KItem itself is a JSON schema which is machine-readable and can be directly incorporated into Swagger-supported APIs like e.g. FastAPI.\n",
    "\n",
    "We can investigate the KTypes defined in the remote instance:"
   ]
  },
  {
   "cell_type": "code",
   "execution_count": 8,
   "metadata": {},
   "outputs": [
    {
     "name": "stdout",
     "output_type": "stream",
     "text": [
      "Organization(\n",
      "\tid=organization,\n",
      "\tname=None,\n",
      "\twebform=None,\n",
      "\tjson_schema=None,\n",
      "\trdf_mapping=None,\n",
      "\tcreated_at=2024-05-06T13:01:42.756035,\n",
      "\tupdated_at=2024-05-06T13:01:42.756035\n",
      ")\n",
      "App(\n",
      "\tid=app,\n",
      "\tname=None,\n",
      "\twebform=None,\n",
      "\tjson_schema=None,\n",
      "\trdf_mapping=None,\n",
      "\tcreated_at=2024-05-06T13:01:42.756035,\n",
      "\tupdated_at=2024-05-06T13:01:42.756035\n",
      ")\n",
      "Dataset(\n",
      "\tid=dataset,\n",
      "\tname=dataset,\n",
      "\twebform=None,\n",
      "\tjson_schema=None,\n",
      "\trdf_mapping=None,\n",
      "\tcreated_at=2024-05-06T13:01:42.756035,\n",
      "\tupdated_at=2024-05-06T13:01:42.756035\n",
      ")\n",
      "DatasetCatalog(\n",
      "\tid=dataset-catalog,\n",
      "\tname=dataset catalog,\n",
      "\twebform=None,\n",
      "\tjson_schema=None,\n",
      "\trdf_mapping=None,\n",
      "\tcreated_at=2024-05-06T13:01:42.756035,\n",
      "\tupdated_at=2024-05-06T13:01:42.756035\n",
      ")\n",
      "Expert(\n",
      "\tid=expert,\n",
      "\tname=expert,\n",
      "\twebform={\n",
      "\t\tname=dict(annotation=Union[str, NoneType] required=False default=None),\n",
      "\t\tskills=dict(annotation=Union[str, NoneType] required=False default=None)\n",
      "\t},\n",
      "\tjson_schema=None,\n",
      "\trdf_mapping=None,\n",
      "\tcreated_at=2024-05-06T13:01:42.756035,\n",
      "\tupdated_at=2024-05-06T17:09:46.125058\n",
      ")\n",
      "Test(\n",
      "\tid=test,\n",
      "\tname=test,\n",
      "\twebform=None,\n",
      "\tjson_schema=None,\n",
      "\trdf_mapping=None,\n",
      "\tcreated_at=2024-05-14T07:45:38.051796,\n",
      "\tupdated_at=2024-05-14T07:45:38.051796\n",
      ")\n",
      "Specimen(\n",
      "\tid=specimen,\n",
      "\tname=Specimen,\n",
      "\twebform={\n",
      "\t\tsampletype=dict(annotation=Union[str, NoneType] required=False default=None),\n",
      "\t\tsampleinformation=dict(annotation=Union[str, NoneType] required=False default=None),\n",
      "\t\tsampleproductionprocess=dict(annotation=Union[str, NoneType] required=False default=None)\n",
      "\t},\n",
      "\tjson_schema=None,\n",
      "\trdf_mapping=None,\n",
      "\tcreated_at=2024-05-22T07:19:24.079365,\n",
      "\tupdated_at=2024-05-22T07:20:08.774884\n",
      ")\n",
      "Resource(\n",
      "\tid=resource,\n",
      "\tname=Resource,\n",
      "\twebform=None,\n",
      "\tjson_schema=None,\n",
      "\trdf_mapping=None,\n",
      "\tcreated_at=2024-06-10T10:17:31.071959,\n",
      "\tupdated_at=2024-06-10T10:17:40.156104\n",
      ")\n",
      "TestingMachine(\n",
      "\tid=testing-machine,\n",
      "\tname=Testing Machine,\n",
      "\twebform=None,\n",
      "\tjson_schema=None,\n",
      "\trdf_mapping=None,\n",
      "\tcreated_at=2024-08-19T17:13:57.534570,\n",
      "\tupdated_at=2024-08-19T18:11:40.465640\n",
      ")\n"
     ]
    }
   ],
   "source": [
    "for ktype in dsms.ktypes:\n",
    "    print(ktype)"
   ]
  }
 ],
 "metadata": {
  "kernelspec": {
   "display_name": "sdk",
   "language": "python",
   "name": "python3"
  },
  "language_info": {
   "codemirror_mode": {
    "name": "ipython",
    "version": 3
   },
   "file_extension": ".py",
   "mimetype": "text/x-python",
   "name": "python",
   "nbconvert_exporter": "python",
   "pygments_lexer": "ipython3",
   "version": "3.12.2"
  }
 },
 "nbformat": 4,
 "nbformat_minor": 2
}
