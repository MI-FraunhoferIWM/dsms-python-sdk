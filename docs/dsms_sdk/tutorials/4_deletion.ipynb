{
 "cells": [
  {
   "cell_type": "markdown",
   "metadata": {},
   "source": [
    "# 4. Deleting KItems with the SDK\n",
    "\n",
    "In this tutorial we see how to delete new Kitems and their properties."
   ]
  },
  {
   "cell_type": "markdown",
   "metadata": {},
   "source": [
    "### 4.1. Setting up\n",
    "\n",
    "Before you run this tutorial: make sure to have access to a DSMS-instance of your interest, alongwith with installation of this package and have establised access to the DSMS through DSMS-SDK (refer to [Connecting to DSMS](../dsms_sdk.md#connecting-to-dsms))\n",
    "\n",
    "Now let us import the needed classes and functions for this tutorial.\n",
    "\n",
    "Now let us import the needed classes and functions for this tutorial."
   ]
  },
  {
   "cell_type": "code",
   "execution_count": 1,
   "metadata": {},
   "outputs": [],
   "source": [
    "from dsms import DSMS, KItem"
   ]
  },
  {
   "cell_type": "markdown",
   "metadata": {},
   "source": [
    "Now source the environmental variables from an `.env` file and start the DSMS-session."
   ]
  },
  {
   "cell_type": "code",
   "execution_count": 2,
   "metadata": {},
   "outputs": [],
   "source": [
    "dsms = DSMS(env=\".env\")"
   ]
  },
  {
   "cell_type": "markdown",
   "metadata": {},
   "source": [
    "Then lets see the Kitem we are interested in to remove."
   ]
  },
  {
   "cell_type": "code",
   "execution_count": 3,
   "metadata": {},
   "outputs": [
    {
     "name": "stdout",
     "output_type": "stream",
     "text": [
      "KItem(\n",
      "\n",
      "\tname = Machine-1, \n",
      "\n",
      "\tid = dd091666-a7c9-4b3b-8832-910bdec5c63c, \n",
      "\n",
      "\tktype_id = testing-machine, \n",
      "\n",
      "\tin_backend = True, \n",
      "\n",
      "\tslug = machine-1-dd091666, \n",
      "\n",
      "\tannotations = [\n",
      "\t\t{\n",
      "\t\t\tiri: www.machinery.org/,\n",
      "\t\t\tname: ,\n",
      "\t\t\tnamespace: www.machinery.org,\n",
      "\t\t\tdescription: None\n",
      "\t\t}\n",
      "\t], \n",
      "\n",
      "\tattachments = [\n",
      "\t\t{\n",
      "\t\t\tname: testfile.txt\n",
      "\t\t}\n",
      "\t], \n",
      "\n",
      "\tlinked_kitems = [], \n",
      "\n",
      "\taffiliations = [\n",
      "\t\t{\n",
      "\t\t\tname: machine-team\n",
      "\t\t}\n",
      "\t], \n",
      "\n",
      "\tauthors = [\n",
      "\t\t{\n",
      "\t\t\tuser_id: 7f0e5a37-353b-4bbc-b1f1-b6ad575f562d\n",
      "\t\t}\n",
      "\t], \n",
      "\n",
      "\tavatar_exists = False, \n",
      "\n",
      "\tcontacts = [\n",
      "\t\t{\n",
      "\t\t\tname: machinesupport,\n",
      "\t\t\temail: machinesupport@group.mail,\n",
      "\t\t\tuser_id: None\n",
      "\t\t}\n",
      "\t], \n",
      "\n",
      "\tcreated_at = 2024-08-19 18:12:11.338394, \n",
      "\n",
      "\tupdated_at = 2024-08-19 18:12:11.338394, \n",
      "\n",
      "\texternal_links = [\n",
      "\t\t{\n",
      "\t\t\tlabel: machine-link,\n",
      "\t\t\turl: http://machine.org/\n",
      "\t\t}\n",
      "\t], \n",
      "\n",
      "\tkitem_apps = [], \n",
      "\n",
      "\tsummary = None, \n",
      "\n",
      "\tuser_groups = [\n",
      "\t\t{\n",
      "\t\t\tname: machinegroup,\n",
      "\t\t\tgroup_id: 123\n",
      "\t\t}\n",
      "\t], \n",
      "\n",
      "\tcustom_properties = {\n",
      "\t\tProducer: Machinery GmBH, \n",
      "\t\tLocation: A404, \n",
      "\t\tModel Number: Bending Test Machine No 777\n",
      "\t}, \n",
      "\n",
      "\tdataframe = None, \n",
      "\n",
      "\trdf_exists = False\n",
      ")\n"
     ]
    }
   ],
   "source": [
    "item = dsms.kitems[-1]\n",
    "print(item)"
   ]
  },
  {
   "cell_type": "markdown",
   "metadata": {},
   "source": [
    "### 4.2. Deletion of KItems and their properties"
   ]
  },
  {
   "cell_type": "markdown",
   "metadata": {},
   "source": [
    "We can also remove properties from the KItem without deleting the KItem itself.\n",
    "\n",
    "For the `list`-like properties, we can use the standard `list`-methods from basic Python again (e.g. `pop`, `remove`, etc. or the `del`-operator).\n",
    "\n",
    "For the other, non-`list`-like properties, we can simply use the attribute-assignment again.\n",
    "\n",
    "When we only want single parts of the properties in the KItem, we can do it like this:"
   ]
  },
  {
   "cell_type": "code",
   "execution_count": 4,
   "metadata": {},
   "outputs": [
    {
     "data": {
      "text/plain": [
       "{\n",
       "\t\t\tname: machinegroup,\n",
       "\t\t\tgroup_id: 123\n",
       "\t\t}"
      ]
     },
     "execution_count": 4,
     "metadata": {},
     "output_type": "execute_result"
    }
   ],
   "source": [
    "item.attachments.pop(0)\n",
    "item.annotations.pop(0)\n",
    "item.external_links.pop(0)\n",
    "item.contacts.pop(0)\n",
    "item.user_groups.pop(0)"
   ]
  },
  {
   "cell_type": "markdown",
   "metadata": {},
   "source": [
    "However, we can also reset the entire property by setting it to e.g. an empty list again:"
   ]
  },
  {
   "cell_type": "code",
   "execution_count": 5,
   "metadata": {},
   "outputs": [],
   "source": [
    "item.affiliations = []"
   ]
  },
  {
   "cell_type": "markdown",
   "metadata": {},
   "source": [
    "We can delete the custom properties by setting the property to an empty dict:"
   ]
  },
  {
   "cell_type": "code",
   "execution_count": 6,
   "metadata": {},
   "outputs": [],
   "source": [
    "item.custom_properties = {}"
   ]
  },
  {
   "cell_type": "markdown",
   "metadata": {},
   "source": [
    "Send the changes to the DSMS with the `commit`-method:"
   ]
  },
  {
   "cell_type": "code",
   "execution_count": 8,
   "metadata": {},
   "outputs": [],
   "source": [
    "dsms.commit()"
   ]
  },
  {
   "cell_type": "markdown",
   "metadata": {},
   "source": [
    "See the changes:"
   ]
  },
  {
   "cell_type": "code",
   "execution_count": 11,
   "metadata": {},
   "outputs": [
    {
     "data": {
      "text/plain": [
       "KItem(\n",
       "\n",
       "\tname = Machine-1, \n",
       "\n",
       "\tid = dd091666-a7c9-4b3b-8832-910bdec5c63c, \n",
       "\n",
       "\tktype_id = testing-machine, \n",
       "\n",
       "\tin_backend = True, \n",
       "\n",
       "\tslug = machine-1-dd091666, \n",
       "\n",
       "\tannotations = [], \n",
       "\n",
       "\tattachments = [], \n",
       "\n",
       "\tlinked_kitems = [], \n",
       "\n",
       "\taffiliations = [\n",
       "\t\t{\n",
       "\t\t\tname: machine-team\n",
       "\t\t}\n",
       "\t], \n",
       "\n",
       "\tauthors = [\n",
       "\t\t{\n",
       "\t\t\tuser_id: 7f0e5a37-353b-4bbc-b1f1-b6ad575f562d\n",
       "\t\t}\n",
       "\t], \n",
       "\n",
       "\tavatar_exists = False, \n",
       "\n",
       "\tcontacts = [\n",
       "\t\t{\n",
       "\t\t\tname: machinesupport,\n",
       "\t\t\temail: machinesupport@group.mail,\n",
       "\t\t\tuser_id: None\n",
       "\t\t}\n",
       "\t], \n",
       "\n",
       "\tcreated_at = 2024-08-19 18:12:11.338394, \n",
       "\n",
       "\tupdated_at = 2024-08-19 18:12:11.338394, \n",
       "\n",
       "\texternal_links = [\n",
       "\t\t{\n",
       "\t\t\tlabel: machine-link,\n",
       "\t\t\turl: http://machine.org/\n",
       "\t\t}\n",
       "\t], \n",
       "\n",
       "\tkitem_apps = [], \n",
       "\n",
       "\tsummary = None, \n",
       "\n",
       "\tuser_groups = [], \n",
       "\n",
       "\tcustom_properties = {\n",
       "\t\tid: dd091666-a7c9-4b3b-8832-910bdec5c63c, \n",
       "\t\tcontent: {}\n",
       "\t}, \n",
       "\n",
       "\tdataframe = None, \n",
       "\n",
       "\trdf_exists = False\n",
       ")"
      ]
     },
     "execution_count": 11,
     "metadata": {},
     "output_type": "execute_result"
    }
   ],
   "source": [
    "item"
   ]
  },
  {
   "cell_type": "markdown",
   "metadata": {},
   "source": [
    "However, we can also delete the whole KItem from the DSMS by applying the `del`-operator to the `dsms`-object with the individual `KItem`-object:"
   ]
  },
  {
   "cell_type": "code",
   "execution_count": 9,
   "metadata": {},
   "outputs": [],
   "source": [
    "del dsms[item]"
   ]
  },
  {
   "cell_type": "markdown",
   "metadata": {},
   "source": [
    "\n",
    "Commit the changes:"
   ]
  },
  {
   "cell_type": "code",
   "execution_count": 10,
   "metadata": {},
   "outputs": [],
   "source": [
    "dsms.commit()"
   ]
  },
  {
   "cell_type": "markdown",
   "metadata": {},
   "source": [
    "Now to check if the particular kitem was removed, we can do this by using the command:\n",
    "    `\n",
    "     dsms.kitems\n",
    "    `\n",
    "    or by logging into the frontend dsms instance."
   ]
  }
 ],
 "metadata": {
  "kernelspec": {
   "display_name": "sdk",
   "language": "python",
   "name": "python3"
  },
  "language_info": {
   "codemirror_mode": {
    "name": "ipython",
    "version": 3
   },
   "file_extension": ".py",
   "mimetype": "text/x-python",
   "name": "python",
   "nbconvert_exporter": "python",
   "pygments_lexer": "ipython3",
   "version": "3.10.12"
  }
 },
 "nbformat": 4,
 "nbformat_minor": 2
}
