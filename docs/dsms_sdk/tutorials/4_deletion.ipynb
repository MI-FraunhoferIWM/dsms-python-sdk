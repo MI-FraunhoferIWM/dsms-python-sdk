{
 "cells": [
  {
   "cell_type": "markdown",
   "metadata": {},
   "source": [
    "# 4. Deleting KItems with the SDK\n",
    "\n",
    "In this tutorial we see how to delete new Kitems and their properties."
   ]
  },
  {
   "cell_type": "markdown",
   "metadata": {},
   "source": [
    "### 4.1. Setting up\n",
    "\n",
    "Before you run this tutorial: make sure to have access to a DSMS-instance of your interest, alongwith with installation of this package and have establised access to the DSMS through DSMS-SDK (refer to [Connecting to DSMS](../dsms_sdk.md#connecting-to-dsms))\n",
    "\n",
    "Now let us import the needed classes and functions for this tutorial."
   ]
  },
  {
   "cell_type": "code",
   "execution_count": 1,
   "metadata": {},
   "outputs": [],
   "source": [
    "from dsms import DSMS, KItem"
   ]
  },
  {
   "cell_type": "markdown",
   "metadata": {},
   "source": [
    "Now source the environmental variables from an `.env` file and start the DSMS-session."
   ]
  },
  {
   "cell_type": "code",
   "execution_count": 2,
   "metadata": {},
   "outputs": [],
   "source": [
    "dsms = DSMS(env=\".env\")"
   ]
  },
  {
   "cell_type": "markdown",
   "metadata": {},
   "source": [
    "Then lets see the Kitem we are interested in to remove."
   ]
  },
  {
   "cell_type": "code",
   "execution_count": 3,
   "metadata": {},
   "outputs": [],
   "source": [
    "item = dsms[\"8a0b398d-b566-431a-b069-dc8195582baf\"]"
   ]
  },
  {
   "cell_type": "markdown",
   "metadata": {},
   "source": [
    "### 4.2. Deletion of KItems and their properties"
   ]
  },
  {
   "cell_type": "markdown",
   "metadata": {},
   "source": [
    "We can also remove properties from the KItem without deleting the KItem itself.\n",
    "\n",
    "For the `list`-like properties, we can use the standard `list`-methods from basic Python again (e.g. `pop`, `remove`, etc. or the `del`-operator).\n",
    "\n",
    "For the other, non-`list`-like properties, we can simply use the attribute-assignment again.\n",
    "\n",
    "When we only want single parts of the properties in the KItem, we can do it like this:"
   ]
  },
  {
   "cell_type": "code",
   "execution_count": 4,
   "metadata": {},
   "outputs": [
    {
     "data": {
      "text/plain": [
       "ContactInfo(name='Specimen preparation', email='specimenpreparation@group.mail', user_id=None)"
      ]
     },
     "execution_count": 4,
     "metadata": {},
     "output_type": "execute_result"
    }
   ],
   "source": [
    "item.attachments.pop(0)\n",
    "item.annotations.pop(0)\n",
    "item.external_links.pop(0)\n",
    "item.contacts.pop(0)"
   ]
  },
  {
   "cell_type": "markdown",
   "metadata": {},
   "source": [
    "However, we can also reset the entire property by setting it to e.g. an empty list again:"
   ]
  },
  {
   "cell_type": "code",
   "execution_count": 5,
   "metadata": {},
   "outputs": [],
   "source": [
    "item.affiliations = []"
   ]
  },
  {
   "cell_type": "markdown",
   "metadata": {},
   "source": [
    "Send the changes to the DSMS with the `commit`-method:"
   ]
  },
  {
   "cell_type": "code",
   "execution_count": 6,
   "metadata": {},
   "outputs": [],
   "source": [
    "dsms.add(item)\n",
    "dsms.commit()"
   ]
  },
  {
   "cell_type": "markdown",
   "metadata": {},
   "source": [
    "See the changes:"
   ]
  },
  {
   "cell_type": "code",
   "execution_count": 7,
   "metadata": {},
   "outputs": [
    {
     "data": {
      "text/plain": [
       "kitem:\n",
       "  name: Specimen-123\n",
       "  id: 8a0b398d-b566-431a-b069-dc8195582baf\n",
       "  ktype_id: specimen\n",
       "  slug: specimen123-8a0b398d\n",
       "  annotations: []\n",
       "  attachments:\n",
       "  - name: testfile.txt\n",
       "  linked_kitems: []\n",
       "  affiliations: []\n",
       "  authors:\n",
       "  - user_id: 7f0e5a37-353b-4bbc-b1f1-b6ad575f562d\n",
       "  avatar_exists: false\n",
       "  contacts:\n",
       "  - name: Specimen preparation\n",
       "    email: specimenpreparation@group.mail\n",
       "  created_at: 2025-04-09 10:25:31.657456\n",
       "  updated_at: 2025-04-09 10:27:53.802242\n",
       "  external_links:\n",
       "  - label: specimen-link\n",
       "    url: http://specimens.org\n",
       "  kitem_apps: []\n",
       "  user_groups: []\n",
       "  custom_properties:\n",
       "    content:\n",
       "      sections:\n",
       "      - id: id0595fb5f1853a8\n",
       "        name: Untitled Section\n",
       "        entries:\n",
       "        - id: idba92210e193128\n",
       "          type: Number\n",
       "          label: Width\n",
       "          value: 1\n",
       "          measurementUnit:\n",
       "            iri: http://qudt.org/vocab/unit/MilliM\n",
       "            label: Millimetre\n",
       "            symbol: null\n",
       "            namespace: http://qudt.org/vocab/unit\n",
       "          relationMapping: null\n",
       "          required: false\n",
       "        - id: ida08bcc9977e388\n",
       "          type: Slider\n",
       "          label: Length\n",
       "          value:\n",
       "          - 0.1\n",
       "          - 0.2\n",
       "          measurementUnit:\n",
       "            iri: http://qudt.org/vocab/unit/MilliM\n",
       "            label: Millimetre\n",
       "            symbol: null\n",
       "            namespace: http://qudt.org/vocab/unit\n",
       "          relationMapping: null\n",
       "          required: false\n",
       "  rdf_exists: true"
      ]
     },
     "execution_count": 7,
     "metadata": {},
     "output_type": "execute_result"
    }
   ],
   "source": [
    "item"
   ]
  },
  {
   "cell_type": "markdown",
   "metadata": {},
   "source": [
    "However, we can also delete the whole KItem from the DSMS by applying the `del`-operator to the `dsms`-object with the individual `KItem`-object:"
   ]
  },
  {
   "cell_type": "code",
   "execution_count": 8,
   "metadata": {},
   "outputs": [],
   "source": [
    "del dsms[item]"
   ]
  },
  {
   "cell_type": "markdown",
   "metadata": {},
   "source": [
    "\n",
    "Commit the changes:"
   ]
  },
  {
   "cell_type": "code",
   "execution_count": 9,
   "metadata": {},
   "outputs": [],
   "source": [
    "dsms.commit()"
   ]
  },
  {
   "cell_type": "markdown",
   "metadata": {},
   "source": [
    "Now to check if the particular kitem was removed, we can do this by using the command:\n",
    "    `\n",
    "     dsms.kitems\n",
    "    `\n",
    "    or by logging into the frontend dsms instance."
   ]
  }
 ],
 "metadata": {
  "kernelspec": {
   "display_name": "Python 3",
   "language": "python",
   "name": "python3"
  },
  "language_info": {
   "codemirror_mode": {
    "name": "ipython",
    "version": 3
   },
   "file_extension": ".py",
   "mimetype": "text/x-python",
   "name": "python",
   "nbconvert_exporter": "python",
   "pygments_lexer": "ipython3",
   "version": "3.10.15"
  }
 },
 "nbformat": 4,
 "nbformat_minor": 2
}
