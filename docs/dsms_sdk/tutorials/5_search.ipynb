{
 "cells": [
  {
   "cell_type": "markdown",
   "metadata": {},
   "source": [
    "# 5. Searching KItems with the SDK\n",
    "\n",
    "In this tutorial we see how to search existing Kitems"
   ]
  },
  {
   "cell_type": "markdown",
   "metadata": {},
   "source": [
    "### 5.1. Setting up\n",
    "Before you run this tutorial: make sure to have access to a DSMS-instance of your interest, alongwith with installation of this package and have establised access to the DSMS through DSMS-SDK (refer to [Connecting to DSMS](../dsms_sdk.md#connecting-to-dsms))\n",
    "\n",
    "\n",
    "Now let us import the needed classes and functions for this tutorial."
   ]
  },
  {
   "cell_type": "code",
   "execution_count": 1,
   "metadata": {},
   "outputs": [],
   "source": [
    "from dsms import DSMS, KItem"
   ]
  },
  {
   "cell_type": "markdown",
   "metadata": {},
   "source": [
    "Now source the environmental variables from an `.env` file and start the DSMS-session."
   ]
  },
  {
   "cell_type": "code",
   "execution_count": 2,
   "metadata": {},
   "outputs": [],
   "source": [
    "dsms = DSMS(env=\".env\")"
   ]
  },
  {
   "cell_type": "markdown",
   "metadata": {},
   "source": [
    "### 5.2. Searching for KItems"
   ]
  },
  {
   "cell_type": "markdown",
   "metadata": {},
   "source": [
    "In this section, we would like to search for specfic KItems we created in the DSMS.\n",
    "\n",
    "For this purpose, we will firstly create some KItems and apply the `search`-method on the `DSMS`-object later on in order to find them again in the DSMS.\n",
    "\n",
    "We also want to demonstrate here, that we can link KItems to each other in order to find e.g. a related item of type `DatasetCatalog`. For this strategy, we are using the `linked_kitems`- attribute and the `id` of the item which we would like to link.\n",
    "\n",
    "The procedure looks like this:"
   ]
  },
  {
   "cell_type": "code",
   "execution_count": 3,
   "metadata": {},
   "outputs": [
    {
     "name": "stderr",
     "output_type": "stream",
     "text": [
      "/app/dsms/knowledge/kitem.py:406: UserWarning: A flat dictionary was provided for custom properties.\n",
      "                    Will be transformed into `KItemCustomPropertiesModel`.\n",
      "  warnings.warn(\n",
      "/app/dsms/knowledge/kitem.py:306: UserWarning: Found a <class 'dsms.knowledge.kitem.KItem'> to be linked instead of an <class 'dsms.knowledge.properties.linked_kitems.KItemRelationshipModel'>. Will link it with the default relationship 'dcterms:haspart'.\n",
      "  warnings.warn(\n",
      "/usr/local/lib/python3.11/site-packages/pydantic/main.py:463: UserWarning: Pydantic serializer warnings:\n",
      "  PydanticSerializationUnexpectedValue(Expected `str` - serialized value may not be as expected [input_value=False, input_type=bool])\n",
      "  return self.__pydantic_serializer__.to_python(\n",
      "/app/dsms/knowledge/kitem.py:692: UserWarning: No webform was defined for entry `Producer`. Cannot check if value is of correct type.\n",
      "  warnings.warn(\n",
      "/app/dsms/knowledge/kitem.py:692: UserWarning: No webform was defined for entry `Room Number`. Cannot check if value is of correct type.\n",
      "  warnings.warn(\n",
      "/app/dsms/knowledge/kitem.py:692: UserWarning: No webform was defined for entry `Description`. Cannot check if value is of correct type.\n",
      "  warnings.warn(\n"
     ]
    }
   ],
   "source": [
    "item1 = KItem(\n",
    "    name=\"Machine-1\",\n",
    "    ktype_id=dsms.ktypes.Testingmachine,\n",
    "    annotations=[\"https://w3id.org/steel/ProcessOntology/TestingMachine\"],\n",
    "    custom_properties={\"Producer\": \"TestingLab GmBH\",\n",
    "                       \"Room Number\": \"A404\",\n",
    "                       \"Description\": \"Bending Test Machine\"\n",
    "                       }\n",
    ")\n",
    "\n",
    "item2 = KItem(\n",
    "    name=\"Machine-2\",\n",
    "    ktype_id=dsms.ktypes.Testingmachine,\n",
    "    annotations=[\"https://w3id.org/steel/ProcessOntology/TestingMachine\"],\n",
    "    custom_properties={\"Producer\": \"StressStrain GmBH\",\n",
    "                       \"Room Number\": \"B500\",\n",
    "                       \"Description\": \"Compression Test Machine\"\n",
    "                       }\n",
    ")\n",
    "\n",
    "item3 = KItem(\n",
    "    name=\"Specimen-1\", \n",
    "    ktype_id=dsms.ktypes.Specimen,\n",
    "    linked_kitems=[item1],\n",
    "    annotations=[\"https://w3id.org/steel/ProcessOntology/TestPiece\"],\n",
    "    custom_properties = {\n",
    "        \"Width\": 0.5,\n",
    "        \"Length\": [0.1, 0.2],\n",
    "    }\n",
    "\n",
    ")\n",
    "item4 = KItem(\n",
    "    name=\"Specimen-2\",\n",
    "    ktype_id=dsms.ktypes.Specimen,\n",
    "    linked_kitems=[item2],\n",
    "    annotations=[\"https://w3id.org/steel/ProcessOntology/TestPiece\"],\n",
    "    custom_properties = {\n",
    "        \"Width\": 0.8,\n",
    "        \"Length\": [0.8, 0.9],\n",
    "    }\n",
    ")\n",
    "\n",
    "item5 = KItem(\n",
    "    name=\"Research Institute ABC\",\n",
    "    ktype_id=dsms.ktypes.Organization,\n",
    "    linked_kitems=[item1,item2],\n",
    "    annotations=[\"www.researchBACiri.org/foo\"],\n",
    ")\n",
    "\n",
    "dsms.add([item1, item2, item3, item4, item5])\n",
    "dsms.commit()"
   ]
  },
  {
   "cell_type": "markdown",
   "metadata": {},
   "source": [
    "\n",
    "<b> <p style=\"color:red;\">Note : Here in this tutorial, we use dsms.search with `limit=1` to maintain readability but the user can adjust the variable `limit` as per requirement. </p>    </b> \n",
    "\n",
    "\n",
    "Now, we are apply to search for e.g. kitems of type `TestingMachine`:"
   ]
  },
  {
   "cell_type": "code",
   "execution_count": 4,
   "metadata": {},
   "outputs": [
    {
     "name": "stdout",
     "output_type": "stream",
     "text": [
      "hits:\n",
      "- kitem:\n",
      "    id: 14e9a531-7f91-4dd5-a72d-f8753a84d1ab\n",
      "    name: Specimen123\n",
      "    ktype_id: specimen\n",
      "    slug: specimen123-14e9a531\n",
      "    annotations: []\n",
      "    attachments:\n",
      "    - name: subgraph.ttl\n",
      "    linked_kitems: []\n",
      "    affiliations: []\n",
      "    authors:\n",
      "    - user_id: 7f0e5a37-353b-4bbc-b1f1-b6ad575f562d\n",
      "    avatar_exists: false\n",
      "    contacts: []\n",
      "    created_at: 2025-08-12 14:41:51.234220\n",
      "    updated_at: 2025-08-12 14:41:51.234220\n",
      "    external_links: []\n",
      "    apps: []\n",
      "    user_groups: []\n",
      "    custom_properties:\n",
      "      content:\n",
      "        sections:\n",
      "        - id: idb424123144cdd8\n",
      "          name: Untitled Section\n",
      "          entries:\n",
      "          - id: id6c76bbffe7ca78\n",
      "            type: Number\n",
      "            label: Width\n",
      "            value: 0.5\n",
      "            measurementUnit:\n",
      "              iri: http://qudt.org/vocab/unit/MilliM\n",
      "              label: Millimetre\n",
      "              symbol: null\n",
      "              namespace: http://qudt.org/vocab/unit\n",
      "            relationMapping: null\n",
      "            required: false\n",
      "          - id: id717d07130a7618\n",
      "            type: Slider\n",
      "            label: Length\n",
      "            value:\n",
      "            - 0.1\n",
      "            - 0.2\n",
      "            measurementUnit:\n",
      "              iri: http://qudt.org/vocab/unit/MilliM\n",
      "              label: Millimetre\n",
      "              symbol: null\n",
      "              namespace: http://qudt.org/vocab/unit\n",
      "            relationMapping: null\n",
      "            required: false\n",
      "    rdf_exists: true\n",
      "    contexts: []\n",
      "  fuzzy: false\n",
      "- kitem:\n",
      "    id: 1f3694d3-4624-45b8-9182-3bf88c6511f9\n",
      "    name: Specimen-123\n",
      "    ktype_id: specimen\n",
      "    slug: specimen123-1f3694d3\n",
      "    annotations:\n",
      "    - iri: https://w3id.org/pmd/co/Specimen\n",
      "      label: Specimen\n",
      "      namespace: https://w3id.org/pmd/co\n",
      "    attachments:\n",
      "    - name: subgraph.ttl\n",
      "    - name: testfile.txt\n",
      "    linked_kitems: []\n",
      "    affiliations: []\n",
      "    authors:\n",
      "    - user_id: 7f0e5a37-353b-4bbc-b1f1-b6ad575f562d\n",
      "    avatar_exists: false\n",
      "    contacts:\n",
      "    - name: Specimen preparation\n",
      "      email: specimenpreparation@group.mail\n",
      "    created_at: 2025-08-13 13:08:52.481587\n",
      "    updated_at: 2025-08-13 14:23:47.730855\n",
      "    external_links:\n",
      "    - label: specimen-link\n",
      "      url: http://specimens.org\n",
      "    apps: []\n",
      "    user_groups: []\n",
      "    custom_properties:\n",
      "      content:\n",
      "        sections:\n",
      "        - id: idb424123144cdd8\n",
      "          name: Untitled Section\n",
      "          entries:\n",
      "          - id: id6c76bbffe7ca78\n",
      "            type: Number\n",
      "            label: Width\n",
      "            value: 1\n",
      "            measurementUnit:\n",
      "              iri: http://qudt.org/vocab/unit/MilliM\n",
      "              label: Millimetre\n",
      "              symbol: null\n",
      "              namespace: http://qudt.org/vocab/unit\n",
      "            relationMapping: null\n",
      "            required: false\n",
      "          - id: id717d07130a7618\n",
      "            type: Slider\n",
      "            label: Length\n",
      "            value:\n",
      "            - 0.1\n",
      "            - 0.2\n",
      "            measurementUnit:\n",
      "              iri: http://qudt.org/vocab/unit/MilliM\n",
      "              label: Millimetre\n",
      "              symbol: null\n",
      "              namespace: http://qudt.org/vocab/unit\n",
      "            relationMapping: null\n",
      "            required: false\n",
      "    rdf_exists: true\n",
      "    contexts: []\n",
      "  fuzzy: false\n",
      "total_count: 5\n",
      "\n",
      "Name of the first kitem:\n",
      "Specimen123\n"
     ]
    }
   ],
   "source": [
    "result = dsms.search(ktypes=[dsms.ktypes.Specimen], limit=2)\n",
    "print(result)\n",
    "print(\"Name of the first kitem:\")\n",
    "print(result.hits[0].kitem.name)"
   ]
  },
  {
   "cell_type": "markdown",
   "metadata": {},
   "source": [
    "... and for all of type `Organization` and `Testingmachine`:"
   ]
  },
  {
   "cell_type": "code",
   "execution_count": 5,
   "metadata": {},
   "outputs": [
    {
     "name": "stdout",
     "output_type": "stream",
     "text": [
      "kitem:\n",
      "  id: 4d587532-4275-4f4f-9d19-e199d9452d13\n",
      "  name: Research Institute ABC\n",
      "  ktype_id: organization\n",
      "  slug: researchinstituteabc-4d587532\n",
      "  annotations:\n",
      "  - iri: www.researchBACiri.org/foo\n",
      "    label: foo\n",
      "    namespace: www.researchBACiri.org\n",
      "  attachments:\n",
      "  - name: subgraph.ttl\n",
      "  linked_kitems:\n",
      "  - is_incoming: false\n",
      "    label: Has Part\n",
      "    kitem:\n",
      "      id: 0f89d6ad-3446-4d8a-9f27-39a69bcffeee\n",
      "      name: Machine-1\n",
      "      ktype_id: testingmachine\n",
      "      slug: machine-1-0f89d6ad\n",
      "    iri: http://purl.org/dc/terms/hasPart\n",
      "  - is_incoming: false\n",
      "    label: Has Part\n",
      "    kitem:\n",
      "      id: 2cf0aea2-b4c2-40b0-a786-bcf00ddb1991\n",
      "      name: Machine-2\n",
      "      ktype_id: testingmachine\n",
      "      slug: machine-2-2cf0aea2\n",
      "    iri: http://purl.org/dc/terms/hasPart\n",
      "  affiliations: []\n",
      "  authors:\n",
      "  - user_id: 7f0e5a37-353b-4bbc-b1f1-b6ad575f562d\n",
      "  avatar_exists: false\n",
      "  contacts: []\n",
      "  created_at: 2025-08-13 14:33:33.681221\n",
      "  updated_at: 2025-08-13 14:33:33.681221\n",
      "  external_links: []\n",
      "  apps: []\n",
      "  user_groups: []\n",
      "  rdf_exists: true\n",
      "  contexts: []\n",
      "\n",
      "fuzziness:  False\n",
      "\n",
      "\n",
      "kitem:\n",
      "  id: 0f89d6ad-3446-4d8a-9f27-39a69bcffeee\n",
      "  name: Machine-1\n",
      "  ktype_id: testingmachine\n",
      "  slug: machine-1-0f89d6ad\n",
      "  annotations:\n",
      "  - iri: https://w3id.org/steel/ProcessOntology/TestingMachine\n",
      "    label: TestingMachine\n",
      "    namespace: https://w3id.org/steel/ProcessOntology\n",
      "  attachments: []\n",
      "  linked_kitems:\n",
      "  - is_incoming: true\n",
      "    label: Has Part\n",
      "    kitem:\n",
      "      id: 4d587532-4275-4f4f-9d19-e199d9452d13\n",
      "      name: Research Institute ABC\n",
      "      ktype_id: organization\n",
      "      slug: researchinstituteabc-4d587532\n",
      "    iri: http://purl.org/dc/terms/hasPart\n",
      "  - is_incoming: true\n",
      "    label: Has Part\n",
      "    kitem:\n",
      "      id: d1ce4f7e-223b-4086-b5e5-11017f47270d\n",
      "      name: Specimen-1\n",
      "      ktype_id: specimen\n",
      "      slug: specimen-1-d1ce4f7e\n",
      "    iri: http://purl.org/dc/terms/hasPart\n",
      "  affiliations: []\n",
      "  authors:\n",
      "  - user_id: 7f0e5a37-353b-4bbc-b1f1-b6ad575f562d\n",
      "  avatar_exists: false\n",
      "  contacts: []\n",
      "  created_at: 2025-08-13 14:33:29.742517\n",
      "  updated_at: 2025-08-13 14:33:29.742517\n",
      "  external_links: []\n",
      "  apps: []\n",
      "  user_groups: []\n",
      "  custom_properties:\n",
      "    content:\n",
      "      sections:\n",
      "      - id: id17550956094374867vv\n",
      "        name: Misc\n",
      "        entries:\n",
      "        - id: id1755095609437i4mybj\n",
      "          type: Text\n",
      "          label: Producer\n",
      "          value: TestingLab GmBH\n",
      "          measurementUnit: null\n",
      "          relationMapping: null\n",
      "          required: false\n",
      "        - id: id1755095609437hd07kh\n",
      "          type: Text\n",
      "          label: Room Number\n",
      "          value: A404\n",
      "          measurementUnit: null\n",
      "          relationMapping: null\n",
      "          required: false\n",
      "        - id: id17550956094377bpur4\n",
      "          type: Text\n",
      "          label: Description\n",
      "          value: Bending Test Machine\n",
      "          measurementUnit: null\n",
      "          relationMapping: null\n",
      "          required: false\n",
      "  rdf_exists: false\n",
      "  contexts: []\n",
      "\n",
      "fuzziness:  False\n",
      "\n",
      "\n"
     ]
    }
   ],
   "source": [
    "for result in dsms.search(ktypes=[dsms.ktypes.Organization, dsms.ktypes.Testingmachine], limit=2):\n",
    "    print(result.kitem)\n",
    "    print(\"fuzziness: \", result.fuzzy)\n",
    "    print(\"\\n\")\n",
    "    "
   ]
  },
  {
   "cell_type": "markdown",
   "metadata": {},
   "source": [
    "... or for all of type `Specimen` with `Specimen-1` in the name (Please note that the `allow_fuzzy` is set the `False` in order to get only exact matches):"
   ]
  },
  {
   "cell_type": "code",
   "execution_count": 6,
   "metadata": {},
   "outputs": [
    {
     "name": "stdout",
     "output_type": "stream",
     "text": [
      "kitem:\n",
      "  id: 1f3694d3-4624-45b8-9182-3bf88c6511f9\n",
      "  name: Specimen-123\n",
      "  ktype_id: specimen\n",
      "  slug: specimen123-1f3694d3\n",
      "  annotations:\n",
      "  - iri: https://w3id.org/pmd/co/Specimen\n",
      "    label: Specimen\n",
      "    namespace: https://w3id.org/pmd/co\n",
      "  attachments:\n",
      "  - name: subgraph.ttl\n",
      "  - name: testfile.txt\n",
      "  linked_kitems: []\n",
      "  affiliations: []\n",
      "  authors:\n",
      "  - user_id: 7f0e5a37-353b-4bbc-b1f1-b6ad575f562d\n",
      "  avatar_exists: false\n",
      "  contacts:\n",
      "  - name: Specimen preparation\n",
      "    email: specimenpreparation@group.mail\n",
      "  created_at: 2025-08-13 13:08:52.481587\n",
      "  updated_at: 2025-08-13 14:23:47.730855\n",
      "  external_links:\n",
      "  - label: specimen-link\n",
      "    url: http://specimens.org\n",
      "  apps: []\n",
      "  user_groups: []\n",
      "  custom_properties:\n",
      "    content:\n",
      "      sections:\n",
      "      - id: idb424123144cdd8\n",
      "        name: Untitled Section\n",
      "        entries:\n",
      "        - id: id6c76bbffe7ca78\n",
      "          type: Number\n",
      "          label: Width\n",
      "          value: 1\n",
      "          measurementUnit:\n",
      "            iri: http://qudt.org/vocab/unit/MilliM\n",
      "            label: Millimetre\n",
      "            symbol: null\n",
      "            namespace: http://qudt.org/vocab/unit\n",
      "          relationMapping: null\n",
      "          required: false\n",
      "        - id: id717d07130a7618\n",
      "          type: Slider\n",
      "          label: Length\n",
      "          value:\n",
      "          - 0.1\n",
      "          - 0.2\n",
      "          measurementUnit:\n",
      "            iri: http://qudt.org/vocab/unit/MilliM\n",
      "            label: Millimetre\n",
      "            symbol: null\n",
      "            namespace: http://qudt.org/vocab/unit\n",
      "          relationMapping: null\n",
      "          required: false\n",
      "  rdf_exists: true\n",
      "  contexts: []\n",
      "fuzzy: false\n",
      "\n"
     ]
    }
   ],
   "source": [
    "for result in dsms.search(query=\"Specimen-1\", ktypes=[dsms.ktypes.Specimen], allow_fuzzy=False, limit=1):\n",
    "    print(result)"
   ]
  },
  {
   "cell_type": "markdown",
   "metadata": {},
   "source": [
    "... and for all of type `Organization` with the annotation `www.researchBACiri.org/foo`:"
   ]
  },
  {
   "cell_type": "code",
   "execution_count": 7,
   "metadata": {},
   "outputs": [
    {
     "name": "stdout",
     "output_type": "stream",
     "text": [
      "kitem:\n",
      "  id: 4d587532-4275-4f4f-9d19-e199d9452d13\n",
      "  name: Research Institute ABC\n",
      "  ktype_id: organization\n",
      "  slug: researchinstituteabc-4d587532\n",
      "  annotations:\n",
      "  - iri: www.researchBACiri.org/foo\n",
      "    label: foo\n",
      "    namespace: www.researchBACiri.org\n",
      "  attachments:\n",
      "  - name: subgraph.ttl\n",
      "  linked_kitems:\n",
      "  - is_incoming: false\n",
      "    label: Has Part\n",
      "    kitem:\n",
      "      id: 2cf0aea2-b4c2-40b0-a786-bcf00ddb1991\n",
      "      name: Machine-2\n",
      "      ktype_id: testingmachine\n",
      "      slug: machine-2-2cf0aea2\n",
      "    iri: http://purl.org/dc/terms/hasPart\n",
      "  - is_incoming: false\n",
      "    label: Has Part\n",
      "    kitem:\n",
      "      id: 0f89d6ad-3446-4d8a-9f27-39a69bcffeee\n",
      "      name: Machine-1\n",
      "      ktype_id: testingmachine\n",
      "      slug: machine-1-0f89d6ad\n",
      "    iri: http://purl.org/dc/terms/hasPart\n",
      "  affiliations: []\n",
      "  authors:\n",
      "  - user_id: 7f0e5a37-353b-4bbc-b1f1-b6ad575f562d\n",
      "  avatar_exists: false\n",
      "  contacts: []\n",
      "  created_at: 2025-08-13 14:33:33.681221\n",
      "  updated_at: 2025-08-13 14:33:33.681221\n",
      "  external_links: []\n",
      "  apps: []\n",
      "  user_groups: []\n",
      "  rdf_exists: true\n",
      "  contexts: []\n",
      "fuzzy: false\n",
      "\n"
     ]
    }
   ],
   "source": [
    "for result in dsms.search(\n",
    "          ktypes=[dsms.ktypes.Organization], annotations=[\"www.researchBACiri.org/foo\"], allow_fuzzy=False, limit=1\n",
    "    ):\n",
    "    print(result)\n"
   ]
  },
  {
   "cell_type": "markdown",
   "metadata": {},
   "source": [
    "## 5.3. Fetching linked KItems from a KItem"
   ]
  },
  {
   "cell_type": "markdown",
   "metadata": {},
   "source": [
    "In the beginning under **5.1** we created some kitems and linked each other. Now we want to fetch the linked kitems and display them to the user. For this we use the `linked_kitems` attribute."
   ]
  },
  {
   "cell_type": "code",
   "execution_count": 8,
   "metadata": {},
   "outputs": [
    {
     "data": {
      "text/plain": [
       "- is_incoming: false\n",
       "  label: Has Part\n",
       "  kitem:\n",
       "    id: 2cf0aea2-b4c2-40b0-a786-bcf00ddb1991\n",
       "    name: Machine-2\n",
       "    ktype_id: testingmachine\n",
       "    slug: machine-2-2cf0aea2\n",
       "  iri: http://purl.org/dc/terms/hasPart\n",
       "- is_incoming: false\n",
       "  label: Has Part\n",
       "  kitem:\n",
       "    id: 0f89d6ad-3446-4d8a-9f27-39a69bcffeee\n",
       "    name: Machine-1\n",
       "    ktype_id: testingmachine\n",
       "    slug: machine-1-0f89d6ad\n",
       "  iri: http://purl.org/dc/terms/hasPart"
      ]
     },
     "execution_count": 8,
     "metadata": {},
     "output_type": "execute_result"
    }
   ],
   "source": [
    "item5.linked_kitems"
   ]
  },
  {
   "cell_type": "markdown",
   "metadata": {},
   "source": [
    "However, this linked KItem is not a \"real\" KItem. Due to performance reasons, we only display a slim representation of the linked KItem. Imagine if the linked KItem also has a linked KItem... this might lead to an infinite recursion. We can fetch the \"real\" KItem by using the `fetch` method of the linked KItem:\n"
   ]
  },
  {
   "cell_type": "code",
   "execution_count": 9,
   "metadata": {},
   "outputs": [
    {
     "data": {
      "text/plain": [
       "kitem:\n",
       "  id: 2cf0aea2-b4c2-40b0-a786-bcf00ddb1991\n",
       "  name: Machine-2\n",
       "  ktype_id: testingmachine\n",
       "  slug: machine-2-2cf0aea2\n",
       "  annotations:\n",
       "  - iri: https://w3id.org/steel/ProcessOntology/TestingMachine\n",
       "    label: TestingMachine\n",
       "    namespace: https://w3id.org/steel/ProcessOntology\n",
       "  attachments: []\n",
       "  linked_kitems: []\n",
       "  affiliations: []\n",
       "  authors:\n",
       "  - user_id: 7f0e5a37-353b-4bbc-b1f1-b6ad575f562d\n",
       "  avatar_exists: false\n",
       "  contacts: []\n",
       "  created_at: 2025-08-13 14:33:30.358137\n",
       "  updated_at: 2025-08-13 14:33:30.358137\n",
       "  external_links: []\n",
       "  apps: []\n",
       "  user_groups: []\n",
       "  custom_properties:\n",
       "    content:\n",
       "      sections:\n",
       "      - id: id1755095609461z4tdh1\n",
       "        name: Misc\n",
       "        entries:\n",
       "        - id: id1755095609461bqgrqv\n",
       "          type: Text\n",
       "          label: Producer\n",
       "          value: StressStrain GmBH\n",
       "          measurementUnit: null\n",
       "          relationMapping: null\n",
       "          required: false\n",
       "        - id: id17550956094616vktvr\n",
       "          type: Text\n",
       "          label: Room Number\n",
       "          value: B500\n",
       "          measurementUnit: null\n",
       "          relationMapping: null\n",
       "          required: false\n",
       "        - id: id1755095609461dhszfo\n",
       "          type: Text\n",
       "          label: Description\n",
       "          value: Compression Test Machine\n",
       "          measurementUnit: null\n",
       "          relationMapping: null\n",
       "          required: false\n",
       "  rdf_exists: false\n",
       "  contexts: []"
      ]
     },
     "execution_count": 9,
     "metadata": {},
     "output_type": "execute_result"
    }
   ],
   "source": [
    "item5.linked_kitems[0].fetch()"
   ]
  },
  {
   "cell_type": "markdown",
   "metadata": {},
   "source": [
    "We can retrieve the linked KItem by the IRI of the relation:"
   ]
  },
  {
   "cell_type": "code",
   "execution_count": 10,
   "metadata": {},
   "outputs": [
    {
     "data": {
      "text/plain": [
       "{'http://purl.org/dc/terms/hasPart': [kitem:\n",
       "    id: 2cf0aea2-b4c2-40b0-a786-bcf00ddb1991\n",
       "    name: Machine-2\n",
       "    ktype_id: testingmachine\n",
       "    slug: machine-2-2cf0aea2,\n",
       "  kitem:\n",
       "    id: 0f89d6ad-3446-4d8a-9f27-39a69bcffeee\n",
       "    name: Machine-1\n",
       "    ktype_id: testingmachine\n",
       "    slug: machine-1-0f89d6ad]}"
      ]
     },
     "execution_count": 10,
     "metadata": {},
     "output_type": "execute_result"
    }
   ],
   "source": [
    "item5.linked_kitems.by_relation"
   ]
  },
  {
   "cell_type": "code",
   "execution_count": 11,
   "metadata": {},
   "outputs": [
    {
     "data": {
      "text/plain": [
       "kitem:\n",
       "  id: 2cf0aea2-b4c2-40b0-a786-bcf00ddb1991\n",
       "  name: Machine-2\n",
       "  ktype_id: testingmachine\n",
       "  slug: machine-2-2cf0aea2\n",
       "  annotations:\n",
       "  - iri: https://w3id.org/steel/ProcessOntology/TestingMachine\n",
       "    label: TestingMachine\n",
       "    namespace: https://w3id.org/steel/ProcessOntology\n",
       "  attachments: []\n",
       "  linked_kitems: []\n",
       "  affiliations: []\n",
       "  authors:\n",
       "  - user_id: 7f0e5a37-353b-4bbc-b1f1-b6ad575f562d\n",
       "  avatar_exists: false\n",
       "  contacts: []\n",
       "  created_at: 2025-08-13 14:33:30.358137\n",
       "  updated_at: 2025-08-13 14:33:30.358137\n",
       "  external_links: []\n",
       "  apps: []\n",
       "  user_groups: []\n",
       "  custom_properties:\n",
       "    content:\n",
       "      sections:\n",
       "      - id: id1755095609461z4tdh1\n",
       "        name: Misc\n",
       "        entries:\n",
       "        - id: id1755095609461bqgrqv\n",
       "          type: Text\n",
       "          label: Producer\n",
       "          value: StressStrain GmBH\n",
       "          measurementUnit: null\n",
       "          relationMapping: null\n",
       "          required: false\n",
       "        - id: id17550956094616vktvr\n",
       "          type: Text\n",
       "          label: Room Number\n",
       "          value: B500\n",
       "          measurementUnit: null\n",
       "          relationMapping: null\n",
       "          required: false\n",
       "        - id: id1755095609461dhszfo\n",
       "          type: Text\n",
       "          label: Description\n",
       "          value: Compression Test Machine\n",
       "          measurementUnit: null\n",
       "          relationMapping: null\n",
       "          required: false\n",
       "  rdf_exists: false\n",
       "  contexts: []"
      ]
     },
     "execution_count": 11,
     "metadata": {},
     "output_type": "execute_result"
    }
   ],
   "source": [
    "item5.linked_kitems.by_relation[\"http://purl.org/dc/terms/hasPart\"][0].fetch()\n"
   ]
  },
  {
   "cell_type": "markdown",
   "metadata": {},
   "source": [
    "Additionally, we can retrieve the linked KItems grouped by ktype:"
   ]
  },
  {
   "cell_type": "code",
   "execution_count": 12,
   "metadata": {},
   "outputs": [
    {
     "data": {
      "text/plain": [
       "{ktype:\n",
       "   id: testingmachine\n",
       "   name: TestingMachine\n",
       "   created_at: '2025-07-22T12:41:50.505566'\n",
       "   updated_at: '2025-07-22T12:41:50.505566': [kitem:\n",
       "    id: 2cf0aea2-b4c2-40b0-a786-bcf00ddb1991\n",
       "    name: Machine-2\n",
       "    ktype_id: testingmachine\n",
       "    slug: machine-2-2cf0aea2,\n",
       "  kitem:\n",
       "    id: 0f89d6ad-3446-4d8a-9f27-39a69bcffeee\n",
       "    name: Machine-1\n",
       "    ktype_id: testingmachine\n",
       "    slug: machine-1-0f89d6ad]}"
      ]
     },
     "execution_count": 12,
     "metadata": {},
     "output_type": "execute_result"
    }
   ],
   "source": [
    "item5.linked_kitems.by_ktype"
   ]
  },
  {
   "cell_type": "markdown",
   "metadata": {},
   "source": [
    "... and retrieve them by type:"
   ]
  },
  {
   "cell_type": "code",
   "execution_count": 13,
   "metadata": {},
   "outputs": [
    {
     "data": {
      "text/plain": [
       "kitem:\n",
       "  id: 2cf0aea2-b4c2-40b0-a786-bcf00ddb1991\n",
       "  name: Machine-2\n",
       "  ktype_id: testingmachine\n",
       "  slug: machine-2-2cf0aea2\n",
       "  annotations:\n",
       "  - iri: https://w3id.org/steel/ProcessOntology/TestingMachine\n",
       "    label: TestingMachine\n",
       "    namespace: https://w3id.org/steel/ProcessOntology\n",
       "  attachments: []\n",
       "  linked_kitems: []\n",
       "  affiliations: []\n",
       "  authors:\n",
       "  - user_id: 7f0e5a37-353b-4bbc-b1f1-b6ad575f562d\n",
       "  avatar_exists: false\n",
       "  contacts: []\n",
       "  created_at: 2025-08-13 14:33:30.358137\n",
       "  updated_at: 2025-08-13 14:33:30.358137\n",
       "  external_links: []\n",
       "  apps: []\n",
       "  user_groups: []\n",
       "  custom_properties:\n",
       "    content:\n",
       "      sections:\n",
       "      - id: id1755095609461z4tdh1\n",
       "        name: Misc\n",
       "        entries:\n",
       "        - id: id1755095609461bqgrqv\n",
       "          type: Text\n",
       "          label: Producer\n",
       "          value: StressStrain GmBH\n",
       "          measurementUnit: null\n",
       "          relationMapping: null\n",
       "          required: false\n",
       "        - id: id17550956094616vktvr\n",
       "          type: Text\n",
       "          label: Room Number\n",
       "          value: B500\n",
       "          measurementUnit: null\n",
       "          relationMapping: null\n",
       "          required: false\n",
       "        - id: id1755095609461dhszfo\n",
       "          type: Text\n",
       "          label: Description\n",
       "          value: Compression Test Machine\n",
       "          measurementUnit: null\n",
       "          relationMapping: null\n",
       "          required: false\n",
       "  rdf_exists: false\n",
       "  contexts: []"
      ]
     },
     "execution_count": 13,
     "metadata": {},
     "output_type": "execute_result"
    }
   ],
   "source": [
    "item5.linked_kitems.by_ktype[dsms.ktypes.Testingmachine][0].fetch()"
   ]
  },
  {
   "cell_type": "markdown",
   "metadata": {},
   "source": [
    "Clean up the DSMS from the tutortial:"
   ]
  },
  {
   "cell_type": "code",
   "execution_count": 14,
   "metadata": {},
   "outputs": [],
   "source": [
    "del dsms[item1]\n",
    "del dsms[item2]\n",
    "del dsms[item3]\n",
    "del dsms[item4]\n",
    "del dsms[item5]\n",
    "\n",
    "dsms.commit()"
   ]
  }
 ],
 "metadata": {
  "kernelspec": {
   "display_name": "Python 3",
   "language": "python",
   "name": "python3"
  },
  "language_info": {
   "codemirror_mode": {
    "name": "ipython",
    "version": 3
   },
   "file_extension": ".py",
   "mimetype": "text/x-python",
   "name": "python",
   "nbconvert_exporter": "python",
   "pygments_lexer": "ipython3",
   "version": "3.11.13"
  }
 },
 "nbformat": 4,
 "nbformat_minor": 2
}
