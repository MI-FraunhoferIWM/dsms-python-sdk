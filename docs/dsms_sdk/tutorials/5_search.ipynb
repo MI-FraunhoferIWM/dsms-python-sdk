{
 "cells": [
  {
   "cell_type": "markdown",
   "metadata": {},
   "source": [
    "# 5. Searching KItems with the SDK\n",
    "\n",
    "In this tutorial we see how to search existing Kitems"
   ]
  },
  {
   "cell_type": "markdown",
   "metadata": {},
   "source": [
    "### 5.1. Setting up\n",
    "Before you run this tutorial: make sure to have access to a DSMS-instance of your interest, alongwith with installation of this package and have establised access to the DSMS through DSMS-SDK (refer to [Connecting to DSMS](../dsms_sdk.md#connecting-to-dsms))\n",
    "\n",
    "\n",
    "Now let us import the needed classes and functions for this tutorial."
   ]
  },
  {
   "cell_type": "code",
   "execution_count": 1,
   "metadata": {},
   "outputs": [],
   "source": [
    "from dsms import DSMS, KItem"
   ]
  },
  {
   "cell_type": "markdown",
   "metadata": {},
   "source": [
    "Now source the environmental variables from an `.env` file and start the DSMS-session."
   ]
  },
  {
   "cell_type": "code",
   "execution_count": 2,
   "metadata": {},
   "outputs": [],
   "source": [
    "dsms = DSMS(env=\".env\")"
   ]
  },
  {
   "cell_type": "markdown",
   "metadata": {},
   "source": [
    "### 5.2. Searching for KItems"
   ]
  },
  {
   "cell_type": "markdown",
   "metadata": {},
   "source": [
    "In this section, we would like to search for specfic KItems we created in the DSMS.\n",
    "\n",
    "For this purpose, we will firstly create some KItems and apply the `search`-method on the `DSMS`-object later on in order to find them again in the DSMS.\n",
    "\n",
    "We also want to demonstrate here, that we can link KItems to each other in order to find e.g. a related item of type `DatasetCatalog`. For this strategy, we are using the `linked_kitems`- attribute and the `id` of the item which we would like to link.\n",
    "\n",
    "The procedure looks like this:"
   ]
  },
  {
   "cell_type": "code",
   "execution_count": 3,
   "metadata": {},
   "outputs": [
    {
     "name": "stderr",
     "output_type": "stream",
     "text": [
      "/app/dsms/knowledge/kitem.py:407: UserWarning: A flat dictionary was provided for custom properties.\n",
      "                    Will be transformed into `KItemCustomPropertiesModel`.\n",
      "  warnings.warn(\n",
      "/app/dsms/knowledge/kitem.py:307: UserWarning: Found a <class 'dsms.knowledge.kitem.KItem'> to be linked instead of an <class 'dsms.knowledge.properties.linked_kitems.KItemRelationshipModel'>. Will link it with the default relationship 'dcterms:haspart'.\n",
      "  warnings.warn(\n",
      "/usr/local/lib/python3.11/site-packages/pydantic/main.py:463: UserWarning: Pydantic serializer warnings:\n",
      "  PydanticSerializationUnexpectedValue(Expected `str` - serialized value may not be as expected [input_value=False, input_type=bool])\n",
      "  return self.__pydantic_serializer__.to_python(\n",
      "/app/dsms/knowledge/kitem.py:696: UserWarning: No webform was defined for entry `Producer`. Cannot check if value is of correct type.\n",
      "  warnings.warn(\n",
      "/app/dsms/knowledge/kitem.py:696: UserWarning: No webform was defined for entry `Room Number`. Cannot check if value is of correct type.\n",
      "  warnings.warn(\n",
      "/app/dsms/knowledge/kitem.py:696: UserWarning: No webform was defined for entry `Description`. Cannot check if value is of correct type.\n",
      "  warnings.warn(\n"
     ]
    }
   ],
   "source": [
    "item1 = KItem(\n",
    "    name=\"Machine-1\",\n",
    "    ktype_id=dsms.ktypes.Expert,\n",
    "    annotations=[\"https://w3id.org/steel/ProcessOntology/TestingMachine\"],\n",
    "    custom_properties={\"Producer\": \"TestingLab GmBH\",\n",
    "                       \"Room Number\": \"A404\",\n",
    "                       \"Description\": \"Bending Test Machine\"\n",
    "                       }\n",
    ")\n",
    "\n",
    "item2 = KItem(\n",
    "    name=\"Machine-2\",\n",
    "    ktype_id=dsms.ktypes.Testingmachine,\n",
    "    annotations=[\"https://w3id.org/steel/ProcessOntology/TestingMachine\"],\n",
    "    custom_properties={\"Producer\": \"StressStrain GmBH\",\n",
    "                       \"Room Number\": \"B500\",\n",
    "                       \"Description\": \"Compression Test Machine\"\n",
    "                       }\n",
    ")\n",
    "\n",
    "item3 = KItem(\n",
    "    name=\"Specimen-1\", \n",
    "    ktype_id=dsms.ktypes.Specimen,\n",
    "    linked_kitems=[item1],\n",
    "    annotations=[\"https://w3id.org/steel/ProcessOntology/TestPiece\"],\n",
    "    custom_properties = {\n",
    "        \"Width\": 0.5,\n",
    "        \"Length\": [0.1, 0.2],\n",
    "    }\n",
    "\n",
    ")\n",
    "item4 = KItem(\n",
    "    name=\"Specimen-2\",\n",
    "    ktype_id=dsms.ktypes.Specimen,\n",
    "    linked_kitems=[item2],\n",
    "    annotations=[\"https://w3id.org/steel/ProcessOntology/TestPiece\"],\n",
    "    custom_properties = {\n",
    "        \"Width\": 0.8,\n",
    "        \"Length\": [0.8, 0.9],\n",
    "    }\n",
    ")\n",
    "\n",
    "item5 = KItem(\n",
    "    name=\"Research Institute ABC\",\n",
    "    ktype_id=dsms.ktypes.Organization,\n",
    "    linked_kitems=[item1,item2],\n",
    "    annotations=[\"www.researchBACiri.org/foo\"],\n",
    ")\n",
    "\n",
    "dsms.add([item1, item2, item3, item4, item5])\n",
    "dsms.commit()"
   ]
  },
  {
   "cell_type": "markdown",
   "metadata": {},
   "source": [
    "\n",
    "<b> <p style=\"color:red;\">Note : Here in this tutorial, we use dsms.search with `limit=1` to maintain readability but the user can adjust the variable `limit` as per requirement. </p>    </b> \n",
    "\n",
    "\n",
    "Now, we are apply to search for e.g. kitems of type `TestingMachine`:"
   ]
  },
  {
   "cell_type": "code",
   "execution_count": 4,
   "metadata": {},
   "outputs": [
    {
     "name": "stdout",
     "output_type": "stream",
     "text": [
      "hits:\n",
      "- kitem:\n",
      "    id: d0fd7686-e909-44e3-bedc-cf5ac4f6f192\n",
      "    name: Specimen-1\n",
      "    ktype_id: specimen\n",
      "    slug: specimen-1-d0fd7686\n",
      "    annotations:\n",
      "    - iri: https://w3id.org/steel/ProcessOntology/TestPiece\n",
      "      label: TestPiece\n",
      "      namespace: https://w3id.org/steel/ProcessOntology\n",
      "    attachments:\n",
      "    - name: subgraph.ttl\n",
      "    linked_kitems:\n",
      "    - is_incoming: false\n",
      "      label: Has Part\n",
      "      kitem:\n",
      "        id: !!python/object:uuid.UUID\n",
      "          int: 286968839003653536192122506587982417062\n",
      "          is_safe: 0\n",
      "        name: Machine-1\n",
      "        ktype_id: expert\n",
      "        slug: machine-1-d7e43021\n",
      "      iri: http://purl.org/dc/terms/hasPart\n",
      "    affiliations: []\n",
      "    authors:\n",
      "    - user_id: 7f0e5a37-353b-4bbc-b1f1-b6ad575f562d\n",
      "    avatar_exists: false\n",
      "    contacts: []\n",
      "    created_at: 2025-07-22 13:59:45.994794\n",
      "    updated_at: 2025-07-22 13:59:45.994794\n",
      "    external_links: []\n",
      "    apps: []\n",
      "    user_groups: []\n",
      "    custom_properties:\n",
      "      content:\n",
      "        sections:\n",
      "        - id: idb424123144cdd8\n",
      "          name: Untitled Section\n",
      "          entries:\n",
      "          - id: id6c76bbffe7ca78\n",
      "            type: Number\n",
      "            label: Width\n",
      "            value: 0.5\n",
      "            measurementUnit: null\n",
      "            relationMapping: null\n",
      "            required: false\n",
      "          - id: id717d07130a7618\n",
      "            type: Slider\n",
      "            label: Length\n",
      "            value:\n",
      "            - 0.1\n",
      "            - 0.2\n",
      "            measurementUnit: null\n",
      "            relationMapping: null\n",
      "            required: false\n",
      "    rdf_exists: true\n",
      "    contexts: []\n",
      "  fuzzy: false\n",
      "- kitem:\n",
      "    id: c452cf2b-91fa-4d6c-bc3b-6e3960416483\n",
      "    name: asdf\n",
      "    ktype_id: specimen\n",
      "    slug: asdf\n",
      "    annotations: []\n",
      "    attachments:\n",
      "    - name: subgraph.ttl\n",
      "    linked_kitems: []\n",
      "    affiliations: []\n",
      "    authors:\n",
      "    - user_id: 7f0e5a37-353b-4bbc-b1f1-b6ad575f562d\n",
      "    avatar_exists: false\n",
      "    contacts: []\n",
      "    created_at: 2025-07-23 15:46:52.076517\n",
      "    updated_at: 2025-07-23 15:46:52.076517\n",
      "    external_links: []\n",
      "    apps: []\n",
      "    user_groups: []\n",
      "    custom_properties:\n",
      "      content:\n",
      "        sections:\n",
      "        - id: idb424123144cdd8\n",
      "          name: Untitled Section\n",
      "          entries:\n",
      "          - id: id6c76bbffe7ca78\n",
      "            type: Number\n",
      "            label: Width\n",
      "            value: 10\n",
      "            measurementUnit: null\n",
      "            relationMapping: null\n",
      "            required: false\n",
      "          - id: id717d07130a7618\n",
      "            type: Slider\n",
      "            label: Length\n",
      "            value: null\n",
      "            measurementUnit: null\n",
      "            relationMapping: null\n",
      "            required: false\n",
      "    rdf_exists: true\n",
      "    contexts: []\n",
      "  fuzzy: false\n",
      "total_count: 10\n",
      "\n",
      "Name of the first kitem:\n",
      "Specimen-1\n"
     ]
    }
   ],
   "source": [
    "result = dsms.search(ktypes=[dsms.ktypes.Specimen], limit=2)\n",
    "print(result)\n",
    "print(\"Name of the first kitem:\")\n",
    "print(result.hits[0].kitem.name)"
   ]
  },
  {
   "cell_type": "markdown",
   "metadata": {},
   "source": [
    "... and for all of type `Organization` and `Testingmachine`:"
   ]
  },
  {
   "cell_type": "code",
   "execution_count": 5,
   "metadata": {},
   "outputs": [
    {
     "name": "stdout",
     "output_type": "stream",
     "text": [
      "kitem:\n",
      "  id: d7e43021-b4d1-4fe5-a945-ff618a564ca6\n",
      "  name: Machine-1\n",
      "  ktype_id: expert\n",
      "  slug: machine-1-d7e43021\n",
      "  annotations:\n",
      "  - iri: https://w3id.org/steel/ProcessOntology/TestingMachine\n",
      "    label: TestingMachine\n",
      "    namespace: https://w3id.org/steel/ProcessOntology\n",
      "  attachments: []\n",
      "  linked_kitems:\n",
      "  - is_incoming: true\n",
      "    label: Has Part\n",
      "    kitem:\n",
      "      id: !!python/object:uuid.UUID\n",
      "        int: 277795478241500033705376115314375717266\n",
      "        is_safe: 0\n",
      "      name: Specimen-1\n",
      "      ktype_id: specimen\n",
      "      slug: specimen-1-d0fd7686\n",
      "    iri: http://purl.org/dc/terms/hasPart\n",
      "  affiliations: []\n",
      "  authors:\n",
      "  - user_id: 7f0e5a37-353b-4bbc-b1f1-b6ad575f562d\n",
      "  avatar_exists: false\n",
      "  contacts: []\n",
      "  created_at: 2025-07-22 13:59:44.426839\n",
      "  updated_at: 2025-07-22 13:59:44.426839\n",
      "  external_links: []\n",
      "  apps: []\n",
      "  user_groups: []\n",
      "  custom_properties:\n",
      "    content:\n",
      "      sections:\n",
      "      - id: id1753192783981m91h3a\n",
      "        name: Misc\n",
      "        entries:\n",
      "        - id: id1753192783981rsm5sw\n",
      "          type: Text\n",
      "          label: Producer\n",
      "          value: TestingLab GmBH\n",
      "          measurementUnit: null\n",
      "          relationMapping: null\n",
      "          required: false\n",
      "        - id: id1753192783981ghuaee\n",
      "          type: Text\n",
      "          label: Room Number\n",
      "          value: A404\n",
      "          measurementUnit: null\n",
      "          relationMapping: null\n",
      "          required: false\n",
      "        - id: id1753192783981ye5bmg\n",
      "          type: Text\n",
      "          label: Description\n",
      "          value: Bending Test Machine\n",
      "          measurementUnit: null\n",
      "          relationMapping: null\n",
      "          required: false\n",
      "  rdf_exists: false\n",
      "  contexts: []\n",
      "\n",
      "fuzziness:  False\n",
      "\n",
      "\n",
      "kitem:\n",
      "  id: c2523ab2-2dbb-45a8-ba95-76936a88722f\n",
      "  name: Machine-1\n",
      "  ktype_id: expert\n",
      "  slug: machine-1-c2523ab2\n",
      "  annotations:\n",
      "  - iri: https://w3id.org/steel/ProcessOntology/TestingMachine\n",
      "    label: TestingMachine\n",
      "    namespace: https://w3id.org/steel/ProcessOntology\n",
      "  attachments: []\n",
      "  linked_kitems:\n",
      "  - is_incoming: true\n",
      "    label: Has Part\n",
      "    kitem:\n",
      "      id: !!python/object:uuid.UUID\n",
      "        int: 210775240509991204486038118686679710689\n",
      "        is_safe: 0\n",
      "      name: Research Institute ABC\n",
      "      ktype_id: organization\n",
      "      slug: researchinstituteabc-9e91d5b0\n",
      "    iri: http://purl.org/dc/terms/hasPart\n",
      "  - is_incoming: true\n",
      "    label: Has Part\n",
      "    kitem:\n",
      "      id: !!python/object:uuid.UUID\n",
      "        int: 72825927469793662207714837275260879499\n",
      "        is_safe: 0\n",
      "      name: Specimen-1\n",
      "      ktype_id: specimen\n",
      "      slug: specimen-1-36c9c371\n",
      "    iri: http://purl.org/dc/terms/hasPart\n",
      "  affiliations: []\n",
      "  authors:\n",
      "  - user_id: 7f0e5a37-353b-4bbc-b1f1-b6ad575f562d\n",
      "  avatar_exists: false\n",
      "  contacts: []\n",
      "  created_at: 2025-08-01 13:45:04.979704\n",
      "  updated_at: 2025-08-01 13:45:04.979704\n",
      "  external_links: []\n",
      "  apps: []\n",
      "  user_groups: []\n",
      "  custom_properties:\n",
      "    content:\n",
      "      sections:\n",
      "      - id: id1754055904685z2rdda\n",
      "        name: Misc\n",
      "        entries:\n",
      "        - id: id1754055904686gjjlug\n",
      "          type: Text\n",
      "          label: Producer\n",
      "          value: TestingLab GmBH\n",
      "          measurementUnit: null\n",
      "          relationMapping: null\n",
      "          required: false\n",
      "        - id: id1754055904686zsuu99\n",
      "          type: Text\n",
      "          label: Room Number\n",
      "          value: A404\n",
      "          measurementUnit: null\n",
      "          relationMapping: null\n",
      "          required: false\n",
      "        - id: id1754055904686s08orf\n",
      "          type: Text\n",
      "          label: Description\n",
      "          value: Bending Test Machine\n",
      "          measurementUnit: null\n",
      "          relationMapping: null\n",
      "          required: false\n",
      "  rdf_exists: false\n",
      "  contexts: []\n",
      "\n",
      "fuzziness:  False\n",
      "\n",
      "\n"
     ]
    }
   ],
   "source": [
    "for result in dsms.search(ktypes=[dsms.ktypes.Organization, dsms.ktypes.Expert], limit=2):\n",
    "    print(result.kitem)\n",
    "    print(\"fuzziness: \", result.fuzzy)\n",
    "    print(\"\\n\")\n",
    "    "
   ]
  },
  {
   "cell_type": "markdown",
   "metadata": {},
   "source": [
    "... or for all of type `Specimen` with `Specimen-1` in the name (Please note that the `allow_fuzzy` is set the `False` in order to get only exact matches):"
   ]
  },
  {
   "cell_type": "code",
   "execution_count": 6,
   "metadata": {},
   "outputs": [
    {
     "name": "stdout",
     "output_type": "stream",
     "text": [
      "kitem:\n",
      "  id: d0fd7686-e909-44e3-bedc-cf5ac4f6f192\n",
      "  name: Specimen-1\n",
      "  ktype_id: specimen\n",
      "  slug: specimen-1-d0fd7686\n",
      "  annotations:\n",
      "  - iri: https://w3id.org/steel/ProcessOntology/TestPiece\n",
      "    label: TestPiece\n",
      "    namespace: https://w3id.org/steel/ProcessOntology\n",
      "  attachments:\n",
      "  - name: subgraph.ttl\n",
      "  linked_kitems:\n",
      "  - is_incoming: false\n",
      "    label: Has Part\n",
      "    kitem:\n",
      "      id: !!python/object:uuid.UUID\n",
      "        int: 286968839003653536192122506587982417062\n",
      "        is_safe: 0\n",
      "      name: Machine-1\n",
      "      ktype_id: expert\n",
      "      slug: machine-1-d7e43021\n",
      "    iri: http://purl.org/dc/terms/hasPart\n",
      "  affiliations: []\n",
      "  authors:\n",
      "  - user_id: 7f0e5a37-353b-4bbc-b1f1-b6ad575f562d\n",
      "  avatar_exists: false\n",
      "  contacts: []\n",
      "  created_at: 2025-07-22 13:59:45.994794\n",
      "  updated_at: 2025-07-22 13:59:45.994794\n",
      "  external_links: []\n",
      "  apps: []\n",
      "  user_groups: []\n",
      "  custom_properties:\n",
      "    content:\n",
      "      sections:\n",
      "      - id: idb424123144cdd8\n",
      "        name: Untitled Section\n",
      "        entries:\n",
      "        - id: id6c76bbffe7ca78\n",
      "          type: Number\n",
      "          label: Width\n",
      "          value: 0.5\n",
      "          measurementUnit: null\n",
      "          relationMapping: null\n",
      "          required: false\n",
      "        - id: id717d07130a7618\n",
      "          type: Slider\n",
      "          label: Length\n",
      "          value:\n",
      "          - 0.1\n",
      "          - 0.2\n",
      "          measurementUnit: null\n",
      "          relationMapping: null\n",
      "          required: false\n",
      "  rdf_exists: true\n",
      "  contexts: []\n",
      "fuzzy: false\n",
      "\n"
     ]
    }
   ],
   "source": [
    "for result in dsms.search(query=\"Specimen-1\", ktypes=[dsms.ktypes.Specimen], allow_fuzzy=False, limit=1):\n",
    "    print(result)"
   ]
  },
  {
   "cell_type": "markdown",
   "metadata": {},
   "source": [
    "... and for all of type `Organization` with the annotation `www.researchBACiri.org/foo`:"
   ]
  },
  {
   "cell_type": "code",
   "execution_count": 7,
   "metadata": {},
   "outputs": [
    {
     "name": "stdout",
     "output_type": "stream",
     "text": [
      "kitem:\n",
      "  id: 50221ca1-f13e-4b05-9ba8-b4b4a714117c\n",
      "  name: Research Institute ABC\n",
      "  ktype_id: organization\n",
      "  slug: researchinstituteabc-50221ca1\n",
      "  annotations:\n",
      "  - iri: www.researchBACiri.org/foo\n",
      "    label: foo\n",
      "    namespace: www.researchBACiri.org\n",
      "  attachments:\n",
      "  - name: subgraph.ttl\n",
      "  linked_kitems:\n",
      "  - is_incoming: false\n",
      "    label: Has Part\n",
      "    kitem:\n",
      "      id: !!python/object:uuid.UUID\n",
      "        int: 32499452776749990173537780205174082091\n",
      "        is_safe: 0\n",
      "      name: Machine-2\n",
      "      ktype_id: testingmachine\n",
      "      slug: machine-2-18732abb\n",
      "    iri: http://purl.org/dc/terms/hasPart\n",
      "  - is_incoming: false\n",
      "    label: Has Part\n",
      "    kitem:\n",
      "      id: !!python/object:uuid.UUID\n",
      "        int: 200180447873112080843129496466728944695\n",
      "        is_safe: 0\n",
      "      name: Machine-1\n",
      "      ktype_id: expert\n",
      "      slug: machine-1-96995a15\n",
      "    iri: http://purl.org/dc/terms/hasPart\n",
      "  affiliations: []\n",
      "  authors:\n",
      "  - user_id: 7f0e5a37-353b-4bbc-b1f1-b6ad575f562d\n",
      "  avatar_exists: false\n",
      "  contacts: []\n",
      "  created_at: 2025-08-01 14:55:02.710271\n",
      "  updated_at: 2025-08-01 14:55:02.710271\n",
      "  external_links: []\n",
      "  apps: []\n",
      "  user_groups: []\n",
      "  rdf_exists: true\n",
      "  contexts: []\n",
      "fuzzy: false\n",
      "\n"
     ]
    }
   ],
   "source": [
    "for result in dsms.search(\n",
    "          ktypes=[dsms.ktypes.Organization], annotations=[\"www.researchBACiri.org/foo\"], allow_fuzzy=False, limit=1\n",
    "    ):\n",
    "    print(result)\n"
   ]
  },
  {
   "cell_type": "markdown",
   "metadata": {},
   "source": [
    "## 5.3. Fetching linked KItems from a KItem"
   ]
  },
  {
   "cell_type": "markdown",
   "metadata": {},
   "source": [
    "In the beginning under **5.1** we created some kitems and linked each other. Now we want to fetch the linked kitems and display them to the user. For this we use the `linked_kitems` attribute."
   ]
  },
  {
   "cell_type": "code",
   "execution_count": 8,
   "metadata": {},
   "outputs": [
    {
     "data": {
      "text/plain": [
       "[relationship:\n",
       "   is_incoming: false\n",
       "   label: Has Part\n",
       "   kitem:\n",
       "     id: !!python/object:uuid.UUID\n",
       "       int: 32499452776749990173537780205174082091\n",
       "       is_safe: 0\n",
       "     name: Machine-2\n",
       "     ktype_id: testingmachine\n",
       "     slug: machine-2-18732abb\n",
       "   iri: http://purl.org/dc/terms/hasPart,\n",
       " relationship:\n",
       "   is_incoming: false\n",
       "   label: Has Part\n",
       "   kitem:\n",
       "     id: !!python/object:uuid.UUID\n",
       "       int: 200180447873112080843129496466728944695\n",
       "       is_safe: 0\n",
       "     name: Machine-1\n",
       "     ktype_id: expert\n",
       "     slug: machine-1-96995a15\n",
       "   iri: http://purl.org/dc/terms/hasPart]"
      ]
     },
     "execution_count": 8,
     "metadata": {},
     "output_type": "execute_result"
    }
   ],
   "source": [
    "item5.linked_kitems"
   ]
  },
  {
   "cell_type": "markdown",
   "metadata": {},
   "source": [
    "However, this linked KItem is not a \"real\" KItem. Due to performance reasons, we only display a slim representation of the linked KItem. Imagine if the linked KItem also has a linked KItem... this might lead to an infinite recursion. We can fetch the \"real\" KItem by using the `fetch` method of the linked KItem:\n"
   ]
  },
  {
   "cell_type": "code",
   "execution_count": 9,
   "metadata": {},
   "outputs": [
    {
     "data": {
      "text/plain": [
       "kitem:\n",
       "  id: 18732abb-c956-40c7-a71e-c2d0aaf74a2b\n",
       "  name: Machine-2\n",
       "  ktype_id: testingmachine\n",
       "  slug: machine-2-18732abb\n",
       "  annotations:\n",
       "  - iri: https://w3id.org/steel/ProcessOntology/TestingMachine\n",
       "    label: TestingMachine\n",
       "    namespace: https://w3id.org/steel/ProcessOntology\n",
       "  attachments: []\n",
       "  linked_kitems: []\n",
       "  affiliations: []\n",
       "  authors:\n",
       "  - user_id: 7f0e5a37-353b-4bbc-b1f1-b6ad575f562d\n",
       "  avatar_exists: false\n",
       "  contacts: []\n",
       "  created_at: 2025-08-01 14:54:59.426210\n",
       "  updated_at: 2025-08-01 14:54:59.426210\n",
       "  external_links: []\n",
       "  apps: []\n",
       "  user_groups: []\n",
       "  custom_properties:\n",
       "    content:\n",
       "      sections:\n",
       "      - id: id17540600985471l0m89\n",
       "        name: Misc\n",
       "        entries:\n",
       "        - id: id1754060098547dm2614\n",
       "          type: Text\n",
       "          label: Producer\n",
       "          value: StressStrain GmBH\n",
       "          measurementUnit: null\n",
       "          relationMapping: null\n",
       "          required: false\n",
       "        - id: id175406009854721k1wn\n",
       "          type: Text\n",
       "          label: Room Number\n",
       "          value: B500\n",
       "          measurementUnit: null\n",
       "          relationMapping: null\n",
       "          required: false\n",
       "        - id: id1754060098547cyhssk\n",
       "          type: Text\n",
       "          label: Description\n",
       "          value: Compression Test Machine\n",
       "          measurementUnit: null\n",
       "          relationMapping: null\n",
       "          required: false\n",
       "  rdf_exists: false\n",
       "  contexts: []"
      ]
     },
     "execution_count": 9,
     "metadata": {},
     "output_type": "execute_result"
    }
   ],
   "source": [
    "item5.linked_kitems[0].fetch()"
   ]
  },
  {
   "cell_type": "markdown",
   "metadata": {},
   "source": [
    "We can retrieve the linked KItem by the IRI of the relation:"
   ]
  },
  {
   "cell_type": "code",
   "execution_count": 10,
   "metadata": {},
   "outputs": [
    {
     "data": {
      "text/plain": [
       "{'http://purl.org/dc/terms/hasPart': [kitem:\n",
       "    id: 18732abb-c956-40c7-a71e-c2d0aaf74a2b\n",
       "    name: Machine-2\n",
       "    ktype_id: testingmachine\n",
       "    slug: machine-2-18732abb,\n",
       "  kitem:\n",
       "    id: 96995a15-1154-46ea-ad7e-aafed3580437\n",
       "    name: Machine-1\n",
       "    ktype_id: expert\n",
       "    slug: machine-1-96995a15]}"
      ]
     },
     "execution_count": 10,
     "metadata": {},
     "output_type": "execute_result"
    }
   ],
   "source": [
    "item5.linked_kitems.by_relation"
   ]
  },
  {
   "cell_type": "code",
   "execution_count": 11,
   "metadata": {},
   "outputs": [
    {
     "data": {
      "text/plain": [
       "kitem:\n",
       "  id: 18732abb-c956-40c7-a71e-c2d0aaf74a2b\n",
       "  name: Machine-2\n",
       "  ktype_id: testingmachine\n",
       "  slug: machine-2-18732abb\n",
       "  annotations:\n",
       "  - iri: https://w3id.org/steel/ProcessOntology/TestingMachine\n",
       "    label: TestingMachine\n",
       "    namespace: https://w3id.org/steel/ProcessOntology\n",
       "  attachments: []\n",
       "  linked_kitems: []\n",
       "  affiliations: []\n",
       "  authors:\n",
       "  - user_id: 7f0e5a37-353b-4bbc-b1f1-b6ad575f562d\n",
       "  avatar_exists: false\n",
       "  contacts: []\n",
       "  created_at: 2025-08-01 14:54:59.426210\n",
       "  updated_at: 2025-08-01 14:54:59.426210\n",
       "  external_links: []\n",
       "  apps: []\n",
       "  user_groups: []\n",
       "  custom_properties:\n",
       "    content:\n",
       "      sections:\n",
       "      - id: id17540600985471l0m89\n",
       "        name: Misc\n",
       "        entries:\n",
       "        - id: id1754060098547dm2614\n",
       "          type: Text\n",
       "          label: Producer\n",
       "          value: StressStrain GmBH\n",
       "          measurementUnit: null\n",
       "          relationMapping: null\n",
       "          required: false\n",
       "        - id: id175406009854721k1wn\n",
       "          type: Text\n",
       "          label: Room Number\n",
       "          value: B500\n",
       "          measurementUnit: null\n",
       "          relationMapping: null\n",
       "          required: false\n",
       "        - id: id1754060098547cyhssk\n",
       "          type: Text\n",
       "          label: Description\n",
       "          value: Compression Test Machine\n",
       "          measurementUnit: null\n",
       "          relationMapping: null\n",
       "          required: false\n",
       "  rdf_exists: false\n",
       "  contexts: []"
      ]
     },
     "execution_count": 11,
     "metadata": {},
     "output_type": "execute_result"
    }
   ],
   "source": [
    "item5.linked_kitems.by_relation[\"http://purl.org/dc/terms/hasPart\"][0].fetch()\n"
   ]
  },
  {
   "cell_type": "markdown",
   "metadata": {},
   "source": [
    "Additionally, we can retrieve the linked KItems grouped by ktype:"
   ]
  },
  {
   "cell_type": "code",
   "execution_count": 12,
   "metadata": {},
   "outputs": [
    {
     "data": {
      "text/plain": [
       "{ktype:\n",
       "   id: testingmachine\n",
       "   name: TestingMachine\n",
       "   created_at: '2025-07-22T12:41:50.505566'\n",
       "   updated_at: '2025-07-22T12:41:50.505566': [kitem:\n",
       "    id: 18732abb-c956-40c7-a71e-c2d0aaf74a2b\n",
       "    name: Machine-2\n",
       "    ktype_id: testingmachine\n",
       "    slug: machine-2-18732abb],\n",
       " ktype:\n",
       "   id: expert\n",
       "   created_at: '2025-06-26T13:27:43.597461'\n",
       "   updated_at: '2025-06-26T13:27:43.597461': [kitem:\n",
       "    id: 96995a15-1154-46ea-ad7e-aafed3580437\n",
       "    name: Machine-1\n",
       "    ktype_id: expert\n",
       "    slug: machine-1-96995a15]}"
      ]
     },
     "execution_count": 12,
     "metadata": {},
     "output_type": "execute_result"
    }
   ],
   "source": [
    "item5.linked_kitems.by_ktype"
   ]
  },
  {
   "cell_type": "markdown",
   "metadata": {},
   "source": [
    "... and retrieve them by type:"
   ]
  },
  {
   "cell_type": "code",
   "execution_count": 13,
   "metadata": {},
   "outputs": [
    {
     "data": {
      "text/plain": [
       "kitem:\n",
       "  id: 18732abb-c956-40c7-a71e-c2d0aaf74a2b\n",
       "  name: Machine-2\n",
       "  ktype_id: testingmachine\n",
       "  slug: machine-2-18732abb\n",
       "  annotations:\n",
       "  - iri: https://w3id.org/steel/ProcessOntology/TestingMachine\n",
       "    label: TestingMachine\n",
       "    namespace: https://w3id.org/steel/ProcessOntology\n",
       "  attachments: []\n",
       "  linked_kitems: []\n",
       "  affiliations: []\n",
       "  authors:\n",
       "  - user_id: 7f0e5a37-353b-4bbc-b1f1-b6ad575f562d\n",
       "  avatar_exists: false\n",
       "  contacts: []\n",
       "  created_at: 2025-08-01 14:54:59.426210\n",
       "  updated_at: 2025-08-01 14:54:59.426210\n",
       "  external_links: []\n",
       "  apps: []\n",
       "  user_groups: []\n",
       "  custom_properties:\n",
       "    content:\n",
       "      sections:\n",
       "      - id: id17540600985471l0m89\n",
       "        name: Misc\n",
       "        entries:\n",
       "        - id: id1754060098547dm2614\n",
       "          type: Text\n",
       "          label: Producer\n",
       "          value: StressStrain GmBH\n",
       "          measurementUnit: null\n",
       "          relationMapping: null\n",
       "          required: false\n",
       "        - id: id175406009854721k1wn\n",
       "          type: Text\n",
       "          label: Room Number\n",
       "          value: B500\n",
       "          measurementUnit: null\n",
       "          relationMapping: null\n",
       "          required: false\n",
       "        - id: id1754060098547cyhssk\n",
       "          type: Text\n",
       "          label: Description\n",
       "          value: Compression Test Machine\n",
       "          measurementUnit: null\n",
       "          relationMapping: null\n",
       "          required: false\n",
       "  rdf_exists: false\n",
       "  contexts: []"
      ]
     },
     "execution_count": 13,
     "metadata": {},
     "output_type": "execute_result"
    }
   ],
   "source": [
    "item5.linked_kitems.by_ktype[dsms.ktypes.Testingmachine][0].fetch()"
   ]
  },
  {
   "cell_type": "markdown",
   "metadata": {},
   "source": [
    "Clean up the DSMS from the tutortial:"
   ]
  },
  {
   "cell_type": "code",
   "execution_count": 14,
   "metadata": {},
   "outputs": [],
   "source": [
    "del dsms[item1]\n",
    "del dsms[item2]\n",
    "del dsms[item3]\n",
    "del dsms[item4]\n",
    "del dsms[item5]\n",
    "\n",
    "dsms.commit()"
   ]
  }
 ],
 "metadata": {
  "kernelspec": {
   "display_name": "Python 3",
   "language": "python",
   "name": "python3"
  },
  "language_info": {
   "codemirror_mode": {
    "name": "ipython",
    "version": 3
   },
   "file_extension": ".py",
   "mimetype": "text/x-python",
   "name": "python",
   "nbconvert_exporter": "python",
   "pygments_lexer": "ipython3",
   "version": "3.11.13"
  }
 },
 "nbformat": 4,
 "nbformat_minor": 2
}
