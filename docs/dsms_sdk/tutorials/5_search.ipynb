{
 "cells": [
  {
   "cell_type": "markdown",
   "metadata": {},
   "source": [
    "# 5. Searching KItems with the SDK\n",
    "\n",
    "In this tutorial we see how to search existing Kitems"
   ]
  },
  {
   "cell_type": "markdown",
   "metadata": {},
   "source": [
    "### 5.1. Setting up\n",
    "Before you run this tutorial: make sure to have access to a DSMS-instance of your interest, alongwith with installation of this package and have establised access to the DSMS through DSMS-SDK (refer to [Connecting to DSMS](../dsms_sdk.md#connecting-to-dsms))\n",
    "\n",
    "\n",
    "Now let us import the needed classes and functions for this tutorial."
   ]
  },
  {
   "cell_type": "code",
   "execution_count": 1,
   "metadata": {},
   "outputs": [],
   "source": [
    "from dsms import DSMS, KItem"
   ]
  },
  {
   "cell_type": "markdown",
   "metadata": {},
   "source": [
    "Now source the environmental variables from an `.env` file and start the DSMS-session."
   ]
  },
  {
   "cell_type": "code",
   "execution_count": 2,
   "metadata": {},
   "outputs": [],
   "source": [
    "dsms = DSMS(env=\".env\")"
   ]
  },
  {
   "cell_type": "markdown",
   "metadata": {},
   "source": [
    "### 5.2. Searching for KItems"
   ]
  },
  {
   "cell_type": "markdown",
   "metadata": {},
   "source": [
    "In this section, we would like to search for specfic KItems we created in the DSMS.\n",
    "\n",
    "For this purpose, we will firstly create some KItems and apply the `search`-method on the `DSMS`-object later on in order to find them again in the DSMS.\n",
    "\n",
    "We also want to demonstrate here, that we can link KItems to each other in order to find e.g. a related item of type `DatasetCatalog`. For this strategy, we are using the `linked_kitems`- attribute and the `id` of the item which we would like to link.\n",
    "\n",
    "The procedure looks like this:"
   ]
  },
  {
   "cell_type": "code",
   "execution_count": 3,
   "metadata": {},
   "outputs": [],
   "source": [
    "item1 = KItem(\n",
    "    name=\"Machine-1\",\n",
    "    ktype_id=dsms.ktypes.TestingMachine,\n",
    "    custom_properties={\"Producer\": \"TestingLab GmBH\",\n",
    "                       \"Room Number\": \"A404\",\n",
    "                       \"Description\": \"Bending Test Machine\"\n",
    "                       }\n",
    ")\n",
    "\n",
    "item2 = KItem(\n",
    "    name=\"Machine-2\",\n",
    "    ktype_id=dsms.ktypes.TestingMachine,\n",
    "    custom_properties={\"Producer\": \"StressStrain GmBH\",\n",
    "                       \"Room Number\": \"B500\",\n",
    "                       \"Description\": \"Compression Test Machine\"\n",
    "                       }\n",
    ")\n",
    "\n",
    "item3 = KItem(\n",
    "    name=\"Specimen-1\", \n",
    "    ktype_id=dsms.ktypes.Specimen,\n",
    "    linked_kitems=[item1],\n",
    "    custom_properties={\"Geometry\": \"Cylindrical 150mm x 20mm x 40mm\",\n",
    "                       \"Material\": \"Concrete\",\n",
    "                       \"Project ID\": \"ConstructionProject2024\"\n",
    "    }\n",
    "\n",
    ")\n",
    "item4 = KItem(\n",
    "    name=\"Specimen-2\",\n",
    "    ktype_id=dsms.ktypes.Specimen,\n",
    "    linked_kitems=[item2],\n",
    "    custom_properties={\"Geometry\": \"Rectangular 200mm x 30mm x 20mm\",\n",
    "                       \"Material\": \"Metal\",\n",
    "                       \"Project ID\": \"MetalBlenders2024\"\n",
    "                       }\n",
    ")\n",
    "\n",
    "item5 = KItem(\n",
    "    name=\"Research Institute ABC\",\n",
    "    ktype_id=dsms.ktypes.Organization,\n",
    "    linked_kitems=[item1],\n",
    "    annotations=[\n",
    "        {\n",
    "            \"iri\": \"www.researchBACiri.org/foo\",\n",
    "            \"name\": \"research ABC Institute\",\n",
    "            \"namespace\": \"research\",\n",
    "        }\n",
    "    ],\n",
    ")\n",
    "\n",
    "dsms.commit()"
   ]
  },
  {
   "cell_type": "markdown",
   "metadata": {},
   "source": [
    "\n",
    "#### <p style=\"color:red;\">Note : Here in this tutorial, we use dsms.search with `limit=1` to maintain readability but the user can adjust the variable `limit` as per requirement. </p>\n",
    "\n",
    "\n",
    "Now, we are apply to search for e.g. kitems of type `TestingMachine`:"
   ]
  },
  {
   "cell_type": "code",
   "execution_count": 4,
   "metadata": {},
   "outputs": [
    {
     "name": "stdout",
     "output_type": "stream",
     "text": [
      "KItem(\n",
      "\n",
      "\tname = Machine-1, \n",
      "\n",
      "\tid = 0f49b0ad-2a98-4c10-8440-fd3c37363646, \n",
      "\n",
      "\tktype_id = testing-machine, \n",
      "\n",
      "\tin_backend = True, \n",
      "\n",
      "\tslug = machine-1-0f49b0ad, \n",
      "\n",
      "\tannotations = [], \n",
      "\n",
      "\tattachments = [], \n",
      "\n",
      "\tlinked_kitems = [\n",
      "\t\t\n",
      "\t\t\tid: 075709da-5481-4cb4-a8ee-c18db34ce9d3\n",
      "\t\t\tname: Specimen-1\n",
      "\t\t\tslug: specimen-1-075709da\n",
      "\t\t\tktype_id: specimen\n",
      "\t\t\tsummary: None\n",
      "\t\t\tavatar_exists: False\n",
      "\t\t\tannotations: []\n",
      "\t\t\tlinked_kitems: [{\n",
      "\t\t\tid: 0f49b0ad-2a98-4c10-8440-fd3c37363646\n",
      "\t\t}]\n",
      "\t\t\texternal_links: []\n",
      "\t\t\tcontacts: []\n",
      "\t\t\tauthors: [{\n",
      "\t\t\tuser_id: 7f0e5a37-353b-4bbc-b1f1-b6ad575f562d\n",
      "\t\t}]\n",
      "\t\t\tlinked_affiliations: []\n",
      "\t\t\tattachments: []\n",
      "\t\t\tuser_groups: []\n",
      "\t\t\tcustom_properties: {'sampletype': None, 'sampleinformation': None, 'sampleproductionprocess': None, 'Geometry': 'Cylindrical 150mm x 20mm x 40mm', 'Material': 'Concrete', 'Project ID': 'ConstructionProject2024'}\n",
      "\t\t\tcreated_at: 2024-08-19T18:26:00.499708\n",
      "\t\t\tupdated_at: 2024-08-19T18:26:00.499708\n",
      "\t\t\n",
      "\t], \n",
      "\n",
      "\taffiliations = [], \n",
      "\n",
      "\tauthors = [\n",
      "\t\t{\n",
      "\t\t\tuser_id: 7f0e5a37-353b-4bbc-b1f1-b6ad575f562d\n",
      "\t\t}\n",
      "\t], \n",
      "\n",
      "\tavatar_exists = False, \n",
      "\n",
      "\tcontacts = [], \n",
      "\n",
      "\tcreated_at = 2024-08-19 18:26:00.247787, \n",
      "\n",
      "\tupdated_at = 2024-08-19 18:26:00.247787, \n",
      "\n",
      "\texternal_links = [], \n",
      "\n",
      "\tkitem_apps = [], \n",
      "\n",
      "\tsummary = None, \n",
      "\n",
      "\tuser_groups = [], \n",
      "\n",
      "\tcustom_properties = {\n",
      "\t\tProducer: TestingLab GmBH, \n",
      "\t\tRoom Number: A404, \n",
      "\t\tDescription: Bending Test Machine\n",
      "\t}, \n",
      "\n",
      "\tdataframe = None, \n",
      "\n",
      "\trdf_exists = False\n",
      ")\n",
      "\n",
      "\n"
     ]
    }
   ],
   "source": [
    "for result in dsms.search(ktypes=[dsms.ktypes.TestingMachine], limit=1):\n",
    "    print(result.hit)\n",
    "    print(\"\\n\")"
   ]
  },
  {
   "cell_type": "markdown",
   "metadata": {},
   "source": [
    "... and for all of type `Organization` and `DatasetCatalog`:"
   ]
  },
  {
   "cell_type": "code",
   "execution_count": 5,
   "metadata": {},
   "outputs": [
    {
     "name": "stdout",
     "output_type": "stream",
     "text": [
      "KItem(\n",
      "\n",
      "\tname = Research Institute ABC, \n",
      "\n",
      "\tid = 21aa50c3-5ec2-4ac3-aba8-69071a4287e2, \n",
      "\n",
      "\tktype_id = organization, \n",
      "\n",
      "\tin_backend = True, \n",
      "\n",
      "\tslug = researchinstituteabc-21aa50c3, \n",
      "\n",
      "\tannotations = [], \n",
      "\n",
      "\tattachments = [], \n",
      "\n",
      "\tlinked_kitems = [], \n",
      "\n",
      "\taffiliations = [], \n",
      "\n",
      "\tauthors = [\n",
      "\t\t{\n",
      "\t\t\tuser_id: 7f0e5a37-353b-4bbc-b1f1-b6ad575f562d\n",
      "\t\t}\n",
      "\t], \n",
      "\n",
      "\tavatar_exists = False, \n",
      "\n",
      "\tcontacts = [], \n",
      "\n",
      "\tcreated_at = 2024-08-19 18:26:00.740761, \n",
      "\n",
      "\tupdated_at = 2024-08-19 18:26:00.740761, \n",
      "\n",
      "\texternal_links = [], \n",
      "\n",
      "\tkitem_apps = [], \n",
      "\n",
      "\tsummary = None, \n",
      "\n",
      "\tuser_groups = [], \n",
      "\n",
      "\tcustom_properties = None, \n",
      "\n",
      "\tdataframe = None, \n",
      "\n",
      "\trdf_exists = False\n",
      ")\n",
      "fuzziness:  False\n",
      "\n",
      "\n"
     ]
    }
   ],
   "source": [
    "for result in dsms.search(ktypes=[dsms.ktypes.Organization, dsms.ktypes.DatasetCatalog], limit=1):\n",
    "    print(result.hit)\n",
    "    print(\"fuzziness: \", result.fuzzy)\n",
    "    print(\"\\n\")\n",
    "    "
   ]
  },
  {
   "cell_type": "markdown",
   "metadata": {},
   "source": [
    "... or for all of type `Dataset` with `Specimen-1` in the name:"
   ]
  },
  {
   "cell_type": "code",
   "execution_count": 6,
   "metadata": {},
   "outputs": [],
   "source": [
    "for result in dsms.search(query=\"Specimen-1\", ktypes=[dsms.ktypes.Dataset], limit=1):\n",
    "    print(result.hit)\n",
    "    print(\"\\n\")"
   ]
  },
  {
   "cell_type": "markdown",
   "metadata": {},
   "source": [
    "... and for all of type `Organization` with the annotation `www.researchBACiri.org/foo`:"
   ]
  },
  {
   "cell_type": "code",
   "execution_count": 7,
   "metadata": {},
   "outputs": [
    {
     "name": "stdout",
     "output_type": "stream",
     "text": [
      "KItem(\n",
      "\n",
      "\tname = Research Institute ABC, \n",
      "\n",
      "\tid = 84c089e6-feab-4ba6-a934-527594e504eb, \n",
      "\n",
      "\tktype_id = organization, \n",
      "\n",
      "\tin_backend = True, \n",
      "\n",
      "\tslug = researchinstituteabc-84c089e6, \n",
      "\n",
      "\tannotations = [\n",
      "\t\t{\n",
      "\t\t\tiri: www.researchBACiri.org/foo,\n",
      "\t\t\tname: research ABC Institute,\n",
      "\t\t\tnamespace: research,\n",
      "\t\t\tdescription: None\n",
      "\t\t}\n",
      "\t], \n",
      "\n",
      "\tattachments = [], \n",
      "\n",
      "\tlinked_kitems = [\n",
      "\t\t\n",
      "\t\t\tid: 694561e9-df15-4c71-ae71-abd91df3ec23\n",
      "\t\t\tname: Machine-1\n",
      "\t\t\tslug: machine-1-694561e9\n",
      "\t\t\tktype_id: testing-machine\n",
      "\t\t\tsummary: None\n",
      "\t\t\tavatar_exists: False\n",
      "\t\t\tannotations: []\n",
      "\t\t\tlinked_kitems: [{\n",
      "\t\t\tid: 83672cdb-7584-4dd7-9b6e-d10574f1adf7\n",
      "\t\t}, {\n",
      "\t\t\tid: 84c089e6-feab-4ba6-a934-527594e504eb\n",
      "\t\t}]\n",
      "\t\t\texternal_links: []\n",
      "\t\t\tcontacts: []\n",
      "\t\t\tauthors: [{\n",
      "\t\t\tuser_id: 7f0e5a37-353b-4bbc-b1f1-b6ad575f562d\n",
      "\t\t}]\n",
      "\t\t\tlinked_affiliations: []\n",
      "\t\t\tattachments: []\n",
      "\t\t\tuser_groups: []\n",
      "\t\t\tcustom_properties: {'Producer': 'TestingLab GmBH', 'Room Number': 'A404', 'Description': 'Bending Test Machine'}\n",
      "\t\t\tcreated_at: 2024-08-19T18:26:08.898435\n",
      "\t\t\tupdated_at: 2024-08-19T18:26:08.898435\n",
      "\t\t\n",
      "\t], \n",
      "\n",
      "\taffiliations = [], \n",
      "\n",
      "\tauthors = [\n",
      "\t\t{\n",
      "\t\t\tuser_id: 7f0e5a37-353b-4bbc-b1f1-b6ad575f562d\n",
      "\t\t}\n",
      "\t], \n",
      "\n",
      "\tavatar_exists = False, \n",
      "\n",
      "\tcontacts = [], \n",
      "\n",
      "\tcreated_at = 2024-08-19 18:26:09.390800, \n",
      "\n",
      "\tupdated_at = 2024-08-19 18:26:09.390800, \n",
      "\n",
      "\texternal_links = [], \n",
      "\n",
      "\tkitem_apps = [], \n",
      "\n",
      "\tsummary = None, \n",
      "\n",
      "\tuser_groups = [], \n",
      "\n",
      "\tcustom_properties = None, \n",
      "\n",
      "\tdataframe = None, \n",
      "\n",
      "\trdf_exists = False\n",
      ")\n",
      "\n",
      "\n"
     ]
    }
   ],
   "source": [
    "for result in dsms.search(\n",
    "          ktypes=[dsms.ktypes.Organization], annotations=[\"www.researchBACiri.org/foo\"], limit=1\n",
    "    ):\n",
    "    print(result.hit)\n",
    "    print(\"\\n\")"
   ]
  },
  {
   "cell_type": "markdown",
   "metadata": {},
   "source": [
    "Clean up the DSMS from the tutortial:"
   ]
  },
  {
   "cell_type": "code",
   "execution_count": 8,
   "metadata": {},
   "outputs": [],
   "source": [
    "del dsms[item1]\n",
    "del dsms[item2]\n",
    "del dsms[item3]\n",
    "del dsms[item4]\n",
    "del dsms[item5]\n",
    "\n",
    "dsms.commit()"
   ]
  }
 ],
 "metadata": {
  "kernelspec": {
   "display_name": "sdk",
   "language": "python",
   "name": "python3"
  },
  "language_info": {
   "codemirror_mode": {
    "name": "ipython",
    "version": 3
   },
   "file_extension": ".py",
   "mimetype": "text/x-python",
   "name": "python",
   "nbconvert_exporter": "python",
   "pygments_lexer": "ipython3",
   "version": "3.10.12"
  }
 },
 "nbformat": 4,
 "nbformat_minor": 2
}
