{
 "cells": [
  {
   "cell_type": "markdown",
   "metadata": {},
   "source": [
    "# 5. Searching KItems with the SDK\n",
    "\n",
    "In this tutorial we see how to search existing Kitems"
   ]
  },
  {
   "cell_type": "markdown",
   "metadata": {},
   "source": [
    "### 5.1. Setting up\n",
    "Before you run this tutorial: make sure to have access to a DSMS-instance of your interest, alongwith with installation of this package and have establised access to the DSMS through DSMS-SDK (refer to [Connecting to DSMS](../dsms_sdk.md#connecting-to-dsms))\n",
    "\n",
    "\n",
    "Now let us import the needed classes and functions for this tutorial."
   ]
  },
  {
   "cell_type": "code",
   "execution_count": null,
   "metadata": {},
   "outputs": [],
   "source": [
    "from dsms import DSMS, KItem"
   ]
  },
  {
   "cell_type": "markdown",
   "metadata": {},
   "source": [
    "Now source the environmental variables from an `.env` file and start the DSMS-session."
   ]
  },
  {
   "cell_type": "code",
   "execution_count": null,
   "metadata": {},
   "outputs": [],
   "source": [
    "dsms = DSMS(env=\"../../../.env\")"
   ]
  },
  {
   "cell_type": "markdown",
   "metadata": {},
   "source": [
    "### 5.2. Searching for KItems"
   ]
  },
  {
   "cell_type": "markdown",
   "metadata": {},
   "source": [
    "In this section, we would like to search for specfic KItems we created in the DSMS.\n",
    "\n",
    "For this purpose, we will firstly create some KItems and apply the `search`-method on the `DSMS`-object later on in order to find them again in the DSMS.\n",
    "\n",
    "We also want to demonstrate here, that we can link KItems to each other in order to find e.g. a related item of type `DatasetCatalog`. For this strategy, we are using the `linked_kitems`- attribute and the `id` of the item which we would like to link.\n",
    "\n",
    "The procedure looks like this:"
   ]
  },
  {
   "cell_type": "code",
   "execution_count": null,
   "metadata": {},
   "outputs": [],
   "source": [
    "item1 = KItem(\n",
    "    name=\"Machine-1\",\n",
    "    ktype_id=dsms.ktypes.TestingMachine,\n",
    "    custom_properties={\"Producer\": \"TestingLab GmBH\",\n",
    "                       \"Room Number\": \"A404\",\n",
    "                       \"Description\": \"Bending Test Machine\"\n",
    "                       }\n",
    ")\n",
    "\n",
    "item2 = KItem(\n",
    "    name=\"Machine-2\",\n",
    "    ktype_id=dsms.ktypes.TestingMachine,\n",
    "    custom_properties={\"Producer\": \"StressStrain GmBH\",\n",
    "                       \"Room Number\": \"B500\",\n",
    "                       \"Description\": \"Compression Test Machine\"\n",
    "                       }\n",
    ")\n",
    "\n",
    "item3 = KItem(\n",
    "    name=\"Specimen-1\", \n",
    "    ktype_id=dsms.ktypes.Specimen,\n",
    "    linked_kitems=[item1],\n",
    "    custom_properties={\"Geometry\": \"Cylindrical 150mm x 20mm x 40mm\",\n",
    "                       \"Material\": \"Concrete\",\n",
    "                       \"Project ID\": \"ConstructionProject2024\"\n",
    "    }\n",
    "\n",
    ")\n",
    "item4 = KItem(\n",
    "    name=\"Specimen-2\",\n",
    "    ktype_id=dsms.ktypes.Specimen,\n",
    "    linked_kitems=[item2],\n",
    "    custom_properties={\"Geometry\": \"Rectangular 200mm x 30mm x 20mm\",\n",
    "                       \"Material\": \"Metal\",\n",
    "                       \"Project ID\": \"MetalBlenders2024\"\n",
    "                       }\n",
    ")\n",
    "\n",
    "item5 = KItem(\n",
    "    name=\"Fraunhofer BAC\",\n",
    "    ktype_id=dsms.ktypes.Organization,\n",
    "    linked_kitems=[item1],\n",
    "    annotations=[\n",
    "        {\n",
    "            \"iri\": \"www.researchBACiri.org/foo\",\n",
    "            \"name\": \"research BAC Institute\",\n",
    "            \"namespace\": \"research-BAC\",\n",
    "        }\n",
    "    ],\n",
    ")\n",
    "\n",
    "dsms.commit()"
   ]
  },
  {
   "cell_type": "markdown",
   "metadata": {},
   "source": [
    "\n",
    "#### <p style=\"color:red;\">Note : Here in this tutorial, we use dsms.search with `limit=1` to make it aesthically precise and maintain easy readability but the user can adjust the variable `limit` as per requirement. </p>\n",
    "\n",
    "\n",
    "Now, we are apply to search for e.g. kitems of type `TestingMachine`:"
   ]
  },
  {
   "cell_type": "code",
   "execution_count": null,
   "metadata": {},
   "outputs": [],
   "source": [
    "dsms.search(ktypes=[dsms.ktypes.TestingMachine], limit=1)"
   ]
  },
  {
   "cell_type": "markdown",
   "metadata": {},
   "source": [
    "... and for all of type `Organization` and `DatasetCatalog`:"
   ]
  },
  {
   "cell_type": "code",
   "execution_count": null,
   "metadata": {},
   "outputs": [],
   "source": [
    "dsms.search(ktypes=[dsms.ktypes.Organization, dsms.ktypes.DatasetCatalog], limit=1)"
   ]
  },
  {
   "cell_type": "markdown",
   "metadata": {},
   "source": [
    "... or for all of type `Dataset` with `Specimen-1` in the name:"
   ]
  },
  {
   "cell_type": "code",
   "execution_count": null,
   "metadata": {},
   "outputs": [],
   "source": [
    "dsms.search(query=\"Specimen-1\", ktypes=[dsms.ktypes.Dataset], limit=1)"
   ]
  },
  {
   "cell_type": "markdown",
   "metadata": {},
   "source": [
    "... and for all of type `Organization` with the annotation `www.researchBACiri.org/foo`:"
   ]
  },
  {
   "cell_type": "code",
   "execution_count": null,
   "metadata": {},
   "outputs": [],
   "source": [
    "dsms.search(\n",
    "        ktypes=[dsms.ktypes.Organization], annotations=[\"www.researchBACiri.org/foo\"], limit=1\n",
    "    )"
   ]
  },
  {
   "cell_type": "markdown",
   "metadata": {},
   "source": [
    "Clean up the DSMS from the tutortial:"
   ]
  },
  {
   "cell_type": "code",
   "execution_count": null,
   "metadata": {},
   "outputs": [],
   "source": [
    "del dsms[item1]\n",
    "del dsms[item2]\n",
    "del dsms[item3]\n",
    "del dsms[item4]\n",
    "del dsms[item5]\n",
    "\n",
    "dsms.commit()"
   ]
  },
  {
   "cell_type": "markdown",
   "metadata": {},
   "source": []
  }
 ],
 "metadata": {
  "kernelspec": {
   "display_name": "sdk",
   "language": "python",
   "name": "python3"
  },
  "language_info": {
   "codemirror_mode": {
    "name": "ipython",
    "version": 3
   },
   "file_extension": ".py",
   "mimetype": "text/x-python",
   "name": "python",
   "nbconvert_exporter": "python",
   "pygments_lexer": "ipython3",
   "version": "3.10.13"
  }
 },
 "nbformat": 4,
 "nbformat_minor": 2
}
