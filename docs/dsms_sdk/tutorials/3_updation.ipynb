{
 "cells": [
  {
   "cell_type": "markdown",
   "metadata": {},
   "source": [
    "# 3. Updating KItems with the SDK\n",
    "\n",
    "In this tutorial we see how to update existing Kitems."
   ]
  },
  {
   "cell_type": "markdown",
   "metadata": {},
   "source": [
    "### 3.1. Setting up\n",
    "\n",
    "Before you run this tutorial: make sure to have access to a DSMS-instance of your interest, alongwith with installation of this package and have establised access to the DSMS through DSMS-SDK (refer to [Connecting to DSMS](../dsms_sdk.md#connecting-to-dsms))\n",
    "\n",
    "\n",
    "Now let us import the needed classes and functions for this tutorial."
   ]
  },
  {
   "cell_type": "code",
   "execution_count": 13,
   "metadata": {},
   "outputs": [],
   "source": [
    "from dsms import DSMS, KItem"
   ]
  },
  {
   "cell_type": "markdown",
   "metadata": {},
   "source": [
    "Now source the environmental variables from an `.env` file and start the DSMS-session."
   ]
  },
  {
   "cell_type": "code",
   "execution_count": 14,
   "metadata": {},
   "outputs": [],
   "source": [
    "dsms = DSMS(env=\".env\")"
   ]
  },
  {
   "cell_type": "markdown",
   "metadata": {},
   "source": [
    "Now lets get the kitem we created in the [2nd tutorial : Creation of Kitems](2_creation.ipynb)\n"
   ]
  },
  {
   "cell_type": "code",
   "execution_count": 15,
   "metadata": {},
   "outputs": [
    {
     "name": "stdout",
     "output_type": "stream",
     "text": [
      "Machine-1\n"
     ]
    }
   ],
   "source": [
    "item = dsms.kitems[-1]\n",
    "print(item.name)"
   ]
  },
  {
   "cell_type": "markdown",
   "metadata": {},
   "source": [
    "### 3.2. Updating Kitems"
   ]
  },
  {
   "cell_type": "markdown",
   "metadata": {},
   "source": [
    "Now, we would like to update the properties of our KItem we created previously.\n",
    "\n",
    "Depending on the schema of each property (see [DSMS KItem Schema](../dsms_kitem_schema.md)), we can simply use the standard `list`-method as we know them from basic Python (e.g. for the `annotations`, `attachments`, `external_link`, etc). \n",
    "\n",
    "Other properties which are not `list`-like can be simply set by attribute-assignment (e.g. `name`, `slug`, `ktype_id`, etc)."
   ]
  },
  {
   "cell_type": "code",
   "execution_count": 16,
   "metadata": {},
   "outputs": [],
   "source": [
    "item.name = \"Machine-1\"\n",
    "item.custom_properties.Producer = \"Machinery GmBH\"\n",
    "item.attachments.append(\"testfile.txt\")\n",
    "item.annotations.append(\"www.machinery.org/\")\n",
    "item.external_links.append(\n",
    "    {\"url\": \"http://machine.org\", \"label\": \"machine-link\"}\n",
    ")\n",
    "item.contacts.append({\"name\": \"machinesupport\", \"email\": \"machinesupport@group.mail\"})\n",
    "item.affiliations.append(\"machine-team\")\n",
    "item.user_groups.append({\"name\": \"machinegroup\", \"group_id\": \"123\"})"
   ]
  },
  {
   "cell_type": "code",
   "execution_count": 17,
   "metadata": {},
   "outputs": [],
   "source": [
    "dsms.commit()"
   ]
  },
  {
   "cell_type": "markdown",
   "metadata": {},
   "source": [
    "We can see now that the local system path of the attachment is changed to a simply file name, which means that the upload was successful. If not so, an error would have been thrown during the `commit`."
   ]
  },
  {
   "cell_type": "markdown",
   "metadata": {},
   "source": [
    "We can see the updates when we print the item:"
   ]
  },
  {
   "cell_type": "code",
   "execution_count": 19,
   "metadata": {},
   "outputs": [
    {
     "data": {
      "text/plain": [
       "KItem(\n",
       "\n",
       "\tname = Machine-1, \n",
       "\n",
       "\tid = dd091666-a7c9-4b3b-8832-910bdec5c63c, \n",
       "\n",
       "\tktype_id = testing-machine, \n",
       "\n",
       "\tin_backend = True, \n",
       "\n",
       "\tslug = machine-1-dd091666, \n",
       "\n",
       "\tannotations = [\n",
       "\t\t{\n",
       "\t\t\tiri: www.machinery.org/,\n",
       "\t\t\tname: ,\n",
       "\t\t\tnamespace: www.machinery.org,\n",
       "\t\t\tdescription: None\n",
       "\t\t}\n",
       "\t], \n",
       "\n",
       "\tattachments = [\n",
       "\t\t{\n",
       "\t\t\tname: testfile.txt\n",
       "\t\t}\n",
       "\t], \n",
       "\n",
       "\tlinked_kitems = [], \n",
       "\n",
       "\taffiliations = [\n",
       "\t\t{\n",
       "\t\t\tname: machine-team\n",
       "\t\t}\n",
       "\t], \n",
       "\n",
       "\tauthors = [\n",
       "\t\t{\n",
       "\t\t\tuser_id: 7f0e5a37-353b-4bbc-b1f1-b6ad575f562d\n",
       "\t\t}\n",
       "\t], \n",
       "\n",
       "\tavatar_exists = False, \n",
       "\n",
       "\tcontacts = [\n",
       "\t\t{\n",
       "\t\t\tname: machinesupport,\n",
       "\t\t\temail: machinesupport@group.mail,\n",
       "\t\t\tuser_id: None\n",
       "\t\t}\n",
       "\t], \n",
       "\n",
       "\tcreated_at = 2024-08-19 18:12:11.338394, \n",
       "\n",
       "\tupdated_at = 2024-08-19 18:12:11.338394, \n",
       "\n",
       "\texternal_links = [\n",
       "\t\t{\n",
       "\t\t\tlabel: machine-link,\n",
       "\t\t\turl: http://machine.org/\n",
       "\t\t}\n",
       "\t], \n",
       "\n",
       "\tkitem_apps = [], \n",
       "\n",
       "\tsummary = None, \n",
       "\n",
       "\tuser_groups = [\n",
       "\t\t{\n",
       "\t\t\tname: machinegroup,\n",
       "\t\t\tgroup_id: 123\n",
       "\t\t}\n",
       "\t], \n",
       "\n",
       "\tcustom_properties = {\n",
       "\t\tProducer: Machinery GmBH, \n",
       "\t\tLocation: A404, \n",
       "\t\tModel Number: Bending Test Machine No 777\n",
       "\t}, \n",
       "\n",
       "\tdataframe = None, \n",
       "\n",
       "\trdf_exists = False\n",
       ")"
      ]
     },
     "execution_count": 19,
     "metadata": {},
     "output_type": "execute_result"
    }
   ],
   "source": [
    "item"
   ]
  },
  {
   "cell_type": "markdown",
   "metadata": {},
   "source": [
    "Furthermore we can also download the file we uploaded again:"
   ]
  },
  {
   "cell_type": "code",
   "execution_count": 18,
   "metadata": {},
   "outputs": [
    {
     "name": "stdout",
     "output_type": "stream",
     "text": [
      "\t\t\t Downloaded file: {\n",
      "\t\t\tname: testfile.txt\n",
      "\t\t}\n",
      "|------------------------------------Beginning of file------------------------------------|\n",
      "This is a calibration protocol!\n",
      "|---------------------------------------End of file---------------------------------------|\n"
     ]
    }
   ],
   "source": [
    "for file in item.attachments:\n",
    "    download = file.download()\n",
    "\n",
    "    print(\"\\t\\t\\t Downloaded file:\", file)\n",
    "    print(\"|------------------------------------Beginning of file------------------------------------|\")\n",
    "    print(download)\n",
    "    print(\"|---------------------------------------End of file---------------------------------------|\")"
   ]
  }
 ],
 "metadata": {
  "kernelspec": {
   "display_name": "sdk",
   "language": "python",
   "name": "python3"
  },
  "language_info": {
   "codemirror_mode": {
    "name": "ipython",
    "version": 3
   },
   "file_extension": ".py",
   "mimetype": "text/x-python",
   "name": "python",
   "nbconvert_exporter": "python",
   "pygments_lexer": "ipython3",
   "version": "3.10.12"
  }
 },
 "nbformat": 4,
 "nbformat_minor": 2
}
