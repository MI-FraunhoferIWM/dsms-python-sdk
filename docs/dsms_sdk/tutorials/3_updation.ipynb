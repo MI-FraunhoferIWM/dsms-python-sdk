{
 "cells": [
  {
   "cell_type": "markdown",
   "metadata": {},
   "source": [
    "# 3. Updating KItems with the SDK\n",
    "\n",
    "In this tutorial we see how to update existing Kitems."
   ]
  },
  {
   "cell_type": "markdown",
   "metadata": {},
   "source": [
    "### 3.1. Setting up\n",
    "\n",
    "Before you run this tutorial: make sure to have access to a DSMS-instance of your interest, alongwith with installation of this package and have establised access to the DSMS through DSMS-SDK (refer to [Connecting to DSMS](../dsms_sdk.md#connecting-to-dsms))\n",
    "\n",
    "\n",
    "Now let us import the needed classes and functions for this tutorial."
   ]
  },
  {
   "cell_type": "code",
   "execution_count": 1,
   "metadata": {},
   "outputs": [],
   "source": [
    "from dsms import DSMS, KItem"
   ]
  },
  {
   "cell_type": "markdown",
   "metadata": {},
   "source": [
    "Now source the environmental variables from an `.env` file and start the DSMS-session."
   ]
  },
  {
   "cell_type": "code",
   "execution_count": 2,
   "metadata": {},
   "outputs": [],
   "source": [
    "dsms = DSMS(env=\".env\")"
   ]
  },
  {
   "cell_type": "markdown",
   "metadata": {},
   "source": [
    "Now lets get the kitem we created in the [2nd tutorial : Creation of Kitems](2_creation.ipynb)\n"
   ]
  },
  {
   "cell_type": "code",
   "execution_count": null,
   "metadata": {},
   "outputs": [
    {
     "name": "stdout",
     "output_type": "stream",
     "text": [
      "81\n"
     ]
    }
   ],
   "source": [
    "items = dsms.get_kitems(limit=200)[-1]"
   ]
  },
  {
   "cell_type": "code",
   "execution_count": 11,
   "metadata": {},
   "outputs": [
    {
     "data": {
      "text/plain": [
       "kitem:\n",
       "  name: Machine-1\n",
       "  id: 73046897-4569-4b7b-9d2f-2d8a72002432\n",
       "  ktype_id: specimen\n",
       "  slug: machine-1-73046897\n",
       "  annotations: []\n",
       "  attachments:\n",
       "  - name: subgraph.ttl\n",
       "    content: null\n",
       "  linked_kitems: []\n",
       "  affiliations: []\n",
       "  authors:\n",
       "  - user_id: 7f0e5a37-353b-4bbc-b1f1-b6ad575f562d\n",
       "  avatar_exists: false\n",
       "  contacts: []\n",
       "  created_at: 2025-01-08 14:46:22.262147\n",
       "  updated_at: 2025-01-08 14:46:22.262147\n",
       "  external_links: []\n",
       "  kitem_apps: []\n",
       "  user_groups: []\n",
       "  custom_properties:\n",
       "    sections:\n",
       "    - id: id17363475782033gesrh\n",
       "      name: Misc\n",
       "      entries:\n",
       "      - id: id1736347578203ff9n04\n",
       "        type: Text\n",
       "        label: Producer\n",
       "        value: TestingLab GmBH\n",
       "      - id: id1736347578203kpxtjv\n",
       "        type: Text\n",
       "        label: Location\n",
       "        value: A404\n",
       "      - id: id1736347578203a9211r\n",
       "        type: Text\n",
       "        label: Model Number\n",
       "        value: Bending Test Machine No 777\n",
       "  rdf_exists: true"
      ]
     },
     "execution_count": 11,
     "metadata": {},
     "output_type": "execute_result"
    }
   ],
   "source": [
    "item"
   ]
  },
  {
   "cell_type": "markdown",
   "metadata": {},
   "source": [
    "### 3.2. Updating Kitems"
   ]
  },
  {
   "cell_type": "markdown",
   "metadata": {},
   "source": [
    "Now, we would like to update the properties of our KItem we created previously.\n",
    "\n",
    "Depending on the schema of each property (see [DSMS KItem Schema](../dsms_kitem_schema.md)), we can simply use the standard `list`-method as we know them from basic Python (e.g. for the `annotations`, `attachments`, `external_link`, etc). \n",
    "\n",
    "Other properties which are not `list`-like can be simply set by attribute-assignment (e.g. `name`, `slug`, `ktype_id`, etc)."
   ]
  },
  {
   "cell_type": "code",
   "execution_count": 12,
   "metadata": {},
   "outputs": [],
   "source": [
    "item.name = \"Machine-1\"\n",
    "item.custom_properties.Producer = \"Machinery GmBH\"\n",
    "item.attachments.append(\"testfile.txt\")\n",
    "item.annotations.append(\"www.machinery.org/testingmachine\")\n",
    "item.external_links.append(\n",
    "    {\"url\": \"http://machine.org\", \"label\": \"machine-link\"}\n",
    ")\n",
    "item.contacts.append({\"name\": \"machinesupport\", \"email\": \"machinesupport@group.mail\"})\n",
    "item.affiliations.append(\"machine-team\")\n",
    "item.user_groups.append({\"name\": \"machinegroup\", \"group_id\": \"123\"})"
   ]
  },
  {
   "cell_type": "code",
   "execution_count": 5,
   "metadata": {},
   "outputs": [],
   "source": [
    "dsms.commit()"
   ]
  },
  {
   "cell_type": "markdown",
   "metadata": {},
   "source": [
    "We can see now that the local system path of the attachment is changed to a simply file name, which means that the upload was successful. If not so, an error would have been thrown during the `commit`."
   ]
  },
  {
   "cell_type": "markdown",
   "metadata": {},
   "source": [
    "We can see the updates when we print the item:"
   ]
  },
  {
   "cell_type": "code",
   "execution_count": 13,
   "metadata": {},
   "outputs": [
    {
     "data": {
      "text/plain": [
       "kitem:\n",
       "  name: Machine-1\n",
       "  id: 73046897-4569-4b7b-9d2f-2d8a72002432\n",
       "  ktype_id: specimen\n",
       "  slug: machine-1-73046897\n",
       "  annotations:\n",
       "  - iri: www.machinery.org/testingmachine\n",
       "    label: testingmachine\n",
       "    namespace: www.machinery.org\n",
       "  attachments:\n",
       "  - name: subgraph.ttl\n",
       "    content: null\n",
       "  - name: testfile.txt\n",
       "    content: null\n",
       "  linked_kitems: []\n",
       "  affiliations:\n",
       "  - name: machine-team\n",
       "  authors:\n",
       "  - user_id: 7f0e5a37-353b-4bbc-b1f1-b6ad575f562d\n",
       "  avatar_exists: false\n",
       "  contacts:\n",
       "  - name: machinesupport\n",
       "    email: machinesupport@group.mail\n",
       "    user_id: null\n",
       "  created_at: 2025-01-08 14:46:22.262147\n",
       "  updated_at: 2025-01-08 14:46:22.262147\n",
       "  external_links:\n",
       "  - label: machine-link\n",
       "    url: http://machine.org\n",
       "  kitem_apps: []\n",
       "  user_groups:\n",
       "  - name: machinegroup\n",
       "    group_id: '123'\n",
       "  custom_properties:\n",
       "    sections:\n",
       "    - id: id17363475782033gesrh\n",
       "      name: Misc\n",
       "      entries:\n",
       "      - id: id1736347578203ff9n04\n",
       "        type: Text\n",
       "        label: Producer\n",
       "        value: Machinery GmBH\n",
       "      - id: id1736347578203kpxtjv\n",
       "        type: Text\n",
       "        label: Location\n",
       "        value: A404\n",
       "      - id: id1736347578203a9211r\n",
       "        type: Text\n",
       "        label: Model Number\n",
       "        value: Bending Test Machine No 777\n",
       "  rdf_exists: true"
      ]
     },
     "execution_count": 13,
     "metadata": {},
     "output_type": "execute_result"
    }
   ],
   "source": [
    "item"
   ]
  },
  {
   "cell_type": "markdown",
   "metadata": {},
   "source": [
    "Furthermore we can also download the file we uploaded again:"
   ]
  },
  {
   "cell_type": "code",
   "execution_count": 7,
   "metadata": {},
   "outputs": [
    {
     "name": "stdout",
     "output_type": "stream",
     "text": [
      "\t\t\t Downloaded file: attachment:\n",
      "  name: testfile.txt\n",
      "  content: null\n",
      "\n",
      "|------------------------------------Beginning of file------------------------------------|\n",
      "This is a calibration protocol!\n",
      "\n",
      "|---------------------------------------End of file---------------------------------------|\n"
     ]
    }
   ],
   "source": [
    "for file in item.attachments:\n",
    "    download = file.download()\n",
    "\n",
    "    print(\"\\t\\t\\t Downloaded file:\", file)\n",
    "    print(\"|------------------------------------Beginning of file------------------------------------|\")\n",
    "    print(download)\n",
    "    print(\"|---------------------------------------End of file---------------------------------------|\")"
   ]
  }
 ],
 "metadata": {
  "kernelspec": {
   "display_name": "Python 3",
   "language": "python",
   "name": "python3"
  },
  "language_info": {
   "codemirror_mode": {
    "name": "ipython",
    "version": 3
   },
   "file_extension": ".py",
   "mimetype": "text/x-python",
   "name": "python",
   "nbconvert_exporter": "python",
   "pygments_lexer": "ipython3",
   "version": "3.10.15"
  }
 },
 "nbformat": 4,
 "nbformat_minor": 2
}
