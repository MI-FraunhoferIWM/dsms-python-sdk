{
 "cells": [
  {
   "cell_type": "markdown",
   "metadata": {},
   "source": [
    "# 2. Create KItems with the SDK\n",
    "\n",
    "In this tutorial we see how to create new Kitems."
   ]
  },
  {
   "cell_type": "markdown",
   "metadata": {},
   "source": [
    "### 2.1. Setting up\n",
    "Before you run this tutorial: make sure to have access to a DSMS-instance of your interest, alongwith with installation of this package and have establised access to the DSMS through DSMS-SDK (refer to [Connecting to DSMS](../dsms_sdk.md#connecting-to-dsms))\n",
    "\n",
    "Now let us import the needed classes and functions for this tutorial."
   ]
  },
  {
   "cell_type": "code",
   "execution_count": 1,
   "metadata": {},
   "outputs": [],
   "source": [
    "from dsms import DSMS, KItem"
   ]
  },
  {
   "cell_type": "markdown",
   "metadata": {},
   "source": [
    "Now source the environmental variables from an `.env` file and start the DSMS-session."
   ]
  },
  {
   "cell_type": "code",
   "execution_count": 2,
   "metadata": {},
   "outputs": [],
   "source": [
    "dsms = DSMS(env=\".env\")"
   ]
  },
  {
   "cell_type": "markdown",
   "metadata": {},
   "source": [
    "\n",
    "### 2.2: Create KItems"
   ]
  },
  {
   "cell_type": "markdown",
   "metadata": {},
   "source": [
    "We can make new KItems by simple class-initiation: (Make sure existing KItems are not given as input). \n",
    "#"
   ]
  },
  {
   "cell_type": "code",
   "execution_count": 3,
   "metadata": {},
   "outputs": [
    {
     "name": "stderr",
     "output_type": "stream",
     "text": [
      "/app/dsms/knowledge/kitem.py:512: UserWarning: A flat dictionary was provided for custom properties.\n",
      "                    Will be transformed into `KItemCustomPropertiesModel`.\n",
      "  warnings.warn(\n"
     ]
    },
    {
     "data": {
      "text/plain": [
       "kitem:\n",
       "  name: Specimen123\n",
       "  ktype_id: specimen\n",
       "  custom_properties:\n",
       "    content:\n",
       "      sections:\n",
       "      - id: idb424123144cdd8\n",
       "        name: Untitled Section\n",
       "        entries:\n",
       "        - id: id6c76bbffe7ca78\n",
       "          type: Number\n",
       "          label: Width\n",
       "          value: 0.5\n",
       "          measurementUnit:\n",
       "            iri: http://qudt.org/vocab/unit/MilliM\n",
       "            label: Millimetre\n",
       "            symbol: null\n",
       "            namespace: http://qudt.org/vocab/unit\n",
       "          relationMapping: null\n",
       "          required: false\n",
       "        - id: id717d07130a7618\n",
       "          type: Slider\n",
       "          label: Length\n",
       "          value:\n",
       "          - 0.1\n",
       "          - 0.2\n",
       "          measurementUnit:\n",
       "            iri: http://qudt.org/vocab/unit/MilliM\n",
       "            label: Millimetre\n",
       "            symbol: null\n",
       "            namespace: http://qudt.org/vocab/unit\n",
       "          relationMapping: null\n",
       "          required: false"
      ]
     },
     "execution_count": 3,
     "metadata": {},
     "output_type": "execute_result"
    }
   ],
   "source": [
    "item = KItem(\n",
    "    name=\"Specimen123\",\n",
    "    ktype_id=dsms.ktypes.Specimen,\n",
    "    custom_properties = {\n",
    "        \"Width\": 0.5,\n",
    "        \"Length\": [0.1, 0.2],\n",
    "    }\n",
    ")\n",
    "\n",
    "item"
   ]
  },
  {
   "cell_type": "markdown",
   "metadata": {},
   "source": [
    "Remember: changes are only syncronized with the DSMS when you call the `commit`-method:"
   ]
  },
  {
   "cell_type": "code",
   "execution_count": 4,
   "metadata": {},
   "outputs": [
    {
     "data": {
      "text/plain": [
       "'https://bue.materials-data.space/knowledge/specimen/specimen123-587c2a46'"
      ]
     },
     "execution_count": 4,
     "metadata": {},
     "output_type": "execute_result"
    }
   ],
   "source": [
    "dsms.add(item)\n",
    "dsms.commit()\n",
    "item.url"
   ]
  },
  {
   "cell_type": "markdown",
   "metadata": {},
   "source": [
    "As we can see, the object we created before running the `commit`-method has automatically been updated, e.g. with the creation- and update-timestamp. We can check this with the below command:"
   ]
  },
  {
   "cell_type": "code",
   "execution_count": 5,
   "metadata": {},
   "outputs": [
    {
     "data": {
      "text/plain": [
       "kitem:\n",
       "  id: 587c2a46-5958-4b39-8afd-94c30b835b1b\n",
       "  name: Specimen123\n",
       "  ktype_id: specimen\n",
       "  slug: specimen123-587c2a46\n",
       "  annotations: []\n",
       "  attachments:\n",
       "  - name: subgraph.ttl\n",
       "  linked_kitems: []\n",
       "  affiliations: []\n",
       "  authors:\n",
       "  - user_id: 7f0e5a37-353b-4bbc-b1f1-b6ad575f562d\n",
       "  avatar_exists: false\n",
       "  contacts: []\n",
       "  created_at: 2025-07-21 14:55:11.799988\n",
       "  updated_at: 2025-07-21 14:55:11.799988\n",
       "  external_links: []\n",
       "  apps: []\n",
       "  user_groups: []\n",
       "  custom_properties:\n",
       "    content:\n",
       "      sections:\n",
       "      - id: idb424123144cdd8\n",
       "        name: Untitled Section\n",
       "        entries:\n",
       "        - id: id6c76bbffe7ca78\n",
       "          type: Number\n",
       "          label: Width\n",
       "          value: 0.5\n",
       "          measurementUnit:\n",
       "            iri: http://qudt.org/vocab/unit/MilliM\n",
       "            label: Millimetre\n",
       "            symbol: null\n",
       "            namespace: http://qudt.org/vocab/unit\n",
       "          relationMapping: null\n",
       "          required: false\n",
       "        - id: id717d07130a7618\n",
       "          type: Slider\n",
       "          label: Length\n",
       "          value:\n",
       "          - 0.1\n",
       "          - 0.2\n",
       "          measurementUnit:\n",
       "            iri: http://qudt.org/vocab/unit/MilliM\n",
       "            label: Millimetre\n",
       "            symbol: null\n",
       "            namespace: http://qudt.org/vocab/unit\n",
       "          relationMapping: null\n",
       "          required: false\n",
       "  rdf_exists: true\n",
       "  contexts: []"
      ]
     },
     "execution_count": 5,
     "metadata": {},
     "output_type": "execute_result"
    }
   ],
   "source": [
    "item"
   ]
  },
  {
   "cell_type": "markdown",
   "metadata": {},
   "source": [
    "To just get the name of the item, we can do it as follows:"
   ]
  },
  {
   "cell_type": "code",
   "execution_count": 6,
   "metadata": {},
   "outputs": [
    {
     "data": {
      "text/plain": [
       "'Specimen123'"
      ]
     },
     "execution_count": 6,
     "metadata": {},
     "output_type": "execute_result"
    }
   ],
   "source": [
    "item.name"
   ]
  },
  {
   "cell_type": "markdown",
   "metadata": {},
   "source": [
    "As well as the id of the kitem we can do it as follows:"
   ]
  },
  {
   "cell_type": "code",
   "execution_count": 7,
   "metadata": {},
   "outputs": [
    {
     "data": {
      "text/plain": [
       "UUID('587c2a46-5958-4b39-8afd-94c30b835b1b')"
      ]
     },
     "execution_count": 7,
     "metadata": {},
     "output_type": "execute_result"
    }
   ],
   "source": [
    "item.id"
   ]
  },
  {
   "cell_type": "markdown",
   "metadata": {},
   "source": [
    "To check the KType of the item newly created we can use the following:"
   ]
  },
  {
   "cell_type": "code",
   "execution_count": 8,
   "metadata": {},
   "outputs": [
    {
     "data": {
      "text/plain": [
       "ktype:\n",
       "  id: specimen\n",
       "  name: Specimen\n",
       "  webform_schema_id: 21164fb6-cc45-4e08-8f8b-467a749df54b\n",
       "  webform_schema:\n",
       "    id: 21164fb6-cc45-4e08-8f8b-467a749df54b\n",
       "    name: Specimen\n",
       "    spec:\n",
       "      semantics_enabled: true\n",
       "      sections_enabled: false\n",
       "      class_mapping:\n",
       "      - https://w3id.org/pmd/co/Specimen\n",
       "      sections:\n",
       "      - id: idb424123144cdd8\n",
       "        name: Untitled Section\n",
       "        inputs:\n",
       "        - id: id6c76bbffe7ca78\n",
       "          label: Width\n",
       "          widget: Number\n",
       "          required: false\n",
       "          hidden: false\n",
       "          ignore: false\n",
       "          select_options: []\n",
       "          measurement_unit:\n",
       "            label: Millimetre\n",
       "            iri: http://qudt.org/vocab/unit/MilliM\n",
       "            namespace: http://qudt.org/vocab/unit\n",
       "          relation_mapping:\n",
       "            iri: https://w3id.org/emmo#EMMO_17e27c22_37e1_468c_9dd7_95e137f73e7f\n",
       "            type: object_property\n",
       "            class_iri: https://w3id.org/emmo#EMMO_e4de48b1_dabb_4490_ac2b_040f926c64f0\n",
       "          multiple_selection: false\n",
       "          knowledge_type:\n",
       "          - null\n",
       "          range_options:\n",
       "            min: 0\n",
       "            max: 1\n",
       "            step: 0.1\n",
       "            range: false\n",
       "        - id: id717d07130a7618\n",
       "          label: Length\n",
       "          widget: Slider\n",
       "          required: false\n",
       "          hidden: false\n",
       "          ignore: false\n",
       "          select_options: []\n",
       "          measurement_unit:\n",
       "            label: Millimetre\n",
       "            iri: http://qudt.org/vocab/unit/MilliM\n",
       "            namespace: http://qudt.org/vocab/unit\n",
       "          relation_mapping:\n",
       "            iri: https://w3id.org/emmo#EMMO_17e27c22_37e1_468c_9dd7_95e137f73e7f\n",
       "            type: object_property\n",
       "            class_iri: https://w3id.org/emmo#EMMO_cd2cd0de_e0cc_4ef1_b27e_2e88db027bac\n",
       "          relation_mapping_extra:\n",
       "            iri: https://w3id.org/emmo#EMMO_17e27c22_37e1_468c_9dd7_95e137f73e7f\n",
       "            type: object_property\n",
       "            class_iri: https://w3id.org/emmo#EMMO_e4de48b1_dabb_4490_ac2b_040f926c64f0\n",
       "          multiple_selection: false\n",
       "          range_options:\n",
       "            min: 0\n",
       "            max: 1\n",
       "            step: 0.1\n",
       "            range: true\n",
       "        hidden: false\n",
       "    created_at: '2025-07-21T09:24:48.597715'\n",
       "    updated_at: '2025-07-21T13:56:38.225444'\n",
       "  created_at: '2025-07-21T09:20:12.746430'\n",
       "  updated_at: '2025-07-21T09:24:58.495720'"
      ]
     },
     "execution_count": 8,
     "metadata": {},
     "output_type": "execute_result"
    }
   ],
   "source": [
    "item.ktype"
   ]
  },
  {
   "cell_type": "markdown",
   "metadata": {},
   "source": [
    "... and also check the KType:"
   ]
  },
  {
   "cell_type": "code",
   "execution_count": 9,
   "metadata": {},
   "outputs": [
    {
     "data": {
      "text/plain": [
       "True"
      ]
     },
     "execution_count": 9,
     "metadata": {},
     "output_type": "execute_result"
    }
   ],
   "source": [
    "item.is_a(dsms.ktypes.Specimen)"
   ]
  },
  {
   "cell_type": "markdown",
   "metadata": {},
   "source": [
    "And we can convert the units:"
   ]
  },
  {
   "cell_type": "code",
   "execution_count": 10,
   "metadata": {},
   "outputs": [
    {
     "data": {
      "text/plain": [
       "0.0005"
      ]
     },
     "execution_count": 10,
     "metadata": {},
     "output_type": "execute_result"
    }
   ],
   "source": [
    "item.custom_properties.Width.convert_to(\"m\")"
   ]
  },
  {
   "cell_type": "code",
   "execution_count": 11,
   "metadata": {},
   "outputs": [
    {
     "data": {
      "text/plain": [
       "[0.0001, 0.0002]"
      ]
     },
     "execution_count": 11,
     "metadata": {},
     "output_type": "execute_result"
    }
   ],
   "source": [
    "item.custom_properties.Length.convert_to(\"m\")"
   ]
  },
  {
   "cell_type": "markdown",
   "metadata": {},
   "source": [
    "You can also convert the custom_properties to a flat dict by passing the `flat`-parameter to the `model_dump`-method of the pydantic model:"
   ]
  },
  {
   "cell_type": "code",
   "execution_count": 12,
   "metadata": {},
   "outputs": [
    {
     "data": {
      "text/plain": [
       "{'Width': 0.5, 'Length': [0.1, 0.2]}"
      ]
     },
     "execution_count": 12,
     "metadata": {},
     "output_type": "execute_result"
    }
   ],
   "source": [
    "item.custom_properties.model_dump(flat=True)"
   ]
  },
  {
   "cell_type": "markdown",
   "metadata": {},
   "source": [
    "\n",
    "Now you can check if the particular kitem is in the list of KItems. This can be done either by using the command:\n",
    "    `\n",
    "     dsms.kitems\n",
    "    `\n",
    "    or by logging into the frontend dsms instance."
   ]
  }
 ],
 "metadata": {
  "kernelspec": {
   "display_name": "Python 3",
   "language": "python",
   "name": "python3"
  },
  "language_info": {
   "codemirror_mode": {
    "name": "ipython",
    "version": 3
   },
   "file_extension": ".py",
   "mimetype": "text/x-python",
   "name": "python",
   "nbconvert_exporter": "python",
   "pygments_lexer": "ipython3",
   "version": "3.10.15"
  }
 },
 "nbformat": 4,
 "nbformat_minor": 2
}
