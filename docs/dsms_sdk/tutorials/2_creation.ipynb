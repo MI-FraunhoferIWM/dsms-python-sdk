{
 "cells": [
  {
   "cell_type": "markdown",
   "metadata": {},
   "source": [
    "# 2. Create KItems with the SDK\n",
    "\n",
    "In this tutorial we see how to create new Kitems."
   ]
  },
  {
   "cell_type": "markdown",
   "metadata": {},
   "source": [
    "### 2.1. Setting up\n",
    "Before you run this tutorial: make sure to have access to a DSMS-instance of your interest, alongwith with installation of this package and have establised access to the DSMS through DSMS-SDK (refer to [Connecting to DSMS](../dsms_sdk.md#connecting-to-dsms))\n",
    "\n",
    "Now let us import the needed classes and functions for this tutorial."
   ]
  },
  {
   "cell_type": "code",
   "execution_count": 1,
   "metadata": {},
   "outputs": [],
   "source": [
    "from dsms import DSMS, KItem"
   ]
  },
  {
   "cell_type": "markdown",
   "metadata": {},
   "source": [
    "Now source the environmental variables from an `.env` file and start the DSMS-session."
   ]
  },
  {
   "cell_type": "code",
   "execution_count": 2,
   "metadata": {},
   "outputs": [],
   "source": [
    "dsms = DSMS(env=\".env\")"
   ]
  },
  {
   "cell_type": "markdown",
   "metadata": {},
   "source": [
    "\n",
    "### 2.2: Create KItems"
   ]
  },
  {
   "cell_type": "markdown",
   "metadata": {},
   "source": [
    "We can make new KItems by simple class-initiation: (Make sure existing KItems are not given as input). \n",
    "#"
   ]
  },
  {
   "cell_type": "code",
   "execution_count": 3,
   "metadata": {},
   "outputs": [
    {
     "name": "stderr",
     "output_type": "stream",
     "text": [
      "/app/dsms/knowledge/kitem.py:472: UserWarning: A flat dictionary was provided for custom properties.\n",
      "                    Will be transformed into `KItemCustomPropertiesModel`.\n",
      "  warnings.warn(\n"
     ]
    },
    {
     "data": {
      "text/plain": [
       "kitem:\n",
       "  name: Specimen123\n",
       "  ktype_id: specimen\n",
       "  custom_properties:\n",
       "    content:\n",
       "      sections:\n",
       "      - id: id0595fb5f1853a8\n",
       "        name: Untitled Section\n",
       "        entries:\n",
       "        - id: idba92210e193128\n",
       "          type: Number\n",
       "          label: Width\n",
       "          value: 0.5\n",
       "          measurementUnit:\n",
       "            iri: http://qudt.org/vocab/unit/MilliM\n",
       "            label: Millimetre\n",
       "            symbol: null\n",
       "            namespace: http://qudt.org/vocab/unit\n",
       "          relationMapping: null\n",
       "          required: false\n",
       "        - id: ida08bcc9977e388\n",
       "          type: Slider\n",
       "          label: Length\n",
       "          value:\n",
       "          - 0.1\n",
       "          - 0.2\n",
       "          measurementUnit:\n",
       "            iri: http://qudt.org/vocab/unit/MilliM\n",
       "            label: Millimetre\n",
       "            symbol: null\n",
       "            namespace: http://qudt.org/vocab/unit\n",
       "          relationMapping: null\n",
       "          required: false"
      ]
     },
     "execution_count": 3,
     "metadata": {},
     "output_type": "execute_result"
    }
   ],
   "source": [
    "item = KItem(\n",
    "    name=\"Specimen123\",\n",
    "    ktype_id=dsms.ktypes.Specimen,\n",
    "    custom_properties = {\n",
    "        \"Width\": 0.5,\n",
    "        \"Length\": [0.1, 0.2],\n",
    "    }\n",
    ")\n",
    "\n",
    "item"
   ]
  },
  {
   "cell_type": "markdown",
   "metadata": {},
   "source": [
    "Remember: changes are only syncronized with the DSMS when you call the `commit`-method:"
   ]
  },
  {
   "cell_type": "code",
   "execution_count": 4,
   "metadata": {},
   "outputs": [
    {
     "data": {
      "text/plain": [
       "'https://bue.materials-data.space/knowledge/specimen/specimen123-8a0b398d'"
      ]
     },
     "execution_count": 4,
     "metadata": {},
     "output_type": "execute_result"
    }
   ],
   "source": [
    "dsms.add(item)\n",
    "dsms.commit()\n",
    "item.url"
   ]
  },
  {
   "cell_type": "markdown",
   "metadata": {},
   "source": [
    "As we can see, the object we created before running the `commit`-method has automatically been updated, e.g. with the creation- and update-timestamp. We can check this with the below command:"
   ]
  },
  {
   "cell_type": "code",
   "execution_count": 5,
   "metadata": {},
   "outputs": [
    {
     "data": {
      "text/plain": [
       "kitem:\n",
       "  name: Specimen123\n",
       "  id: 8a0b398d-b566-431a-b069-dc8195582baf\n",
       "  ktype_id: specimen\n",
       "  slug: specimen123-8a0b398d\n",
       "  annotations: []\n",
       "  attachments:\n",
       "  - name: subgraph.ttl\n",
       "  linked_kitems: []\n",
       "  affiliations: []\n",
       "  authors:\n",
       "  - user_id: 7f0e5a37-353b-4bbc-b1f1-b6ad575f562d\n",
       "  avatar_exists: false\n",
       "  contacts: []\n",
       "  created_at: 2025-04-09 10:25:31.657456\n",
       "  updated_at: 2025-04-09 10:25:31.657456\n",
       "  external_links: []\n",
       "  kitem_apps: []\n",
       "  user_groups: []\n",
       "  custom_properties:\n",
       "    content:\n",
       "      sections:\n",
       "      - id: id0595fb5f1853a8\n",
       "        name: Untitled Section\n",
       "        entries:\n",
       "        - id: idba92210e193128\n",
       "          type: Number\n",
       "          label: Width\n",
       "          value: 0.5\n",
       "          measurementUnit:\n",
       "            iri: http://qudt.org/vocab/unit/MilliM\n",
       "            label: Millimetre\n",
       "            symbol: null\n",
       "            namespace: http://qudt.org/vocab/unit\n",
       "          relationMapping: null\n",
       "          required: false\n",
       "        - id: ida08bcc9977e388\n",
       "          type: Slider\n",
       "          label: Length\n",
       "          value:\n",
       "          - 0.1\n",
       "          - 0.2\n",
       "          measurementUnit:\n",
       "            iri: http://qudt.org/vocab/unit/MilliM\n",
       "            label: Millimetre\n",
       "            symbol: null\n",
       "            namespace: http://qudt.org/vocab/unit\n",
       "          relationMapping: null\n",
       "          required: false\n",
       "  rdf_exists: true"
      ]
     },
     "execution_count": 5,
     "metadata": {},
     "output_type": "execute_result"
    }
   ],
   "source": [
    "item"
   ]
  },
  {
   "cell_type": "markdown",
   "metadata": {},
   "source": [
    "To just get the name of the item, we can do it as follows:"
   ]
  },
  {
   "cell_type": "code",
   "execution_count": 6,
   "metadata": {},
   "outputs": [
    {
     "data": {
      "text/plain": [
       "'Specimen123'"
      ]
     },
     "execution_count": 6,
     "metadata": {},
     "output_type": "execute_result"
    }
   ],
   "source": [
    "item.name"
   ]
  },
  {
   "cell_type": "markdown",
   "metadata": {},
   "source": [
    "As well as the id of the kitem we can do it as follows:"
   ]
  },
  {
   "cell_type": "code",
   "execution_count": 7,
   "metadata": {},
   "outputs": [
    {
     "data": {
      "text/plain": [
       "UUID('8a0b398d-b566-431a-b069-dc8195582baf')"
      ]
     },
     "execution_count": 7,
     "metadata": {},
     "output_type": "execute_result"
    }
   ],
   "source": [
    "item.id"
   ]
  },
  {
   "cell_type": "markdown",
   "metadata": {},
   "source": [
    "To check the KType of the item newly created we can use the following:"
   ]
  },
  {
   "cell_type": "code",
   "execution_count": 8,
   "metadata": {},
   "outputs": [
    {
     "data": {
      "text/plain": [
       "ktype:\n",
       "  id: specimen\n",
       "  name: Specimen\n",
       "  webform:\n",
       "    semanticsEnabled: true\n",
       "    sectionsEnabled: false\n",
       "    classMapping:\n",
       "    - https://w3id.org/steel/ProcessOntology/TestPiece\n",
       "    sections:\n",
       "    - id: id0595fb5f1853a8\n",
       "      name: Untitled Section\n",
       "      inputs:\n",
       "      - id: idba92210e193128\n",
       "        label: Width\n",
       "        widget: Number\n",
       "        required: false\n",
       "        value: null\n",
       "        hint: null\n",
       "        hidden: false\n",
       "        ignore: false\n",
       "        selectOptions: []\n",
       "        measurementUnit:\n",
       "          label: Millimetre\n",
       "          iri: http://qudt.org/vocab/unit/MilliM\n",
       "          symbol: null\n",
       "          namespace: http://qudt.org/vocab/unit\n",
       "        relationMapping:\n",
       "          iri: https://w3id.org/steel/ProcessOntology/hasWidth_Object\n",
       "          type: object_property\n",
       "          classIri: https://w3id.org/emmo#EMMO_e4de48b1_dabb_4490_ac2b_040f926c64f0\n",
       "        relationMappingExtra: null\n",
       "        multipleSelection: false\n",
       "        knowledgeType:\n",
       "        - null\n",
       "        rangeOptions:\n",
       "          min: 0\n",
       "          max: 1\n",
       "          step: 0.1\n",
       "          range: false\n",
       "        placeholder: null\n",
       "      - id: ida08bcc9977e388\n",
       "        label: Length\n",
       "        widget: Slider\n",
       "        required: false\n",
       "        value: null\n",
       "        hint: null\n",
       "        hidden: false\n",
       "        ignore: false\n",
       "        selectOptions: []\n",
       "        measurementUnit:\n",
       "          label: Millimetre\n",
       "          iri: http://qudt.org/vocab/unit/MilliM\n",
       "          symbol: null\n",
       "          namespace: http://qudt.org/vocab/unit\n",
       "        relationMapping:\n",
       "          iri: https://w3id.org/steel/ProcessOntology/hasTotalLength_Object\n",
       "          type: object_property\n",
       "          classIri: https://w3id.org/emmo#EMMO_cd2cd0de_e0cc_4ef1_b27e_2e88db027bac\n",
       "        relationMappingExtra:\n",
       "          iri: https://w3id.org/steel/ProcessOntology/hasTotalLength_Object\n",
       "          type: object_property\n",
       "          classIri: https://w3id.org/emmo#EMMO_cd2cd0de_e0cc_4ef1_b27e_2e88db027bac\n",
       "        multipleSelection: false\n",
       "        knowledgeType: null\n",
       "        rangeOptions:\n",
       "          min: 0\n",
       "          max: 1\n",
       "          step: 0.1\n",
       "          range: true\n",
       "        placeholder: null\n",
       "      hidden: false\n",
       "  json_schema:\n",
       "    iri:\n",
       "    - https://w3id.org/steel/ProcessOntology/TestPiece\n",
       "    suffix: slug\n",
       "    source: specimen[*]\n",
       "    suffix_from_location: true\n",
       "    custom_relations:\n",
       "    - object_location: width\n",
       "      relation: https://w3id.org/steel/ProcessOntology/hasWidth_Object\n",
       "      relation_type: object_property\n",
       "      object_type:\n",
       "        iri: https://w3id.org/emmo#EMMO_e4de48b1_dabb_4490_ac2b_040f926c64f0\n",
       "        unit: http://qudt.org/vocab/unit/MilliM\n",
       "    - object_location: length[0]\n",
       "      relation: https://w3id.org/steel/ProcessOntology/hasTotalLength_Object\n",
       "      relation_type: object_property\n",
       "      object_type:\n",
       "        suffix: min\n",
       "        iri: https://w3id.org/emmo#EMMO_cd2cd0de_e0cc_4ef1_b27e_2e88db027bac\n",
       "        unit: http://qudt.org/vocab/unit/MilliM\n",
       "    - object_location: length[1]\n",
       "      relation: https://w3id.org/steel/ProcessOntology/hasTotalLength_Object\n",
       "      relation_type: object_property\n",
       "      object_type:\n",
       "        suffix: max\n",
       "        iri: https://w3id.org/emmo#EMMO_cd2cd0de_e0cc_4ef1_b27e_2e88db027bac\n",
       "        unit: http://qudt.org/vocab/unit/MilliM\n",
       "    - object_location: Name\n",
       "      relation: http://www.w3.org/2000/01/rdf-schema#label\n",
       "      relation_type: annotation_property\n",
       "      object_data_type: string\n",
       "  created_at: '2025-01-22T10:25:24.336663'\n",
       "  updated_at: '2025-04-09T09:15:36.822065'"
      ]
     },
     "execution_count": 8,
     "metadata": {},
     "output_type": "execute_result"
    }
   ],
   "source": [
    "item.ktype"
   ]
  },
  {
   "cell_type": "markdown",
   "metadata": {},
   "source": [
    "... and also check the KType:"
   ]
  },
  {
   "cell_type": "code",
   "execution_count": 9,
   "metadata": {},
   "outputs": [
    {
     "data": {
      "text/plain": [
       "True"
      ]
     },
     "execution_count": 9,
     "metadata": {},
     "output_type": "execute_result"
    }
   ],
   "source": [
    "item.is_a(dsms.ktypes.Specimen)"
   ]
  },
  {
   "cell_type": "markdown",
   "metadata": {},
   "source": [
    "And we can convert the units:"
   ]
  },
  {
   "cell_type": "code",
   "execution_count": 10,
   "metadata": {},
   "outputs": [
    {
     "data": {
      "text/plain": [
       "0.0005"
      ]
     },
     "execution_count": 10,
     "metadata": {},
     "output_type": "execute_result"
    }
   ],
   "source": [
    "item.custom_properties.Width.convert_to(\"m\")"
   ]
  },
  {
   "cell_type": "code",
   "execution_count": 11,
   "metadata": {},
   "outputs": [
    {
     "data": {
      "text/plain": [
       "[0.0001, 0.0002]"
      ]
     },
     "execution_count": 11,
     "metadata": {},
     "output_type": "execute_result"
    }
   ],
   "source": [
    "item.custom_properties.Length.convert_to(\"m\")"
   ]
  },
  {
   "cell_type": "markdown",
   "metadata": {},
   "source": [
    "\n",
    "Now you can check if the particular kitem is in the list of KItems. This can be done either by using the command:\n",
    "    `\n",
    "     dsms.kitems\n",
    "    `\n",
    "    or by logging into the frontend dsms instance."
   ]
  }
 ],
 "metadata": {
  "kernelspec": {
   "display_name": "Python 3",
   "language": "python",
   "name": "python3"
  },
  "language_info": {
   "codemirror_mode": {
    "name": "ipython",
    "version": 3
   },
   "file_extension": ".py",
   "mimetype": "text/x-python",
   "name": "python",
   "nbconvert_exporter": "python",
   "pygments_lexer": "ipython3",
   "version": "3.10.15"
  }
 },
 "nbformat": 4,
 "nbformat_minor": 2
}
