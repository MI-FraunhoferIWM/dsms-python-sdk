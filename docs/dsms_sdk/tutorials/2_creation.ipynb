{
 "cells": [
  {
   "cell_type": "markdown",
   "metadata": {},
   "source": [
    "# 2. Create KItems with the SDK\n",
    "\n",
    "In this tutorial we see how to create new Kitems."
   ]
  },
  {
   "cell_type": "markdown",
   "metadata": {},
   "source": [
    "### 2.1. Setting up\n",
    "Before you run this tutorial: make sure to have access to a DSMS-instance of your interest, alongwith with installation of this package and have establised access to the DSMS through DSMS-SDK (refer to [Connecting to DSMS](../dsms_sdk.md#connecting-to-dsms))\n",
    "\n",
    "Now let us import the needed classes and functions for this tutorial."
   ]
  },
  {
   "cell_type": "code",
   "execution_count": 12,
   "metadata": {},
   "outputs": [],
   "source": [
    "from dsms import DSMS, KItem"
   ]
  },
  {
   "cell_type": "markdown",
   "metadata": {},
   "source": [
    "Now source the environmental variables from an `.env` file and start the DSMS-session."
   ]
  },
  {
   "cell_type": "code",
   "execution_count": null,
   "metadata": {},
   "outputs": [],
   "source": [
    "dsms = DSMS(env=\".env\")"
   ]
  },
  {
   "cell_type": "markdown",
   "metadata": {},
   "source": [
    "\n",
    "### 2.2: Create KItems"
   ]
  },
  {
   "cell_type": "markdown",
   "metadata": {},
   "source": [
    "We can make new KItems by simple class-initiation: (Make sure existing KItems are not given as input). \n",
    "#"
   ]
  },
  {
   "cell_type": "code",
   "execution_count": 14,
   "metadata": {},
   "outputs": [
    {
     "data": {
      "text/plain": [
       "kitem:\n",
       "  name: Specimen123\n",
       "  ktype_id: specimen\n",
       "  custom_properties:\n",
       "    sections:\n",
       "    - id: ida3c5c42685526\n",
       "      name: Untitled Section\n",
       "      entries:\n",
       "      - id: id175f885f8dda58\n",
       "        type: Slider\n",
       "        label: Width\n",
       "        value: 0.5\n",
       "        measurement_unit:\n",
       "          iri: http://qudt.org/vocab/unit/MilliM\n",
       "          label: Millimetre\n",
       "          namespace: http://qudt.org/vocab/unit\n",
       "      - id: idef5a37328789f\n",
       "        type: Slider\n",
       "        label: Length\n",
       "        value:\n",
       "        - 0.1\n",
       "        - 0.2\n",
       "        measurement_unit:\n",
       "          iri: http://qudt.org/vocab/unit/MilliM\n",
       "          label: Millimetre\n",
       "          namespace: http://qudt.org/vocab/unit"
      ]
     },
     "execution_count": 14,
     "metadata": {},
     "output_type": "execute_result"
    }
   ],
   "source": [
    "item = KItem(\n",
    "    name=\"Specimen123\",\n",
    "    ktype_id=dsms.ktypes.Specimen,\n",
    "    custom_properties = {\n",
    "        \"Width\": 0.5,\n",
    "        \"Length\": [0.1, 0.2],\n",
    "    }\n",
    ")\n",
    "\n",
    "item"
   ]
  },
  {
   "cell_type": "markdown",
   "metadata": {},
   "source": [
    "Remember: changes are only syncronized with the DSMS when you call the `commit`-method:"
   ]
  },
  {
   "cell_type": "code",
   "execution_count": 15,
   "metadata": {},
   "outputs": [
    {
     "data": {
      "text/plain": [
       "'https://bue.materials-data.space/knowledge/specimen/specimen123-73d648b4'"
      ]
     },
     "execution_count": 15,
     "metadata": {},
     "output_type": "execute_result"
    }
   ],
   "source": [
    "dsms.commit()\n",
    "item.url"
   ]
  },
  {
   "cell_type": "markdown",
   "metadata": {},
   "source": [
    "As we can see, the object we created before running the `commit`-method has automatically been updated, e.g. with the creation- and update-timestamp. We can check this with the below command:"
   ]
  },
  {
   "cell_type": "code",
   "execution_count": 16,
   "metadata": {},
   "outputs": [
    {
     "data": {
      "text/plain": [
       "kitem:\n",
       "  name: Specimen123\n",
       "  id: 73d648b4-4619-4a02-a0da-64818df3851e\n",
       "  ktype_id: specimen\n",
       "  in_backend: true\n",
       "  slug: specimen123-73d648b4\n",
       "  annotations: []\n",
       "  attachments:\n",
       "  - name: subgraph.ttl\n",
       "    content: null\n",
       "  linked_kitems: []\n",
       "  affiliations: []\n",
       "  authors:\n",
       "  - user_id: 7f0e5a37-353b-4bbc-b1f1-b6ad575f562d\n",
       "  avatar_exists: false\n",
       "  contacts: []\n",
       "  created_at: 2025-01-17 10:56:08.681238\n",
       "  updated_at: 2025-01-17 10:56:08.681238\n",
       "  external_links: []\n",
       "  kitem_apps: []\n",
       "  user_groups: []\n",
       "  custom_properties:\n",
       "    sections:\n",
       "    - id: ida3c5c42685526\n",
       "      name: Untitled Section\n",
       "      entries:\n",
       "      - id: id175f885f8dda58\n",
       "        type: Slider\n",
       "        label: Width\n",
       "        value: 0.5\n",
       "        measurement_unit:\n",
       "          iri: http://qudt.org/vocab/unit/MilliM\n",
       "          label: Millimetre\n",
       "          namespace: http://qudt.org/vocab/unit\n",
       "      - id: idef5a37328789f\n",
       "        type: Slider\n",
       "        label: Length\n",
       "        value:\n",
       "        - 0.1\n",
       "        - 0.2\n",
       "        measurement_unit:\n",
       "          iri: http://qudt.org/vocab/unit/MilliM\n",
       "          label: Millimetre\n",
       "          namespace: http://qudt.org/vocab/unit\n",
       "  rdf_exists: true"
      ]
     },
     "execution_count": 16,
     "metadata": {},
     "output_type": "execute_result"
    }
   ],
   "source": [
    "item"
   ]
  },
  {
   "cell_type": "markdown",
   "metadata": {},
   "source": [
    "To just get the name of the item, we can do it as follows:"
   ]
  },
  {
   "cell_type": "code",
   "execution_count": 17,
   "metadata": {},
   "outputs": [
    {
     "data": {
      "text/plain": [
       "'Specimen123'"
      ]
     },
     "execution_count": 17,
     "metadata": {},
     "output_type": "execute_result"
    }
   ],
   "source": [
    "item.name"
   ]
  },
  {
   "cell_type": "markdown",
   "metadata": {},
   "source": [
    "As well as the id of the kitem we can do it as follows:"
   ]
  },
  {
   "cell_type": "code",
   "execution_count": 18,
   "metadata": {},
   "outputs": [
    {
     "data": {
      "text/plain": [
       "UUID('73d648b4-4619-4a02-a0da-64818df3851e')"
      ]
     },
     "execution_count": 18,
     "metadata": {},
     "output_type": "execute_result"
    }
   ],
   "source": [
    "item.id"
   ]
  },
  {
   "cell_type": "markdown",
   "metadata": {},
   "source": [
    "To check the KType of the item newly created we can use the following:"
   ]
  },
  {
   "cell_type": "code",
   "execution_count": 19,
   "metadata": {},
   "outputs": [
    {
     "data": {
      "text/plain": [
       "ktype:\n",
       "  id: specimen\n",
       "  name: Specimen\n",
       "  context: false\n",
       "  context_schema: []\n",
       "  webform:\n",
       "    semantics_enabled: true\n",
       "    sections_enabled: false\n",
       "    class_mapping:\n",
       "    - https://w3id.org/pmd/co/Specimen\n",
       "    sections:\n",
       "    - id: ida3c5c42685526\n",
       "      name: Untitled Section\n",
       "      inputs:\n",
       "      - id: id175f885f8dda58\n",
       "        label: Width\n",
       "        widget: Slider\n",
       "        required: false\n",
       "        value: null\n",
       "        hint: null\n",
       "        hidden: false\n",
       "        ignore: false\n",
       "        select_options: []\n",
       "        measurement_unit:\n",
       "          label: Millimetre\n",
       "          iri: http://qudt.org/vocab/unit/MilliM\n",
       "          symbol: null\n",
       "          namespace: http://qudt.org/vocab/unit\n",
       "        relation_mapping:\n",
       "          iri: https://w3id.org/steel/ProcessOntology/hasWidth_Object\n",
       "          type: object_property\n",
       "          class_iri: https://w3id.org/emmo#EMMO_e4de48b1_dabb_4490_ac2b_040f926c64f0\n",
       "        relation_mapping_extra: null\n",
       "        multiple_selection: false\n",
       "        knowledge_type: null\n",
       "        range_options:\n",
       "          min: 0\n",
       "          max: 1\n",
       "          step: 0.1\n",
       "          range: false\n",
       "        placeholder: null\n",
       "      - id: idef5a37328789f\n",
       "        label: Length\n",
       "        widget: Slider\n",
       "        required: false\n",
       "        value: null\n",
       "        hint: null\n",
       "        hidden: false\n",
       "        ignore: false\n",
       "        select_options: []\n",
       "        measurement_unit:\n",
       "          label: Millimetre\n",
       "          iri: http://qudt.org/vocab/unit/MilliM\n",
       "          symbol: null\n",
       "          namespace: http://qudt.org/vocab/unit\n",
       "        relation_mapping:\n",
       "          iri: https://w3id.org/steel/ProcessOntology/hasTotalLength_Object\n",
       "          type: object_property\n",
       "          class_iri: https://w3id.org/steel/ProcessOntology/TotalLength\n",
       "        relation_mapping_extra:\n",
       "          iri: https://w3id.org/steel/ProcessOntology/hasTotalLength_Object\n",
       "          type: object_property\n",
       "          class_iri: https://w3id.org/steel/ProcessOntology/TotalLength\n",
       "        multiple_selection: false\n",
       "        knowledge_type: null\n",
       "        range_options:\n",
       "          min: 0\n",
       "          max: 1\n",
       "          step: 0.1\n",
       "          range: true\n",
       "        placeholder: null\n",
       "      - id: id54decb9641f9a\n",
       "        label: Radius\n",
       "        widget: Number\n",
       "        required: false\n",
       "        value: null\n",
       "        hint: null\n",
       "        hidden: false\n",
       "        ignore: false\n",
       "        select_options: []\n",
       "        measurement_unit:\n",
       "          label: Millimetre\n",
       "          iri: http://qudt.org/vocab/unit/MilliM\n",
       "          symbol: null\n",
       "          namespace: http://qudt.org/vocab/unit\n",
       "        relation_mapping:\n",
       "          iri: https://w3id.org/steel/ProcessOntology/hasRadius_Object\n",
       "          type: object_property\n",
       "          class_iri: https://w3id.org/emmo#EMMO_32dcd601_47c7_4028_b7fa_5e972ae57f12\n",
       "        relation_mapping_extra: null\n",
       "        multiple_selection: false\n",
       "        knowledge_type: null\n",
       "        range_options:\n",
       "          min: 0\n",
       "          max: 1\n",
       "          step: 0.1\n",
       "          range: false\n",
       "        placeholder: null\n",
       "      hidden: false\n",
       "  json_schema:\n",
       "    iri:\n",
       "    - https://w3id.org/pmd/co/Specimen\n",
       "    suffix: slug\n",
       "    source: specimen[*]\n",
       "    suffix_from_location: true\n",
       "    custom_relations:\n",
       "    - object_location: width\n",
       "      relation: https://w3id.org/steel/ProcessOntology/hasWidth_Object\n",
       "      relation_type: object_property\n",
       "      object_type:\n",
       "        iri: https://w3id.org/emmo#EMMO_e4de48b1_dabb_4490_ac2b_040f926c64f0\n",
       "        unit: http://qudt.org/vocab/unit/MilliM\n",
       "    - object_location: length[0]\n",
       "      relation: https://w3id.org/steel/ProcessOntology/hasTotalLength_Object\n",
       "      relation_type: object_property\n",
       "      object_type:\n",
       "        iri: https://w3id.org/steel/ProcessOntology/TotalLength\n",
       "        unit: http://qudt.org/vocab/unit/MilliM\n",
       "        suffix: min\n",
       "    - object_location: length[1]\n",
       "      relation: https://w3id.org/steel/ProcessOntology/hasTotalLength_Object\n",
       "      relation_type: object_property\n",
       "      object_type:\n",
       "        suffix: max\n",
       "        iri: https://w3id.org/steel/ProcessOntology/TotalLength\n",
       "        unit: http://qudt.org/vocab/unit/MilliM\n",
       "    - object_location: radius\n",
       "      relation: https://w3id.org/steel/ProcessOntology/hasRadius_Object\n",
       "      relation_type: object_property\n",
       "      object_type:\n",
       "        iri: https://w3id.org/emmo#EMMO_32dcd601_47c7_4028_b7fa_5e972ae57f12\n",
       "        unit: http://qudt.org/vocab/unit/MilliM\n",
       "    - object_location: Name\n",
       "      relation: http://www.w3.org/2000/01/rdf-schema#label\n",
       "      relation_type: annotation_property\n",
       "      object_data_type: string\n",
       "  created_at: '2024-12-17T11:00:34.924035'\n",
       "  updated_at: '2025-01-16T18:25:33.054442'"
      ]
     },
     "execution_count": 19,
     "metadata": {},
     "output_type": "execute_result"
    }
   ],
   "source": [
    "item.ktype"
   ]
  },
  {
   "cell_type": "markdown",
   "metadata": {},
   "source": [
    "... and also check the KType:"
   ]
  },
  {
   "cell_type": "code",
   "execution_count": 20,
   "metadata": {},
   "outputs": [
    {
     "data": {
      "text/plain": [
       "True"
      ]
     },
     "execution_count": 20,
     "metadata": {},
     "output_type": "execute_result"
    }
   ],
   "source": [
    "item.is_a(dsms.ktypes.Specimen)"
   ]
  },
  {
   "cell_type": "markdown",
   "metadata": {},
   "source": [
    "And we can convert the units:"
   ]
  },
  {
   "cell_type": "code",
   "execution_count": 21,
   "metadata": {},
   "outputs": [
    {
     "data": {
      "text/plain": [
       "0.0005"
      ]
     },
     "execution_count": 21,
     "metadata": {},
     "output_type": "execute_result"
    }
   ],
   "source": [
    "item.custom_properties.Width.convert_to(\"m\")"
   ]
  },
  {
   "cell_type": "code",
   "execution_count": 22,
   "metadata": {},
   "outputs": [
    {
     "data": {
      "text/plain": [
       "[0.0001, 0.0002]"
      ]
     },
     "execution_count": 22,
     "metadata": {},
     "output_type": "execute_result"
    }
   ],
   "source": [
    "item.custom_properties.Length.convert_to(\"m\")"
   ]
  },
  {
   "cell_type": "markdown",
   "metadata": {},
   "source": [
    "\n",
    "Now you can check if the particular kitem is in the list of KItems. This can be done either by using the command:\n",
    "    `\n",
    "     dsms.kitems\n",
    "    `\n",
    "    or by logging into the frontend dsms instance."
   ]
  }
 ],
 "metadata": {
  "kernelspec": {
   "display_name": "Python 3",
   "language": "python",
   "name": "python3"
  },
  "language_info": {
   "codemirror_mode": {
    "name": "ipython",
    "version": 3
   },
   "file_extension": ".py",
   "mimetype": "text/x-python",
   "name": "python",
   "nbconvert_exporter": "python",
   "pygments_lexer": "ipython3",
   "version": "3.10.15"
  }
 },
 "nbformat": 4,
 "nbformat_minor": 2
}
