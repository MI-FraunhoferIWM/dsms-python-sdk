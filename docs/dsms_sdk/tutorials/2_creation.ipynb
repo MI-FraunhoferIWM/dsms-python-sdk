{
 "cells": [
  {
   "cell_type": "markdown",
   "metadata": {},
   "source": [
    "# 2. Create KItems with the SDK\n",
    "\n",
    "In this tutorial we see how to create new Kitems."
   ]
  },
  {
   "cell_type": "markdown",
   "metadata": {},
   "source": [
    "### 2.1. Setting up\n",
    "Before you run this tutorial: make sure to have access to a DSMS-instance of your interest, alongwith with installation of this package and have establised access to the DSMS through DSMS-SDK (refer to [Connecting to DSMS](../dsms_sdk.md#connecting-to-dsms))\n",
    "\n",
    "Now let us import the needed classes and functions for this tutorial."
   ]
  },
  {
   "cell_type": "code",
   "execution_count": 12,
   "metadata": {},
   "outputs": [],
   "source": [
    "from dsms import DSMS, KItem"
   ]
  },
  {
   "cell_type": "markdown",
   "metadata": {},
   "source": [
    "Now source the environmental variables from an `.env` file and start the DSMS-session."
   ]
  },
  {
   "cell_type": "code",
   "execution_count": 13,
   "metadata": {},
   "outputs": [],
   "source": [
    "dsms = DSMS(env=\".env\")"
   ]
  },
  {
   "cell_type": "markdown",
   "metadata": {},
   "source": [
    "\n",
    "### 2.2: Create KItems"
   ]
  },
  {
   "cell_type": "markdown",
   "metadata": {},
   "source": [
    "We can make new KItems by simple class-initiation: (Make sure existing KItems are not given as input). \n",
    "#"
   ]
  },
  {
   "cell_type": "code",
   "execution_count": 14,
   "metadata": {},
   "outputs": [
    {
     "data": {
      "text/plain": [
       "KItem(\n",
       "\n",
       "\tname = Machine-1, \n",
       "\n",
       "\tid = c4128bec-3ecd-4c92-a307-7015bc9f2e86, \n",
       "\n",
       "\tktype_id = KTypes.TestingMachine, \n",
       "\n",
       "\tin_backend = False, \n",
       "\n",
       "\tslug = machine-1-c4128bec, \n",
       "\n",
       "\tannotations = [], \n",
       "\n",
       "\tattachments = [], \n",
       "\n",
       "\tlinked_kitems = [], \n",
       "\n",
       "\taffiliations = [], \n",
       "\n",
       "\tauthors = [], \n",
       "\n",
       "\tavatar_exists = False, \n",
       "\n",
       "\tcontacts = [], \n",
       "\n",
       "\tcreated_at = None, \n",
       "\n",
       "\tupdated_at = None, \n",
       "\n",
       "\texternal_links = [], \n",
       "\n",
       "\tkitem_apps = [], \n",
       "\n",
       "\tsummary = None, \n",
       "\n",
       "\tuser_groups = [], \n",
       "\n",
       "\tcustom_properties = {\n",
       "\t\tProducer: TestingLab GmBH, \n",
       "\t\tLocation: A404, \n",
       "\t\tModel Number: Bending Test Machine No 777\n",
       "\t}, \n",
       "\n",
       "\tdataframe = None, \n",
       "\n",
       "\trdf_exists = False\n",
       ")"
      ]
     },
     "execution_count": 14,
     "metadata": {},
     "output_type": "execute_result"
    }
   ],
   "source": [
    "item = KItem(\n",
    "    name=\"Machine-1\",\n",
    "    ktype_id=dsms.ktypes.TestingMachine,\n",
    "    custom_properties={\"Producer\": \"TestingLab GmBH\",\n",
    "                       \"Location\": \"A404\",\n",
    "                       \"Model Number\" : \"Bending Test Machine No 777\"\n",
    "                       },\n",
    ")\n",
    "\n",
    "item"
   ]
  },
  {
   "cell_type": "markdown",
   "metadata": {},
   "source": [
    "Remember: changes are only syncronized with the DSMS when you call the `commit`-method:"
   ]
  },
  {
   "cell_type": "code",
   "execution_count": 15,
   "metadata": {},
   "outputs": [
    {
     "data": {
      "text/plain": [
       "'https://bue.materials-data.space/knowledge/testing-machine/machine-1-c4128bec'"
      ]
     },
     "execution_count": 15,
     "metadata": {},
     "output_type": "execute_result"
    }
   ],
   "source": [
    "dsms.commit()\n",
    "item.url"
   ]
  },
  {
   "cell_type": "markdown",
   "metadata": {},
   "source": [
    "As we can see, the object we created before running the `commit`-method has automatically been updated, e.g. with the creation- and update-timestamp. We can check this with the below command:"
   ]
  },
  {
   "cell_type": "code",
   "execution_count": 16,
   "metadata": {},
   "outputs": [
    {
     "data": {
      "text/plain": [
       "KItem(\n",
       "\n",
       "\tname = Machine-1, \n",
       "\n",
       "\tid = c4128bec-3ecd-4c92-a307-7015bc9f2e86, \n",
       "\n",
       "\tktype_id = testing-machine, \n",
       "\n",
       "\tin_backend = True, \n",
       "\n",
       "\tslug = machine-1-c4128bec, \n",
       "\n",
       "\tannotations = [], \n",
       "\n",
       "\tattachments = [], \n",
       "\n",
       "\tlinked_kitems = [], \n",
       "\n",
       "\taffiliations = [], \n",
       "\n",
       "\tauthors = [\n",
       "\t\t{\n",
       "\t\t\tuser_id: 7f0e5a37-353b-4bbc-b1f1-b6ad575f562d\n",
       "\t\t}\n",
       "\t], \n",
       "\n",
       "\tavatar_exists = False, \n",
       "\n",
       "\tcontacts = [], \n",
       "\n",
       "\tcreated_at = 2024-10-01 14:21:54.195585, \n",
       "\n",
       "\tupdated_at = 2024-10-01 14:21:54.195585, \n",
       "\n",
       "\texternal_links = [], \n",
       "\n",
       "\tkitem_apps = [], \n",
       "\n",
       "\tsummary = None, \n",
       "\n",
       "\tuser_groups = [], \n",
       "\n",
       "\tcustom_properties = {\n",
       "\t\tProducer: TestingLab GmBH, \n",
       "\t\tLocation: A404, \n",
       "\t\tModel Number: Bending Test Machine No 777\n",
       "\t}, \n",
       "\n",
       "\tdataframe = None, \n",
       "\n",
       "\trdf_exists = False\n",
       ")"
      ]
     },
     "execution_count": 16,
     "metadata": {},
     "output_type": "execute_result"
    }
   ],
   "source": [
    "item"
   ]
  },
  {
   "cell_type": "markdown",
   "metadata": {},
   "source": [
    "To just get the name of the item, we can do it as follows:"
   ]
  },
  {
   "cell_type": "code",
   "execution_count": 17,
   "metadata": {},
   "outputs": [
    {
     "data": {
      "text/plain": [
       "'Machine-1'"
      ]
     },
     "execution_count": 17,
     "metadata": {},
     "output_type": "execute_result"
    }
   ],
   "source": [
    "item.name"
   ]
  },
  {
   "cell_type": "markdown",
   "metadata": {},
   "source": [
    "As well as the id of the kitem we can do it as follows:"
   ]
  },
  {
   "cell_type": "code",
   "execution_count": 18,
   "metadata": {},
   "outputs": [
    {
     "data": {
      "text/plain": [
       "UUID('c4128bec-3ecd-4c92-a307-7015bc9f2e86')"
      ]
     },
     "execution_count": 18,
     "metadata": {},
     "output_type": "execute_result"
    }
   ],
   "source": [
    "item.id"
   ]
  },
  {
   "cell_type": "markdown",
   "metadata": {},
   "source": [
    "To check the KType of the item newly created we can use the following:"
   ]
  },
  {
   "cell_type": "code",
   "execution_count": 19,
   "metadata": {},
   "outputs": [
    {
     "data": {
      "text/plain": [
       "KType(id='testing-machine', name='Testing Machine', webform=<class 'dsms.knowledge.utils.CustomPropertiesModel'>, json_schema=None, rdf_mapping=None, created_at='2024-08-19T17:13:57.534570', updated_at='2024-08-19T18:11:40.465640')"
      ]
     },
     "execution_count": 19,
     "metadata": {},
     "output_type": "execute_result"
    }
   ],
   "source": [
    "item.ktype"
   ]
  },
  {
   "cell_type": "markdown",
   "metadata": {},
   "source": [
    "... and also check the KType:"
   ]
  },
  {
   "cell_type": "code",
   "execution_count": 20,
   "metadata": {},
   "outputs": [
    {
     "data": {
      "text/plain": [
       "True"
      ]
     },
     "execution_count": 20,
     "metadata": {},
     "output_type": "execute_result"
    }
   ],
   "source": [
    "item.is_a(dsms.ktypes.TestingMachine)"
   ]
  },
  {
   "cell_type": "markdown",
   "metadata": {},
   "source": [
    "\n",
    "Now you can check if the particular kitem is in the list of KItems. This can be done either by using the command:\n",
    "    `\n",
    "     dsms.kitems\n",
    "    `\n",
    "    or by logging into the frontend dsms instance."
   ]
  }
 ],
 "metadata": {
  "kernelspec": {
   "display_name": "sdk",
   "language": "python",
   "name": "python3"
  },
  "language_info": {
   "codemirror_mode": {
    "name": "ipython",
    "version": 3
   },
   "file_extension": ".py",
   "mimetype": "text/x-python",
   "name": "python",
   "nbconvert_exporter": "python",
   "pygments_lexer": "ipython3",
   "version": "3.12.2"
  }
 },
 "nbformat": 4,
 "nbformat_minor": 2
}
