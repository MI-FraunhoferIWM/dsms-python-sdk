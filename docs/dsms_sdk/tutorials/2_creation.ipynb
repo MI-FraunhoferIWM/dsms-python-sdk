{
 "cells": [
  {
   "cell_type": "markdown",
   "metadata": {},
   "source": [
    "# 2. Create KItems with the SDK\n",
    "\n",
    "In this tutorial we see how to create new Kitems."
   ]
  },
  {
   "cell_type": "markdown",
   "metadata": {},
   "source": [
    "### 2.1. Setting up\n",
    "Before you run this tutorial: make sure to have access to a DSMS-instance of your interest, alongwith with installation of this package and have establised access to the DSMS through DSMS-SDK (refer to [Connecting to DSMS](../dsms_sdk.md#connecting-to-dsms))\n",
    "\n",
    "Now let us import the needed classes and functions for this tutorial."
   ]
  },
  {
   "cell_type": "code",
   "execution_count": 1,
   "metadata": {},
   "outputs": [],
   "source": [
    "from dsms import DSMS, KItem"
   ]
  },
  {
   "cell_type": "markdown",
   "metadata": {},
   "source": [
    "Now source the environmental variables from an `.env` file and start the DSMS-session."
   ]
  },
  {
   "cell_type": "code",
   "execution_count": 2,
   "metadata": {},
   "outputs": [],
   "source": [
    "dsms = DSMS(env=\".env\")"
   ]
  },
  {
   "cell_type": "markdown",
   "metadata": {},
   "source": [
    "\n",
    "### 2.2: Create KItems"
   ]
  },
  {
   "cell_type": "markdown",
   "metadata": {},
   "source": [
    "We can make new KItems by simple class-initiation: (Make sure existing KItems are not given as input). \n",
    "#"
   ]
  },
  {
   "cell_type": "code",
   "execution_count": 3,
   "metadata": {},
   "outputs": [
    {
     "data": {
      "text/plain": [
       "KItem(\n",
       "\n",
       "\tname = Machine-1, \n",
       "\n",
       "\tid = 6a5fd4a4-4dc0-4643-84eb-1e35513974ba, \n",
       "\n",
       "\tktype_id = KTypes.TestingMachine, \n",
       "\n",
       "\tin_backend = False, \n",
       "\n",
       "\tslug = machine-1-6a5fd4a4, \n",
       "\n",
       "\tannotations = [], \n",
       "\n",
       "\tattachments = [], \n",
       "\n",
       "\tlinked_kitems = [], \n",
       "\n",
       "\taffiliations = [], \n",
       "\n",
       "\tauthors = [], \n",
       "\n",
       "\tavatar_exists = False, \n",
       "\n",
       "\tcontacts = [], \n",
       "\n",
       "\tcreated_at = None, \n",
       "\n",
       "\tupdated_at = None, \n",
       "\n",
       "\texternal_links = [], \n",
       "\n",
       "\tkitem_apps = [], \n",
       "\n",
       "\tsummary = None, \n",
       "\n",
       "\tuser_groups = [], \n",
       "\n",
       "\tcustom_properties = {\n",
       "\t\tProducer: TestingLab GmBH, \n",
       "\t\tLocation: A404, \n",
       "\t\tModel Number: Bending Test Machine No 777\n",
       "\t}, \n",
       "\n",
       "\tdataframe = None, \n",
       "\n",
       "\trdf_exists = False\n",
       ")"
      ]
     },
     "execution_count": 3,
     "metadata": {},
     "output_type": "execute_result"
    }
   ],
   "source": [
    "item = KItem(\n",
    "    name=\"Machine-1\",\n",
    "    ktype_id=dsms.ktypes.TestingMachine,\n",
    "    custom_properties={\"Producer\": \"TestingLab GmBH\",\n",
    "                       \"Location\": \"A404\",\n",
    "                       \"Model Number\" : \"Bending Test Machine No 777\"\n",
    "                       },\n",
    ")\n",
    "\n",
    "item"
   ]
  },
  {
   "cell_type": "markdown",
   "metadata": {},
   "source": [
    "Remember: changes are only syncronized with the DSMS when you call the `commit`-method:"
   ]
  },
  {
   "cell_type": "code",
   "execution_count": 4,
   "metadata": {},
   "outputs": [
    {
     "data": {
      "text/plain": [
       "'https://stahldigital.materials-data.space/knowledge/testing-machine/machine-1-6a5fd4a4'"
      ]
     },
     "execution_count": 4,
     "metadata": {},
     "output_type": "execute_result"
    }
   ],
   "source": [
    "dsms.commit()\n",
    "item.url"
   ]
  },
  {
   "cell_type": "markdown",
   "metadata": {},
   "source": [
    "As we can see, the object we created before running the `commit`-method has automatically been updated, e.g. with the creation- and update-timestamp. We can check this with the below command:"
   ]
  },
  {
   "cell_type": "code",
   "execution_count": 5,
   "metadata": {},
   "outputs": [
    {
     "data": {
      "text/plain": [
       "KItem(\n",
       "\n",
       "\tname = Machine-1, \n",
       "\n",
       "\tid = 6a5fd4a4-4dc0-4643-84eb-1e35513974ba, \n",
       "\n",
       "\tktype_id = testing-machine, \n",
       "\n",
       "\tin_backend = True, \n",
       "\n",
       "\tslug = machine-1-6a5fd4a4, \n",
       "\n",
       "\tannotations = [], \n",
       "\n",
       "\tattachments = [], \n",
       "\n",
       "\tlinked_kitems = [], \n",
       "\n",
       "\taffiliations = [], \n",
       "\n",
       "\tauthors = [\n",
       "\t\t{\n",
       "\t\t\tuser_id: aa97bc4c-939e-4142-8f22-c6be8c0df228\n",
       "\t\t}\n",
       "\t], \n",
       "\n",
       "\tavatar_exists = False, \n",
       "\n",
       "\tcontacts = [], \n",
       "\n",
       "\tcreated_at = 2024-08-23 18:16:24.190604, \n",
       "\n",
       "\tupdated_at = 2024-08-23 18:16:24.190604, \n",
       "\n",
       "\texternal_links = [], \n",
       "\n",
       "\tkitem_apps = [], \n",
       "\n",
       "\tsummary = None, \n",
       "\n",
       "\tuser_groups = [], \n",
       "\n",
       "\tcustom_properties = {\n",
       "\t\tProducer: TestingLab GmBH, \n",
       "\t\tLocation: A404, \n",
       "\t\tModel Number: Bending Test Machine No 777\n",
       "\t}, \n",
       "\n",
       "\tdataframe = None, \n",
       "\n",
       "\trdf_exists = False\n",
       ")"
      ]
     },
     "execution_count": 5,
     "metadata": {},
     "output_type": "execute_result"
    }
   ],
   "source": [
    "item"
   ]
  },
  {
   "cell_type": "markdown",
   "metadata": {},
   "source": [
    "To just get the name of the item, we can do it as follows:"
   ]
  },
  {
   "cell_type": "code",
   "execution_count": 6,
   "metadata": {},
   "outputs": [
    {
     "data": {
      "text/plain": [
       "'Machine-1'"
      ]
     },
     "execution_count": 6,
     "metadata": {},
     "output_type": "execute_result"
    }
   ],
   "source": [
    "item.name"
   ]
  },
  {
   "cell_type": "markdown",
   "metadata": {},
   "source": [
    "As well as the id of the kitem we can do it as follows:"
   ]
  },
  {
   "cell_type": "code",
   "execution_count": 7,
   "metadata": {},
   "outputs": [
    {
     "data": {
      "text/plain": [
       "UUID('6a5fd4a4-4dc0-4643-84eb-1e35513974ba')"
      ]
     },
     "execution_count": 7,
     "metadata": {},
     "output_type": "execute_result"
    }
   ],
   "source": [
    "item.id"
   ]
  },
  {
   "cell_type": "markdown",
   "metadata": {},
   "source": [
    "To check the KType of the item newly created we can use the following:"
   ]
  },
  {
   "cell_type": "code",
   "execution_count": 8,
   "metadata": {},
   "outputs": [
    {
     "data": {
      "text/plain": [
       "KType(id='testing-machine', name='Testing Machine', webform=<class 'dsms.knowledge.utils.CustomPropertiesModel'>, json_schema=None)"
      ]
     },
     "execution_count": 8,
     "metadata": {},
     "output_type": "execute_result"
    }
   ],
   "source": [
    "item.ktype"
   ]
  },
  {
   "cell_type": "markdown",
   "metadata": {},
   "source": [
    "... and also check the KType:"
   ]
  },
  {
   "cell_type": "code",
   "execution_count": 9,
   "metadata": {},
   "outputs": [
    {
     "data": {
      "text/plain": [
       "True"
      ]
     },
     "execution_count": 9,
     "metadata": {},
     "output_type": "execute_result"
    }
   ],
   "source": [
    "item.is_a(dsms.ktypes.TestingMachine)"
   ]
  },
  {
   "cell_type": "markdown",
   "metadata": {},
   "source": [
    "\n",
    "Now you can check if the particular kitem is in the list of KItems. This can be done either by using the command:\n",
    "    `\n",
    "     dsms.kitems\n",
    "    `\n",
    "    or by logging into the frontend dsms instance."
   ]
  }
 ],
 "metadata": {
  "kernelspec": {
   "display_name": "sdk",
   "language": "python",
   "name": "python3"
  },
  "language_info": {
   "codemirror_mode": {
    "name": "ipython",
    "version": 3
   },
   "file_extension": ".py",
   "mimetype": "text/x-python",
   "name": "python",
   "nbconvert_exporter": "python",
   "pygments_lexer": "ipython3",
   "version": "3.12.2"
  }
 },
 "nbformat": 4,
 "nbformat_minor": 2
}
