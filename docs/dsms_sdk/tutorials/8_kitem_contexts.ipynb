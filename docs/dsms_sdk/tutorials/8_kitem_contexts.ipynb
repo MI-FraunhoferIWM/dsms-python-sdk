{
 "cells": [
  {
   "cell_type": "markdown",
   "id": "08e6e825",
   "metadata": {},
   "source": [
    "# 8. Adding Kitems into context"
   ]
  },
  {
   "cell_type": "markdown",
   "id": "01266cd0",
   "metadata": {},
   "source": [
    "## 8.1. Setting up\n",
    "\n",
    "Before you run this tutorial: make sure to have access to a DSMS-instance of your interest, alongwith with installation of this package and have establised access to the DSMS through DSMS-SDK (refer to [Connecting to DSMS](../dsms_sdk.md#connecting-to-dsms))\n",
    "\n",
    "Import the needed classes and functions."
   ]
  },
  {
   "cell_type": "code",
   "execution_count": 1,
   "id": "8e119a92",
   "metadata": {},
   "outputs": [],
   "source": [
    "from dsms import DSMS, KItem"
   ]
  },
  {
   "cell_type": "markdown",
   "id": "6f6f9d78",
   "metadata": {},
   "source": [
    "Now source the environmental variables from an `.env` file and start the DSMS-session."
   ]
  },
  {
   "cell_type": "code",
   "execution_count": 2,
   "id": "ddc6cdfa",
   "metadata": {},
   "outputs": [],
   "source": [
    "dsms = DSMS(env=\".env\")"
   ]
  },
  {
   "cell_type": "markdown",
   "id": "7206cca4",
   "metadata": {},
   "source": [
    "## 8.2 Putting KItems into contexts"
   ]
  },
  {
   "cell_type": "markdown",
   "id": "b7813d84",
   "metadata": {},
   "source": [
    "KItems can not only be linked, but also put into a context in order to group and cluster them. This can especially become handy, when a set of KItems are related e.g. to a specific process, catalog, etc."
   ]
  },
  {
   "cell_type": "markdown",
   "id": "ed1d8179",
   "metadata": {},
   "source": [
    "We will quickly create a KItem of type dataset and we will put it into context with a dataset catalog."
   ]
  },
  {
   "cell_type": "code",
   "execution_count": 3,
   "id": "b7dcb02f",
   "metadata": {},
   "outputs": [
    {
     "name": "stderr",
     "output_type": "stream",
     "text": [
      "/app/dsms/knowledge/kitem.py:406: UserWarning: A flat dictionary was provided for custom properties.\n",
      "                    Will be transformed into `KItemCustomPropertiesModel`.\n",
      "  warnings.warn(\n"
     ]
    },
    {
     "name": "stdout",
     "output_type": "stream",
     "text": [
      "https://bue.materials-data.space/knowledge/dataset/testdataset-edc21685\n"
     ]
    },
    {
     "name": "stderr",
     "output_type": "stream",
     "text": [
      "/app/dsms/knowledge/kitem.py:692: UserWarning: No webform was defined for entry `Tensile Strength [MPa]`. Cannot check if value is of correct type.\n",
      "  warnings.warn(\n",
      "/app/dsms/knowledge/kitem.py:692: UserWarning: No webform was defined for entry `Material`. Cannot check if value is of correct type.\n",
      "  warnings.warn(\n"
     ]
    }
   ],
   "source": [
    "dataset = KItem(\n",
    "    name=\"Test dataset\",\n",
    "    ktype_id=dsms.ktypes.Dataset,\n",
    "    custom_properties={\n",
    "        \"Tensile Strength [MPa]\": 180,\n",
    "        \"Material\": \"DXD100\"\n",
    "        }\n",
    "    )\n",
    "\n",
    "dsms.add(dataset)\n",
    "dsms.commit()\n",
    "\n",
    "print(dataset.url)"
   ]
  },
  {
   "cell_type": "code",
   "execution_count": 4,
   "id": "c7a41db1",
   "metadata": {},
   "outputs": [
    {
     "name": "stderr",
     "output_type": "stream",
     "text": [
      "/usr/local/lib/python3.11/site-packages/pydantic/main.py:463: UserWarning: Pydantic serializer warnings:\n",
      "  PydanticSerializationUnexpectedValue(Expected `str` - serialized value may not be as expected [input_value=False, input_type=bool])\n",
      "  return self.__pydantic_serializer__.to_python(\n"
     ]
    },
    {
     "name": "stdout",
     "output_type": "stream",
     "text": [
      "https://bue.materials-data.space/knowledge/dataset-catalog/testcatalog-4bcfabbb\n"
     ]
    },
    {
     "name": "stderr",
     "output_type": "stream",
     "text": [
      "/app/dsms/knowledge/kitem.py:692: UserWarning: No webform was defined for entry `Project`. Cannot check if value is of correct type.\n",
      "  warnings.warn(\n"
     ]
    }
   ],
   "source": [
    "catalog = KItem(\n",
    "    name=\"Test catalog\",\n",
    "    ktype_id=dsms.ktypes.DatasetCatalog,\n",
    "    custom_properties={\"Project\": \"Mechanical testing campaign 1\"},\n",
    "    contexts=[dataset]\n",
    ")\n",
    "\n",
    "dsms.add(catalog)\n",
    "dsms.commit()\n",
    "\n",
    "print(catalog.url)"
   ]
  },
  {
   "cell_type": "markdown",
   "id": "20026edb",
   "metadata": {},
   "source": [
    "Now we can inspect the catalog and see which datasets are in context:"
   ]
  },
  {
   "cell_type": "code",
   "execution_count": 5,
   "id": "640813be",
   "metadata": {},
   "outputs": [
    {
     "data": {
      "text/plain": [
       "kitem:\n",
       "  id: 4bcfabbb-dabf-4d4f-a964-2d56db7cdf54\n",
       "  name: Test catalog\n",
       "  ktype_id: dataset-catalog\n",
       "  slug: testcatalog-4bcfabbb\n",
       "  annotations: []\n",
       "  attachments: []\n",
       "  linked_kitems: []\n",
       "  affiliations: []\n",
       "  authors:\n",
       "  - user_id: 7f0e5a37-353b-4bbc-b1f1-b6ad575f562d\n",
       "  avatar_exists: false\n",
       "  contacts: []\n",
       "  created_at: 2025-08-13 13:03:06.234294\n",
       "  updated_at: 2025-08-13 13:03:06.234294\n",
       "  external_links: []\n",
       "  apps: []\n",
       "  user_groups: []\n",
       "  custom_properties:\n",
       "    content:\n",
       "      sections:\n",
       "      - id: id1755090185982jzxbpc\n",
       "        name: Misc\n",
       "        entries:\n",
       "        - id: id17550901859828l3uet\n",
       "          type: Text\n",
       "          label: Project\n",
       "          value: Mechanical testing campaign 1\n",
       "          measurementUnit: null\n",
       "          relationMapping: null\n",
       "          required: false\n",
       "  rdf_exists: false\n",
       "  contexts:\n",
       "  - id: edc21685-2d25-4d7a-bd2e-7c757371d3f8\n",
       "    name: Test dataset\n",
       "    ktype_id: dataset\n",
       "    slug: testdataset-edc21685"
      ]
     },
     "execution_count": 5,
     "metadata": {},
     "output_type": "execute_result"
    }
   ],
   "source": [
    "catalog"
   ]
  }
 ],
 "metadata": {
  "kernelspec": {
   "display_name": "Python 3",
   "language": "python",
   "name": "python3"
  },
  "language_info": {
   "codemirror_mode": {
    "name": "ipython",
    "version": 3
   },
   "file_extension": ".py",
   "mimetype": "text/x-python",
   "name": "python",
   "nbconvert_exporter": "python",
   "pygments_lexer": "ipython3",
   "version": "3.11.13"
  }
 },
 "nbformat": 4,
 "nbformat_minor": 5
}
