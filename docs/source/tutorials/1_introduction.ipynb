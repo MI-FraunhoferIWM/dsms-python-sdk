{
 "cells": [
  {
   "cell_type": "markdown",
   "metadata": {},
   "source": [
    "# 1.  Introduction to the DSMS-SDK\n",
    "\n",
    "In this tutorial we see the overview on how to setup and basic use DSMS-SDK\n",
    "\n"
   ]
  },
  {
   "cell_type": "markdown",
   "metadata": {},
   "source": [
    "### 1.1. Setting up\n",
    "Before you run this tutorial: make sure to have access to an DSMS-instance of your interest, that you have installed this package and that you have copied the needed variables such as the `DSMS_HOST_URL` and `DSMS_TOKEN` into an `.env`-file.\n",
    "\n",
    "Now let us import the needed classes and functions for this tutorial."
   ]
  },
  {
   "cell_type": "code",
   "execution_count": 1,
   "metadata": {},
   "outputs": [],
   "source": [
    "from dsms import DSMS, KItem"
   ]
  },
  {
   "cell_type": "markdown",
   "metadata": {},
   "source": [
    "Now source the environmental variables from an `.env` file and start the DSMS-session."
   ]
  },
  {
   "cell_type": "code",
   "execution_count": 2,
   "metadata": {},
   "outputs": [
    {
     "ename": "OSError",
     "evalue": "File `../.env` does not exist",
     "output_type": "error",
     "traceback": [
      "\u001b[0;31m---------------------------------------------------------------------------\u001b[0m",
      "\u001b[0;31mOSError\u001b[0m                                   Traceback (most recent call last)",
      "Cell \u001b[0;32mIn[2], line 1\u001b[0m\n\u001b[0;32m----> 1\u001b[0m dsms \u001b[38;5;241m=\u001b[39m \u001b[43mDSMS\u001b[49m\u001b[43m(\u001b[49m\u001b[43menv\u001b[49m\u001b[38;5;241;43m=\u001b[39;49m\u001b[38;5;124;43m\"\u001b[39;49m\u001b[38;5;124;43m../.env\u001b[39;49m\u001b[38;5;124;43m\"\u001b[39;49m\u001b[43m)\u001b[49m\n",
      "File \u001b[0;32m~/dsms-python-sdk/dsms/core/dsms.py:79\u001b[0m, in \u001b[0;36mDSMS.__init__\u001b[0;34m(self, config, env, **kwargs)\u001b[0m\n\u001b[1;32m     77\u001b[0m \u001b[38;5;28;01mif\u001b[39;00m env:\n\u001b[1;32m     78\u001b[0m     \u001b[38;5;28;01mif\u001b[39;00m \u001b[38;5;129;01mnot\u001b[39;00m os\u001b[38;5;241m.\u001b[39mpath\u001b[38;5;241m.\u001b[39mexists(env):\n\u001b[0;32m---> 79\u001b[0m         \u001b[38;5;28;01mraise\u001b[39;00m \u001b[38;5;167;01mOSError\u001b[39;00m(\u001b[38;5;124mf\u001b[39m\u001b[38;5;124m\"\u001b[39m\u001b[38;5;124mFile `\u001b[39m\u001b[38;5;132;01m{\u001b[39;00menv\u001b[38;5;132;01m}\u001b[39;00m\u001b[38;5;124m` does not exist\u001b[39m\u001b[38;5;124m\"\u001b[39m)\n\u001b[1;32m     80\u001b[0m     loaded \u001b[38;5;241m=\u001b[39m load_dotenv(env, verbose\u001b[38;5;241m=\u001b[39m\u001b[38;5;28;01mTrue\u001b[39;00m)\n\u001b[1;32m     81\u001b[0m     \u001b[38;5;28;01mif\u001b[39;00m \u001b[38;5;129;01mnot\u001b[39;00m loaded:\n",
      "\u001b[0;31mOSError\u001b[0m: File `../.env` does not exist"
     ]
    }
   ],
   "source": [
    "dsms = DSMS(env=\"../.env\")"
   ]
  },
  {
   "cell_type": "markdown",
   "metadata": {},
   "source": [
    "### 1.2. Introduction to KItems"
   ]
  },
  {
   "cell_type": "markdown",
   "metadata": {},
   "source": [
    "We can see which kind of DSMS-object we own as a user:"
   ]
  },
  {
   "cell_type": "code",
   "execution_count": 3,
   "metadata": {},
   "outputs": [
    {
     "data": {
      "text/plain": [
       "[KItem(\n",
       " \n",
       " \tname = machine 1, \n",
       " \n",
       " \tid = 2e235212-733d-44e5-8bda-38f13be6475e, \n",
       " \n",
       " \tktype_id = testingmachine, \n",
       " \n",
       " \tin_backend = True, \n",
       " \n",
       " \tslug = machine-1, \n",
       " \n",
       " \tannotations = [], \n",
       " \n",
       " \tattachments = [], \n",
       " \n",
       " \tlinked_kitems = [], \n",
       " \n",
       " \taffiliations = [], \n",
       " \n",
       " \tauthors = [\n",
       " \t\t{\n",
       " \t\t\tuser_id: 9c8a295a-aeed-46c1-87f1-2793ef78320b\n",
       " \t\t}\n",
       " \t], \n",
       " \n",
       " \tavatar_exists = False, \n",
       " \n",
       " \tcontacts = [], \n",
       " \n",
       " \tcreated_at = 2024-04-30 12:58:54.233036, \n",
       " \n",
       " \tupdated_at = 2024-04-30 12:58:54.233036, \n",
       " \n",
       " \texternal_links = [], \n",
       " \n",
       " \tkitem_apps = [], \n",
       " \n",
       " \tsummary = None, \n",
       " \n",
       " \tuser_groups = [], \n",
       " \n",
       " \tcustom_properties = None, \n",
       " \n",
       " \thdf5 = None, \n",
       " \n",
       " \trdf_exists = False\n",
       " )]"
      ]
     },
     "execution_count": 3,
     "metadata": {},
     "output_type": "execute_result"
    }
   ],
   "source": [
    "dsms.kitems"
   ]
  },
  {
   "cell_type": "markdown",
   "metadata": {},
   "source": [
    "We can investigate what a KItem needs in order to be created. KItems are entirely based on Pydantic-Models (v2), hence the properties (in Pydantic called Fields) are automatically validated once we set them.\n",
    "\n",
    "The schema of the KItem itself is a JSON schema which is machine-readable and can be directly incorporated into Swagger-supported APIs like e.g. FastAPI.\n",
    "\n",
    "We can investigate the KTypes defined in the remote instance:"
   ]
  },
  {
   "cell_type": "code",
   "execution_count": 4,
   "metadata": {},
   "outputs": [
    {
     "name": "stdout",
     "output_type": "stream",
     "text": [
      "KTypes.Organization\n",
      "KTypes.Expert\n",
      "KTypes.App\n",
      "KTypes.DatasetCatalog\n",
      "KTypes.Dataset\n",
      "KTypes.Specimen\n",
      "KTypes.Testingmachine\n"
     ]
    }
   ],
   "source": [
    "for ktype in dsms.ktypes:\n",
    "    print(ktype)"
   ]
  }
 ],
 "metadata": {
  "kernelspec": {
   "display_name": "sdk",
   "language": "python",
   "name": "python3"
  },
  "language_info": {
   "codemirror_mode": {
    "name": "ipython",
    "version": 3
   },
   "file_extension": ".py",
   "mimetype": "text/x-python",
   "name": "python",
   "nbconvert_exporter": "python",
   "pygments_lexer": "ipython3",
   "version": "3.10.13"
  }
 },
 "nbformat": 4,
 "nbformat_minor": 2
}
