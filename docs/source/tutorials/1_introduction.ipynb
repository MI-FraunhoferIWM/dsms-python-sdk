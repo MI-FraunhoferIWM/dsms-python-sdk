{
 "cells": [
  {
   "cell_type": "markdown",
   "metadata": {},
   "source": [
    "# Tutorial 1: Introduction to the DSMS-SDK\n",
    "\n",
    "In this tutorial we see the overview on how to setup and basic use DSMS-SDK\n",
    "\n"
   ]
  },
  {
   "cell_type": "markdown",
   "metadata": {},
   "source": [
    "### 1.1. Setting up\n",
    "Before you run this tutorial: make sure to have access to a DSMS-instance of your interest, alongwith with installation of this package and have establised access to the DSMS through DSMS-SDK (refer to [Accessing DSMS Core via SDK](../dsms_sdk.md#accessing-dsms-core))\n",
    "\n",
    "Now let us import the needed classes and functions for this tutorial."
   ]
  },
  {
   "cell_type": "code",
   "execution_count": 1,
   "metadata": {},
   "outputs": [],
   "source": [
    "from dsms import DSMS, KItem"
   ]
  },
  {
   "cell_type": "markdown",
   "metadata": {},
   "source": [
    "Now source the environmental variables from an `.env` file and start the DSMS-session."
   ]
  },
  {
   "cell_type": "code",
   "execution_count": 2,
   "metadata": {},
   "outputs": [],
   "source": [
    "dsms = DSMS(env=\"../.env\")"
   ]
  },
  {
   "cell_type": "markdown",
   "metadata": {},
   "source": [
    "### 1.2. Introduction to KItems"
   ]
  },
  {
   "cell_type": "markdown",
   "metadata": {},
   "source": [
    "We can see which kind of DSMS-object we own as a user:"
   ]
  },
  {
   "cell_type": "code",
   "execution_count": 3,
   "metadata": {},
   "outputs": [
    {
     "data": {
      "text/plain": [
       "[KItem(\n",
       " \n",
       " \tname = machine 1, \n",
       " \n",
       " \tid = 2e235212-733d-44e5-8bda-38f13be6475e, \n",
       " \n",
       " \tktype_id = testingmachine, \n",
       " \n",
       " \tin_backend = True, \n",
       " \n",
       " \tslug = machine-1, \n",
       " \n",
       " \tannotations = [], \n",
       " \n",
       " \tattachments = [], \n",
       " \n",
       " \tlinked_kitems = [], \n",
       " \n",
       " \taffiliations = [], \n",
       " \n",
       " \tauthors = [\n",
       " \t\t{\n",
       " \t\t\tuser_id: 9c8a295a-aeed-46c1-87f1-2793ef78320b\n",
       " \t\t}\n",
       " \t], \n",
       " \n",
       " \tavatar_exists = False, \n",
       " \n",
       " \tcontacts = [], \n",
       " \n",
       " \tcreated_at = 2024-04-30 12:58:54.233036, \n",
       " \n",
       " \tupdated_at = 2024-04-30 12:58:54.233036, \n",
       " \n",
       " \texternal_links = [], \n",
       " \n",
       " \tkitem_apps = [], \n",
       " \n",
       " \tsummary = None, \n",
       " \n",
       " \tuser_groups = [], \n",
       " \n",
       " \tcustom_properties = None, \n",
       " \n",
       " \thdf5 = None, \n",
       " \n",
       " \trdf_exists = False\n",
       " )]"
      ]
     },
     "execution_count": 3,
     "metadata": {},
     "output_type": "execute_result"
    }
   ],
   "source": [
    "dsms.kitems"
   ]
  },
  {
   "cell_type": "markdown",
   "metadata": {},
   "source": [
    "We can investigate what a KItem needs in order to be created. KItems are entirely based on Pydantic-Models (v2), hence the properties (in Pydantic called Fields) are automatically validated once we set them.\n",
    "\n",
    "The schema of the KItem itself is a JSON schema which is machine-readable and can be directly incorporated into Swagger-supported APIs like e.g. FastAPI.\n",
    "\n",
    "We can investigate the KTypes defined in the remote instance:"
   ]
  },
  {
   "cell_type": "code",
   "execution_count": 4,
   "metadata": {},
   "outputs": [
    {
     "name": "stdout",
     "output_type": "stream",
     "text": [
      "KTypes.Organization\n",
      "KTypes.Expert\n",
      "KTypes.App\n",
      "KTypes.DatasetCatalog\n",
      "KTypes.Dataset\n",
      "KTypes.Specimen\n",
      "KTypes.Testingmachine\n"
     ]
    }
   ],
   "source": [
    "for ktype in dsms.ktypes:\n",
    "    print(ktype)"
   ]
  }
 ],
 "metadata": {
  "kernelspec": {
   "display_name": "sdk",
   "language": "python",
   "name": "python3"
  },
  "language_info": {
   "codemirror_mode": {
    "name": "ipython",
    "version": 3
   },
   "file_extension": ".py",
   "mimetype": "text/x-python",
   "name": "python",
   "nbconvert_exporter": "python",
   "pygments_lexer": "ipython3",
   "version": "3.10.13"
  }
 },
 "nbformat": 4,
 "nbformat_minor": 2
}
