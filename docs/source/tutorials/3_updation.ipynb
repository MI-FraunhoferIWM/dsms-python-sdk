{
 "cells": [
  {
   "cell_type": "markdown",
   "metadata": {},
   "source": [
    "# 3. Updating KItems\n",
    "\n",
    "In this tutorial we see how to update existing Kitems."
   ]
  },
  {
   "cell_type": "markdown",
   "metadata": {},
   "source": [
    "### 3.1. Setting up\n",
    "Before you run this tutorial: make sure to have access to an DSMS-instance of your interest, that you have installed this package and that you have copied the needed variables such as the `DSMS_HOST_URL` and `DSMS_TOKEN` into an `.env`-file.\n",
    "\n",
    "Now let us import the needed classes and functions for this tutorial."
   ]
  },
  {
   "cell_type": "code",
   "execution_count": null,
   "metadata": {},
   "outputs": [],
   "source": [
    "import os\n",
    "from pprint import pprint\n",
    "\n",
    "from dotenv import load_dotenv\n",
    "\n",
    "from dsms import DSMS, KItem"
   ]
  },
  {
   "cell_type": "markdown",
   "metadata": {},
   "source": [
    "Now source the environmental variables from an `.env` file and start the DSMS-session."
   ]
  },
  {
   "cell_type": "code",
   "execution_count": null,
   "metadata": {},
   "outputs": [],
   "source": [
    "#specify path to an arbitrary file\n",
    "env = os.path.join(\"..\", \".env\")\n",
    "\n",
    "# start the session\n",
    "load_dotenv(env)\n",
    "\n",
    "dsms = DSMS()"
   ]
  },
  {
   "cell_type": "markdown",
   "metadata": {},
   "source": [
    "### 3.2. Updating Kitems"
   ]
  },
  {
   "cell_type": "markdown",
   "metadata": {},
   "source": [
    "Now, we would like to update the properties of our KItem we created previously.\n",
    "\n",
    "Depending on the schema of each property (see `KItem.model_schema_json()` in the **Introduction** of this tutorial), we can simply use the standard `list`-method as we know them from basic Python (e.g. for the `annotations`, `attachments`, `external_link`, etc). \n",
    "\n",
    "\n",
    "Other properties which are not `list`-like can be simply set by attribute-assignment (e.g. `name`, `slug`, `ktype_id`, etc)."
   ]
  },
  {
   "cell_type": "code",
   "execution_count": null,
   "metadata": {},
   "outputs": [],
   "source": [
    "# specify the path to any arbitrary file to be uploaded\n",
    "file = os.path.join(\"..\", \"README.md\")\n",
    "\n",
    "item.name = \"foobar\"\n",
    "item.custom_properties.update({\"foobar\": \"foobar\"})\n",
    "item.attachments.append({\"name\": file})\n",
    "item.annotations.append(\n",
    "    {\n",
    "        \"iri\": \"www.example.org/foo\",\n",
    "        \"name\": \"example class\",\n",
    "        \"namespace\": \"www.example.org\",\n",
    "    }\n",
    ")\n",
    "item.external_links.append(\n",
    "    {\"url\": \"http://example.org\", \"label\": \"example link\"}\n",
    ")\n",
    "item.contacts.append({\"name\": \"foo\", \"email\": \"foo@bar.mail\"})\n",
    "item.affiliations.append({\"name\": \"foobar team\"})\n",
    "item.user_groups.append({\"name\": \"foogroup\", \"group_id\": \"123\"})"
   ]
  },
  {
   "cell_type": "markdown",
   "metadata": {},
   "source": [
    "Changes are sent to the DSMS through the `commit`-method again."
   ]
  },
  {
   "cell_type": "code",
   "execution_count": null,
   "metadata": {},
   "outputs": [],
   "source": [
    "dsms.commit()"
   ]
  },
  {
   "cell_type": "markdown",
   "metadata": {},
   "source": [
    "We can see now that e.g. the local system path of the attachment is changed to a simply file name, which means that the upload was successful. If not so, an error would have beem thrown during the `commit`."
   ]
  },
  {
   "cell_type": "markdown",
   "metadata": {},
   "source": [
    "Furthermore we can also download the file we uploaded again:"
   ]
  },
  {
   "cell_type": "code",
   "execution_count": null,
   "metadata": {},
   "outputs": [],
   "source": [
    "for file in item.attachments:\n",
    "    download = file.download()\n",
    "\n",
    "    print(\"\\t\\t\\t Downloaded file:\", file)\n",
    "    print(\"|------------------------------------Beginning of file------------------------------------|\")\n",
    "    print(download)\n",
    "    print(\"|---------------------------------------End of file---------------------------------------|\")"
   ]
  }
 ],
 "metadata": {
  "kernelspec": {
   "display_name": "sdk",
   "language": "python",
   "name": "python3"
  },
  "language_info": {
   "codemirror_mode": {
    "name": "ipython",
    "version": 3
   },
   "file_extension": ".py",
   "mimetype": "text/x-python",
   "name": "python",
   "nbconvert_exporter": "python",
   "pygments_lexer": "ipython3",
   "version": "0.0.0"
  }
 },
 "nbformat": 4,
 "nbformat_minor": 2
}
