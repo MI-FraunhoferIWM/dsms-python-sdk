{
 "cells": [
  {
   "cell_type": "markdown",
   "metadata": {},
   "source": [
    "# Tutorial 3: Updating KItems\n",
    "\n",
    "In this tutorial we see how to update existing Kitems."
   ]
  },
  {
   "cell_type": "markdown",
   "metadata": {},
   "source": [
    "### 3.1. Setting up\n",
    "Before you run this tutorial: make sure to have access to a DSMS-instance of your interest, alongwith with installation of this package and have establised access to the DSMS through DSMS-SDK (refer to [Accessing DSMS Core via SDK](../dsms_sdk.md#accessing-dsms-core))\n",
    "\n",
    "\n",
    "Now let us import the needed classes and functions for this tutorial."
   ]
  },
  {
   "cell_type": "code",
   "execution_count": 1,
   "metadata": {},
   "outputs": [],
   "source": [
    "from dsms import DSMS, KItem"
   ]
  },
  {
   "cell_type": "markdown",
   "metadata": {},
   "source": [
    "Now source the environmental variables from an `.env` file and start the DSMS-session."
   ]
  },
  {
   "cell_type": "code",
   "execution_count": 2,
   "metadata": {},
   "outputs": [],
   "source": [
    "dsms = DSMS(env=\"../.env\")"
   ]
  },
  {
   "cell_type": "markdown",
   "metadata": {},
   "source": [
    "Now lets get the kitem we created in the [2nd tutorial : Creation of Kitems](2_creation.ipynb)\n"
   ]
  },
  {
   "cell_type": "code",
   "execution_count": 3,
   "metadata": {},
   "outputs": [
    {
     "name": "stdout",
     "output_type": "stream",
     "text": [
      "Machine-1\n"
     ]
    }
   ],
   "source": [
    "item = dsms.kitems[0]\n",
    "print(item.name)"
   ]
  },
  {
   "cell_type": "markdown",
   "metadata": {},
   "source": [
    "### 3.2. Updating Kitems"
   ]
  },
  {
   "cell_type": "markdown",
   "metadata": {},
   "source": [
    "Now, we would like to update the properties of our KItem we created previously.\n",
    "\n",
    "Depending on the schema of each property (see [DSMS KItem Schema](../dsms_kitem_schema.md)), we can simply use the standard `list`-method as we know them from basic Python (e.g. for the `annotations`, `attachments`, `external_link`, etc). \n",
    "\n",
    "Other properties which are not `list`-like can be simply set by attribute-assignment (e.g. `name`, `slug`, `ktype_id`, etc)."
   ]
  },
  {
   "cell_type": "code",
   "execution_count": 4,
   "metadata": {},
   "outputs": [],
   "source": [
    "item.name = \"Machine-1\"\n",
    "item.custom_properties.Producer = \"Machinery GmBH\"\n",
    "item.attachments.append(\"../README.md\")\n",
    "item.annotations.append(\"www.machinery.org/\")\n",
    "item.external_links.append(\n",
    "    {\"url\": \"http://machine.org\", \"label\": \"machine-link\"}\n",
    ")\n",
    "item.contacts.append({\"name\": \"machinesupport\", \"email\": \"machinesupport@group.mail\"})\n",
    "item.affiliations.append(\"machine-team\")\n",
    "item.user_groups.append({\"name\": \"machinegroup\", \"group_id\": \"123\"})"
   ]
  },
  {
   "cell_type": "code",
   "execution_count": 5,
   "metadata": {},
   "outputs": [],
   "source": [
    "dsms.commit()"
   ]
  },
  {
   "cell_type": "markdown",
   "metadata": {},
   "source": [
    "We can see now that the local system path of the attachment is changed to a simply file name, which means that the upload was successful. If not so, an error would have been thrown during the `commit`."
   ]
  },
  {
   "cell_type": "markdown",
   "metadata": {},
   "source": [
    "Furthermore we can also download the file we uploaded again:"
   ]
  },
  {
   "cell_type": "code",
   "execution_count": 6,
   "metadata": {},
   "outputs": [
    {
     "name": "stdout",
     "output_type": "stream",
     "text": [
      "\t\t\t Downloaded file: {\n",
      "\t\t\tname: README.md\n",
      "\t\t}\n",
      "|------------------------------------Beginning of file------------------------------------|\n",
      "# DSMS-SDK\n",
      "Python SDK core-package for interacting with the Dataspace Management System (DSMS)\n",
      "\n",
      "\n",
      "## Authors\n",
      "\n",
      "[Matthias Büschelberger](mailto:matthias.bueschelberger@iwm.fraunhofer.de) (Fraunhofer Institute for Mechanics of Materials IWM)\n",
      "\n",
      "[Yoav Nahshon](mailto:yoav.nahshon@iwm.fraunhofer.de) (Fraunhofer Institute for Mechanics of Materials IWM)\n",
      "\n",
      "[Pablo De Andres](mailto:pablo.de.andres@iwm.fraunhofer.de) (Fraunhofer Institute for Mechanics of Materials IWM)\n",
      "\n",
      "## License\n",
      "\n",
      "This project is licensed under the BSD 3-Clause. See the LICENSE file for more information.\n",
      "\n",
      "## Usage\n",
      "\n",
      "The SDK provides a general Python interface to a remote DSMS deployment, allowing users to access, store and link data in a DSMS instance easily and safely. The package provides the following main capabilities:\n",
      "\n",
      "- Managing Knowledge-Items (KItems), which are data instances of an explicitly defined semantic class type (KType)\n",
      " - Creating, updating and deleting meta data and properties, e.g. date, operator, material response data for a conducted tensile test\n",
      " - Administrating authorship, contact information and supplementary information upon making changes or adding KItems\n",
      " - Semantic annotation of KItems\n",
      "- Conduct simple free-text searches within the DSMS instance including filters (e.g. limiting the search for certain materials) as well as a more experts-aware SPARQL interface\n",
      "- Linking KItems to other KItems\n",
      "- Linking Apps to KItems, triggererd, for example, during a file upload\n",
      "- Performing simple file upload and download using attachments to KItems\n",
      "- Export of a knowledge (sub) graph as common serializations (.ttl, .json)\n",
      "\n",
      "For the basic usage, please have a look on the Jupyter Notebook under `examples/basic_usage.ipynb`. This tutorial provides a basic overview of using the dsms package to interact with Knowledge Items.\n",
      "\n",
      "\n",
      "## Disclaimer\n",
      "\n",
      "Copyright (c) 2014-2024, Fraunhofer-Gesellschaft zur Förderung der angewandten Forschung e.V. acting on behalf of its Fraunhofer IWM.\n",
      "\n",
      "Contact: [Matthias Büschelberger](mailto:matthias.bueschelberger@iwm.fraunhofer.de)\n",
      "\n",
      "|---------------------------------------End of file---------------------------------------|\n",
      "\t\t\t Downloaded file: {\n",
      "\t\t\tname: subgraph.ttl\n",
      "\t\t}\n",
      "|------------------------------------Beginning of file------------------------------------|\n",
      "\n",
      "<https://stahldigital.materials-data.space/api/knowledge/kitems/testing-machine/machine-1-d377511c> a <https://stahldigital.materials-data.space/api/knowledge-type/testing-machine> .\n",
      "\n",
      "\n",
      "|---------------------------------------End of file---------------------------------------|\n"
     ]
    }
   ],
   "source": [
    "for file in item.attachments:\n",
    "    download = file.download()\n",
    "\n",
    "    print(\"\\t\\t\\t Downloaded file:\", file)\n",
    "    print(\"|------------------------------------Beginning of file------------------------------------|\")\n",
    "    print(download)\n",
    "    print(\"|---------------------------------------End of file---------------------------------------|\")"
   ]
  }
 ],
 "metadata": {
  "kernelspec": {
   "display_name": "sdk",
   "language": "python",
   "name": "python3"
  },
  "language_info": {
   "codemirror_mode": {
    "name": "ipython",
    "version": 3
   },
   "file_extension": ".py",
   "mimetype": "text/x-python",
   "name": "python",
   "nbconvert_exporter": "python",
   "pygments_lexer": "ipython3",
   "version": "3.10.13"
  }
 },
 "nbformat": 4,
 "nbformat_minor": 2
}
