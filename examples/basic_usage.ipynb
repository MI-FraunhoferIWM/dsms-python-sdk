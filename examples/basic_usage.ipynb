{
 "cells": [
  {
   "cell_type": "markdown",
   "metadata": {},
   "source": [
    "# Basic useage of the DSMS-Python-SDK\n",
    "\n",
    "Before you run this tutorial: make sure to have access to an DSMS-instance of your interest, that you have installed this package and that you have copied the needed variables such as the `DSMS_HOST_URL` and `DSMS_TOKEN` into an `.env`-file."
   ]
  },
  {
   "cell_type": "markdown",
   "metadata": {},
   "source": [
    "# pending\n",
    "\n",
    "Also make sure to pip install dsms-sdk and how to export DSMS_HOST_URL and DSMS_TOKEN, attach."
   ]
  },
  {
   "cell_type": "markdown",
   "metadata": {},
   "source": [
    "First of all, make let us import the needed classes and functions for this tutortial."
   ]
  },
  {
   "cell_type": "code",
   "execution_count": null,
   "metadata": {},
   "outputs": [],
   "source": [
    "import os\n",
    "from pprint import pprint\n",
    "\n",
    "from dotenv import load_dotenv\n",
    "\n",
    "from dsms import DSMS, KItem"
   ]
  },
  {
   "cell_type": "markdown",
   "metadata": {},
   "source": [
    "Now source the environmental variables from an `.env` file and start the DSMS-session."
   ]
  },
  {
   "cell_type": "code",
   "execution_count": null,
   "metadata": {},
   "outputs": [
    {
     "ename": "",
     "evalue": "",
     "output_type": "error",
     "traceback": [
      "\u001b[1;31mThe Kernel crashed while executing code in the current cell or a previous cell. \n",
      "\u001b[1;31mPlease review the code in the cell(s) to identify a possible cause of the failure. \n",
      "\u001b[1;31mClick <a href='https://aka.ms/vscodeJupyterKernelCrash'>here</a> for more info. \n",
      "\u001b[1;31mView Jupyter <a href='command:jupyter.viewOutput'>log</a> for further details."
     ]
    }
   ],
   "source": [
    "#specify path to an arbitrary file\n",
    "env = os.path.join(\"..\", \".env\")\n",
    "\n",
    "# start the session\n",
    "load_dotenv(env)\n",
    "\n",
    "dsms = DSMS()"
   ]
  },
  {
   "cell_type": "markdown",
   "metadata": {},
   "source": [
    "### 1: Introduction"
   ]
  },
  {
   "cell_type": "markdown",
   "metadata": {},
   "source": [
    "We can see which kind of DSMS-object we own as a user:"
   ]
  },
  {
   "cell_type": "code",
   "execution_count": null,
   "metadata": {},
   "outputs": [],
   "source": [
    "dsms.kitems"
   ]
  },
  {
   "cell_type": "markdown",
   "metadata": {},
   "source": [
    "We can investigate what a KItem needs in order to be created. KItems are entirely based on [`Pydantic`](https://docs.pydantic.dev/latest/)-Models (v2), hence the properties (in `Pydantic` called `Fields`) are automatically validated once we set them. \n",
    "\n",
    "The schema of the KItem itself is a JSON schema which is machine-readable and can be directly incorporated into [Swagger](https://swagger.io/tools/swagger-ui/)-supported APIs like e.g. [`FastAPI`](https://fastapi.tiangolo.com/)."
   ]
  },
  {
   "cell_type": "code",
   "execution_count": null,
   "metadata": {},
   "outputs": [],
   "source": [
    "pprint(KItem.model_json_schema())"
   ]
  },
  {
   "cell_type": "markdown",
   "metadata": {},
   "source": [
    "We can investigate the KTypes defined in the remote instance:"
   ]
  },
  {
   "cell_type": "code",
   "execution_count": null,
   "metadata": {},
   "outputs": [],
   "source": [
    "for ktype in dsms.ktypes:\n",
    "    print(ktype)"
   ]
  },
  {
   "cell_type": "markdown",
   "metadata": {},
   "source": [
    "### 2: Create KItems"
   ]
  },
  {
   "cell_type": "markdown",
   "metadata": {},
   "source": [
    "We can make new KItems by simple class-initiation:"
   ]
  },
  {
   "cell_type": "code",
   "execution_count": null,
   "metadata": {},
   "outputs": [],
   "source": [
    "item = KItem(\n",
    "    name=\"foo12345\",\n",
    "    ktype_id=dsms.ktypes.DatasetCatalog,\n",
    "    custom_properties={\"foo\": \"bar\"},\n",
    ")\n",
    "\n",
    "item"
   ]
  },
  {
   "cell_type": "markdown",
   "metadata": {},
   "source": [
    "Remember: changes are only syncronized with the DSMS when you call the `commit`-method:"
   ]
  },
  {
   "cell_type": "code",
   "execution_count": null,
   "metadata": {},
   "outputs": [],
   "source": [
    "dsms.commit()"
   ]
  },
  {
   "cell_type": "markdown",
   "metadata": {},
   "source": [
    "As we can see, the object we created before running the `commit`-method has automatically been updated, e.g. with the creation- and update-timestamp:"
   ]
  },
  {
   "cell_type": "code",
   "execution_count": null,
   "metadata": {},
   "outputs": [],
   "source": [
    "item"
   ]
  },
  {
   "cell_type": "markdown",
   "metadata": {},
   "source": [
    "And the list of our KItems in the DSMS has been updated as well:"
   ]
  },
  {
   "cell_type": "code",
   "execution_count": null,
   "metadata": {},
   "outputs": [],
   "source": [
    "dsms.kitems"
   ]
  },
  {
   "cell_type": "markdown",
   "metadata": {},
   "source": [
    "### 3. Update KItems"
   ]
  },
  {
   "cell_type": "markdown",
   "metadata": {},
   "source": [
    "Now, we would like to update the properties of our KItem we created previously.\n",
    "\n",
    "Depending on the schema of each property (see `KItem.model_schema_json()` in the **Introduction** of this tutorial), we can simply use the standard `list`-method as we know them from basic Python (e.g. for the `annotations`, `attachments`, `external_link`, etc). \n",
    "\n",
    "\n",
    "Other properties which are not `list`-like can be simply set by attribute-assignment (e.g. `name`, `slug`, `ktype_id`, etc)."
   ]
  },
  {
   "cell_type": "code",
   "execution_count": null,
   "metadata": {},
   "outputs": [],
   "source": [
    "# specify the path to any arbitrary file to be uploaded\n",
    "file = os.path.join(\"..\", \"README.md\")\n",
    "\n",
    "item.name = \"foobar\"\n",
    "item.custom_properties.update({\"foobar\": \"foobar\"})\n",
    "item.attachments.append({\"name\": file})\n",
    "item.annotations.append(\n",
    "    {\n",
    "        \"iri\": \"www.example.org/foo\",\n",
    "        \"name\": \"example class\",\n",
    "        \"namespace\": \"www.example.org\",\n",
    "    }\n",
    ")\n",
    "item.external_links.append(\n",
    "    {\"url\": \"http://example.org\", \"label\": \"example link\"}\n",
    ")\n",
    "item.contacts.append({\"name\": \"foo\", \"email\": \"foo@bar.mail\"})\n",
    "item.affiliations.append({\"name\": \"foobar team\"})\n",
    "item.user_groups.append({\"name\": \"foogroup\", \"group_id\": \"123\"})"
   ]
  },
  {
   "cell_type": "markdown",
   "metadata": {},
   "source": [
    "Changes are sent to the DSMS through the `commit`-method again."
   ]
  },
  {
   "cell_type": "code",
   "execution_count": null,
   "metadata": {},
   "outputs": [],
   "source": [
    "dsms.commit()"
   ]
  },
  {
   "cell_type": "markdown",
   "metadata": {},
   "source": [
    "We can see now that e.g. the local system path of the attachment is changed to a simply file name, which means that the upload was successful. If not so, an error would have beem thrown during the `commit`."
   ]
  },
  {
   "cell_type": "markdown",
   "metadata": {},
   "source": [
    "Furthermore we can also download the file we uploaded again:"
   ]
  },
  {
   "cell_type": "code",
   "execution_count": null,
   "metadata": {},
   "outputs": [],
   "source": [
    "for file in item.attachments:\n",
    "    download = file.download()\n",
    "\n",
    "    print(\"\\t\\t\\t Downloaded file:\", file)\n",
    "    print(\"|------------------------------------Beginning of file------------------------------------|\")\n",
    "    print(download)\n",
    "    print(\"|---------------------------------------End of file---------------------------------------|\")"
   ]
  },
  {
   "cell_type": "markdown",
   "metadata": {},
   "source": [
    "### 4: Delete KItems and their properties"
   ]
  },
  {
   "cell_type": "markdown",
   "metadata": {},
   "source": [
    "We can also remove properties from the KItem without deleting the KItem itself.\n",
    "\n",
    "For the `list`-like properties, we can use the standard `list`-methods from basic Python again (e.g. `pop`, `remove`, etc. or the `del`-operator).\n",
    "\n",
    "For the other, non-`list`-like properties, we can simply use the attribute-assignment again.\n",
    "\n",
    "When we only want single parts of the properties in the KItem, we can do it like this:"
   ]
  },
  {
   "cell_type": "code",
   "execution_count": null,
   "metadata": {},
   "outputs": [],
   "source": [
    "item.attachments.pop(0)\n",
    "item.annotations.pop(0)\n",
    "item.external_links.pop(0)\n",
    "item.contacts.pop(0)\n",
    "item.user_groups.pop(0)"
   ]
  },
  {
   "cell_type": "markdown",
   "metadata": {},
   "source": [
    "However, we can also reset the entire property by setting it to e.g. an empty list again:"
   ]
  },
  {
   "cell_type": "code",
   "execution_count": null,
   "metadata": {},
   "outputs": [],
   "source": [
    "item.affiliations = []"
   ]
  },
  {
   "cell_type": "markdown",
   "metadata": {},
   "source": [
    "See the changes:"
   ]
  },
  {
   "cell_type": "code",
   "execution_count": null,
   "metadata": {},
   "outputs": [],
   "source": [
    "item"
   ]
  },
  {
   "cell_type": "markdown",
   "metadata": {},
   "source": [
    "Send the changes to the DSMS with the `commit`-method:"
   ]
  },
  {
   "cell_type": "code",
   "execution_count": null,
   "metadata": {},
   "outputs": [],
   "source": [
    "dsms.commit()"
   ]
  },
  {
   "cell_type": "markdown",
   "metadata": {},
   "source": [
    "However, we can also delete the whole KItem from the DSMS by applying the `del`-operator to the `dsms`-object with the individual `KItem`-object:"
   ]
  },
  {
   "cell_type": "code",
   "execution_count": null,
   "metadata": {},
   "outputs": [],
   "source": [
    "del dsms[item]"
   ]
  },
  {
   "cell_type": "markdown",
   "metadata": {},
   "source": [
    "Commit the changes:"
   ]
  },
  {
   "cell_type": "code",
   "execution_count": null,
   "metadata": {},
   "outputs": [],
   "source": [
    "dsms.commit()"
   ]
  },
  {
   "cell_type": "markdown",
   "metadata": {},
   "source": [
    "As we can see know, our KItem has been removed from our inventory:"
   ]
  },
  {
   "cell_type": "code",
   "execution_count": null,
   "metadata": {},
   "outputs": [],
   "source": [
    "dsms.kitems"
   ]
  },
  {
   "cell_type": "markdown",
   "metadata": {},
   "source": [
    "### 5: Search for KItems"
   ]
  },
  {
   "cell_type": "markdown",
   "metadata": {},
   "source": [
    "In the last unit of this tutorial, we would like to search for specfic KItems we created in the DSMS.\n",
    "\n",
    "For this purpose, we will firstly create some KItems and apply the `search`-method on the `DSMS`-object later on in order to find them again in the DSMS.\n",
    "\n",
    "We also wnat to demonstrate here, that we can link KItems to each other in order to find e.g. a related item of type `DatasetCatalog`. For this strategy, we are using the `linked_kitems`-attribute and the `id` of the item which we would like to link.\n",
    "\n",
    "The procedure looks like this:"
   ]
  },
  {
   "cell_type": "code",
   "execution_count": null,
   "metadata": {},
   "outputs": [],
   "source": [
    "item = KItem(\n",
    "    name=\"foo 1\",\n",
    "    ktype_id=dsms.ktypes.DatasetCatalog\n",
    ")\n",
    "\n",
    "item2 = KItem(\n",
    "    name=\"foo 2\",\n",
    "    ktype_id=dsms.ktypes.Organization,\n",
    "    linked_kitems=[item],\n",
    "    annotations=[\n",
    "        {\n",
    "            \"iri\": \"www.example.org/foo\",\n",
    "            \"name\": \"foo\",\n",
    "            \"namespace\": \"www.example.org\",\n",
    "        }\n",
    "    ],\n",
    ")\n",
    "item3 = KItem(\n",
    "    name=\"foo 3\", \n",
    "    ktype_id=dsms.ktypes.Organization\n",
    ")\n",
    "item4 = KItem(\n",
    "    name=\"foo 4\",\n",
    "    ktype_id=dsms.ktypes.Organization,\n",
    "    annotations=[\n",
    "        {\n",
    "            \"iri\": \"www.example.org/bar\",\n",
    "            \"name\": \"bar\",\n",
    "            \"namespace\": \"https://www.example.org\",\n",
    "        }\n",
    "    ],\n",
    ")\n",
    "\n",
    "dsms.commit()"
   ]
  },
  {
   "cell_type": "markdown",
   "metadata": {},
   "source": [
    "Now, we are apply to search for e.g. kitems of type `DatasetCatalog`:"
   ]
  },
  {
   "cell_type": "code",
   "execution_count": null,
   "metadata": {},
   "outputs": [],
   "source": [
    "dsms.search(ktypes=[dsms.ktypes.DatasetCatalog])"
   ]
  },
  {
   "cell_type": "markdown",
   "metadata": {},
   "source": [
    "... and for all of type `Organization` and `DatasetCatalog`:"
   ]
  },
  {
   "cell_type": "code",
   "execution_count": null,
   "metadata": {},
   "outputs": [],
   "source": [
    "dsms.search(ktypes=[dsms.ktypes.Organization, dsms.ktypes.DatasetCatalog])"
   ]
  },
  {
   "cell_type": "markdown",
   "metadata": {},
   "source": [
    "... or for all of type `DatasetCatalog` with `foo` in the name:"
   ]
  },
  {
   "cell_type": "code",
   "execution_count": null,
   "metadata": {},
   "outputs": [],
   "source": [
    "dsms.search(query=\"foo\", ktypes=[dsms.ktypes.DatasetCatalog])"
   ]
  },
  {
   "cell_type": "markdown",
   "metadata": {},
   "source": [
    "... and for all of type `Organization` with the annotation `www.example.org/foo`:"
   ]
  },
  {
   "cell_type": "code",
   "execution_count": null,
   "metadata": {},
   "outputs": [],
   "source": [
    "dsms.search(\n",
    "        ktypes=[dsms.ktypes.Organization], annotations=[\"www.example.org/foo\"]\n",
    "    )"
   ]
  },
  {
   "cell_type": "markdown",
   "metadata": {},
   "source": [
    "Clean up the DSMS from the tutortial:"
   ]
  },
  {
   "cell_type": "code",
   "execution_count": null,
   "metadata": {},
   "outputs": [],
   "source": [
    "del dsms[item]\n",
    "del dsms[item2]\n",
    "del dsms[item3]\n",
    "del dsms[item4]\n",
    "\n",
    "dsms.commit()\n",
    "\n",
    "dsms.kitems"
   ]
  },
  {
   "cell_type": "markdown",
   "metadata": {},
   "source": [
    "### 6. Apps"
   ]
  },
  {
   "cell_type": "markdown",
   "metadata": {},
   "source": [
    "We can investigate which apps are available through JupyterLab:"
   ]
  },
  {
   "cell_type": "code",
   "execution_count": null,
   "metadata": {},
   "outputs": [],
   "source": [
    "dsms.apps"
   ]
  },
  {
   "cell_type": "markdown",
   "metadata": {},
   "source": [
    "7. HDF5 "
   ]
  },
  {
   "cell_type": "markdown",
   "metadata": {},
   "source": [
    "We are also able to upload dataframes or time series data and investigate them:"
   ]
  },
  {
   "cell_type": "code",
   "execution_count": null,
   "metadata": {},
   "outputs": [],
   "source": [
    "data = {\"a\": list(range(100)), \"b\": list(range(1,101))}\n",
    "\n",
    "\n",
    "item = KItem(name=\"testdata123\", ktype_id=dsms.ktypes.DatasetCatalog, hdf5=data)\n",
    "dsms.commit()\n",
    "\n",
    "print(\"Column-wise:\")\n",
    "for column in item.hdf5:\n",
    "    print(\"column:\", column.name, \",\\n\", \"data:\", column.get())\n",
    "\n",
    "df = item.hdf5.to_df()\n",
    "print(\"\\nAs data frame:\")\n",
    "print(df)\n",
    "\n",
    "new_df = df.drop(['a'], axis=1)\n",
    "item.hdf5 = new_df\n",
    "\n",
    "dsms.commit()"
   ]
  },
  {
   "cell_type": "code",
   "execution_count": null,
   "metadata": {},
   "outputs": [],
   "source": [
    "del dsms[item]"
   ]
  },
  {
   "cell_type": "code",
   "execution_count": null,
   "metadata": {},
   "outputs": [],
   "source": [
    "dsms.commit()"
   ]
  }
 ],
 "metadata": {
  "kernelspec": {
   "display_name": "sdk",
   "language": "python",
   "name": "python3"
  },
  "language_info": {
   "codemirror_mode": {
    "name": "ipython",
    "version": 3
   },
   "file_extension": ".py",
   "mimetype": "text/x-python",
   "name": "python",
   "nbconvert_exporter": "python",
   "pygments_lexer": "ipython3",
   "version": "3.9.19"
  }
 },
 "nbformat": 4,
 "nbformat_minor": 2
}
