{
 "cells": [
  {
   "cell_type": "markdown",
   "metadata": {},
   "source": [
    "# Basic useage of the DSMS-Python-SDK\n",
    "\n",
    "Before you run this tutorial: make sure to have access to an DSMS-instance of your interest, that you have installed this package and that you have copied the needed variables such as the `DSMS_HOST_URL` and `DSMS_TOKEN` into an `.env`-file."
   ]
  },
  {
   "cell_type": "markdown",
   "metadata": {},
   "source": [
    "First of all, make let us import the needed classes and functions for this tutortial."
   ]
  },
  {
   "cell_type": "code",
   "execution_count": 1,
   "metadata": {},
   "outputs": [],
   "source": [
    "from dsms import DSMS, KItem"
   ]
  },
  {
   "cell_type": "markdown",
   "metadata": {},
   "source": [
    "Now source the environmental variables from an `.env` file and start the DSMS-session."
   ]
  },
  {
   "cell_type": "code",
   "execution_count": 2,
   "metadata": {},
   "outputs": [],
   "source": [
    "dsms = DSMS(env=\"../.env\")"
   ]
  },
  {
   "cell_type": "markdown",
   "metadata": {},
   "source": [
    "### 1: Introduction"
   ]
  },
  {
   "cell_type": "markdown",
   "metadata": {},
   "source": [
    "We can see which kind of DSMS-object we own as a user:"
   ]
  },
  {
   "cell_type": "markdown",
   "metadata": {},
   "source": [
    "We can investigate what a KItem needs in order to be created. KItems are entirely based on [`Pydantic`](https://docs.pydantic.dev/latest/)-Models (v2), hence the properties (in `Pydantic` called `Fields`) are automatically validated once we set them. \n",
    "\n",
    "The schema of the KItem itself is a JSON schema which is machine-readable and can be directly incorporated into [Swagger](https://swagger.io/tools/swagger-ui/)-supported APIs like e.g. [`FastAPI`](https://fastapi.tiangolo.com/)."
   ]
  },
  {
   "cell_type": "markdown",
   "metadata": {},
   "source": [
    "We can investigate the KTypes defined in the remote instance:"
   ]
  },
  {
   "cell_type": "code",
   "execution_count": 3,
   "metadata": {},
   "outputs": [
    {
     "name": "stdout",
     "output_type": "stream",
     "text": [
      "KTypes.Organization\n",
      "KTypes.App\n",
      "KTypes.Dataset\n",
      "KTypes.DatasetCatalog\n",
      "KTypes.Expert\n",
      "KTypes.Test\n",
      "KTypes.Specimen\n",
      "KTypes.Batch\n",
      "KTypes.Resource\n",
      "KTypes.TestingMachine\n"
     ]
    }
   ],
   "source": [
    "for ktype in dsms.ktypes:\n",
    "    print(ktype)"
   ]
  },
  {
   "cell_type": "markdown",
   "metadata": {},
   "source": [
    "### 2: Create KItems"
   ]
  },
  {
   "cell_type": "markdown",
   "metadata": {},
   "source": [
    "We can make new KItems by simple class-initiation:"
   ]
  },
  {
   "cell_type": "code",
   "execution_count": 4,
   "metadata": {},
   "outputs": [
    {
     "data": {
      "text/plain": [
       "KItem(\n",
       "\n",
       "\tname = foo123, \n",
       "\n",
       "\tid = 617cd64f-1a4d-48d5-aed6-ff9d9e3ddb20, \n",
       "\n",
       "\tktype_id = KTypes.Dataset, \n",
       "\n",
       "\tin_backend = False, \n",
       "\n",
       "\tslug = foo123-617cd64f, \n",
       "\n",
       "\tannotations = [], \n",
       "\n",
       "\tattachments = [], \n",
       "\n",
       "\tlinked_kitems = [], \n",
       "\n",
       "\taffiliations = [], \n",
       "\n",
       "\tauthors = [], \n",
       "\n",
       "\tavatar_exists = False, \n",
       "\n",
       "\tcontacts = [], \n",
       "\n",
       "\tcreated_at = None, \n",
       "\n",
       "\tupdated_at = None, \n",
       "\n",
       "\texternal_links = [], \n",
       "\n",
       "\tkitem_apps = [], \n",
       "\n",
       "\tsummary = None, \n",
       "\n",
       "\tuser_groups = [], \n",
       "\n",
       "\tcustom_properties = {\n",
       "\t\tfoo: bar\n",
       "\t}, \n",
       "\n",
       "\tdataframe = None, \n",
       "\n",
       "\trdf_exists = False\n",
       ")"
      ]
     },
     "execution_count": 4,
     "metadata": {},
     "output_type": "execute_result"
    }
   ],
   "source": [
    "item = KItem(\n",
    "    name=\"foo123\",\n",
    "    ktype_id=dsms.ktypes.Dataset,\n",
    "    custom_properties={\"foo\": \"bar\"},\n",
    ")\n",
    "\n",
    "item"
   ]
  },
  {
   "cell_type": "markdown",
   "metadata": {},
   "source": [
    "Remember: changes are only syncronized with the DSMS when you call the `commit`-method:"
   ]
  },
  {
   "cell_type": "code",
   "execution_count": 5,
   "metadata": {},
   "outputs": [
    {
     "data": {
      "text/plain": [
       "'https://bue.materials-data.space/knowledge/dataset/foo123-617cd64f'"
      ]
     },
     "execution_count": 5,
     "metadata": {},
     "output_type": "execute_result"
    }
   ],
   "source": [
    "dsms.commit()\n",
    "item.url"
   ]
  },
  {
   "cell_type": "markdown",
   "metadata": {},
   "source": [
    "As we can see, the object we created before running the `commit`-method has automatically been updated, e.g. with the creation- and update-timestamp:"
   ]
  },
  {
   "cell_type": "code",
   "execution_count": 6,
   "metadata": {},
   "outputs": [
    {
     "data": {
      "text/plain": [
       "KItem(\n",
       "\n",
       "\tname = foo123, \n",
       "\n",
       "\tid = 617cd64f-1a4d-48d5-aed6-ff9d9e3ddb20, \n",
       "\n",
       "\tktype_id = dataset, \n",
       "\n",
       "\tin_backend = True, \n",
       "\n",
       "\tslug = foo123-617cd64f, \n",
       "\n",
       "\tannotations = [], \n",
       "\n",
       "\tattachments = [], \n",
       "\n",
       "\tlinked_kitems = [], \n",
       "\n",
       "\taffiliations = [], \n",
       "\n",
       "\tauthors = [\n",
       "\t\t{\n",
       "\t\t\tuser_id: 7f0e5a37-353b-4bbc-b1f1-b6ad575f562d\n",
       "\t\t}\n",
       "\t], \n",
       "\n",
       "\tavatar_exists = False, \n",
       "\n",
       "\tcontacts = [], \n",
       "\n",
       "\tcreated_at = 2024-08-20 08:01:50.536406, \n",
       "\n",
       "\tupdated_at = 2024-08-20 08:01:50.536406, \n",
       "\n",
       "\texternal_links = [], \n",
       "\n",
       "\tkitem_apps = [], \n",
       "\n",
       "\tsummary = None, \n",
       "\n",
       "\tuser_groups = [], \n",
       "\n",
       "\tcustom_properties = {\n",
       "\t\tfoo: bar\n",
       "\t}, \n",
       "\n",
       "\tdataframe = None, \n",
       "\n",
       "\trdf_exists = False\n",
       ")"
      ]
     },
     "execution_count": 6,
     "metadata": {},
     "output_type": "execute_result"
    }
   ],
   "source": [
    "item"
   ]
  },
  {
   "cell_type": "markdown",
   "metadata": {},
   "source": [
    "### 3. Update KItems"
   ]
  },
  {
   "cell_type": "markdown",
   "metadata": {},
   "source": [
    "Now, we would like to update the properties of our KItem we created previously.\n",
    "\n",
    "Depending on the schema of each property (see `KItem.model_schema_json()` in the **Introduction** of this tutorial), we can simply use the standard `list`-method as we know them from basic Python (e.g. for the `annotations`, `attachments`, `external_link`, etc). \n",
    "\n",
    "\n",
    "Other properties which are not `list`-like can be simply set by attribute-assignment (e.g. `name`, `slug`, `ktype_id`, etc)."
   ]
  },
  {
   "cell_type": "code",
   "execution_count": 7,
   "metadata": {},
   "outputs": [],
   "source": [
    "item.name = \"foobar\"\n",
    "item.custom_properties.foobar = \"foobar\"\n",
    "item.attachments.append(\"../README.md\")\n",
    "item.annotations.append(\"www.example.org/foo\")\n",
    "item.external_links.append(\n",
    "    {\"url\": \"http://example.org\", \"label\": \"example link\"}\n",
    ")\n",
    "item.contacts.append({\"name\": \"foo\", \"email\": \"foo@bar.mail\"})\n",
    "item.affiliations.append(\"foobar team\")\n",
    "item.user_groups.append({\"name\": \"foogroup\", \"group_id\": \"123\"})"
   ]
  },
  {
   "cell_type": "markdown",
   "metadata": {},
   "source": [
    "Changes are sent to the DSMS through the `commit`-method again."
   ]
  },
  {
   "cell_type": "code",
   "execution_count": 8,
   "metadata": {},
   "outputs": [],
   "source": [
    "dsms.commit()"
   ]
  },
  {
   "cell_type": "code",
   "execution_count": 9,
   "metadata": {},
   "outputs": [
    {
     "data": {
      "text/plain": [
       "KItem(\n",
       "\n",
       "\tname = foobar, \n",
       "\n",
       "\tid = 617cd64f-1a4d-48d5-aed6-ff9d9e3ddb20, \n",
       "\n",
       "\tktype_id = dataset, \n",
       "\n",
       "\tin_backend = True, \n",
       "\n",
       "\tslug = foo123-617cd64f, \n",
       "\n",
       "\tannotations = [\n",
       "\t\t{\n",
       "\t\t\tiri: www.example.org/foo,\n",
       "\t\t\tname: foo,\n",
       "\t\t\tnamespace: www.example.org,\n",
       "\t\t\tdescription: None\n",
       "\t\t}\n",
       "\t], \n",
       "\n",
       "\tattachments = [\n",
       "\t\t{\n",
       "\t\t\tname: README.md\n",
       "\t\t}\n",
       "\t], \n",
       "\n",
       "\tlinked_kitems = [], \n",
       "\n",
       "\taffiliations = [\n",
       "\t\t{\n",
       "\t\t\tname: foobar team\n",
       "\t\t}\n",
       "\t], \n",
       "\n",
       "\tauthors = [\n",
       "\t\t{\n",
       "\t\t\tuser_id: 7f0e5a37-353b-4bbc-b1f1-b6ad575f562d\n",
       "\t\t}\n",
       "\t], \n",
       "\n",
       "\tavatar_exists = False, \n",
       "\n",
       "\tcontacts = [\n",
       "\t\t{\n",
       "\t\t\tname: foo,\n",
       "\t\t\temail: foo@bar.mail,\n",
       "\t\t\tuser_id: None\n",
       "\t\t}\n",
       "\t], \n",
       "\n",
       "\tcreated_at = 2024-08-20 08:01:50.536406, \n",
       "\n",
       "\tupdated_at = 2024-08-20 08:01:54.745601, \n",
       "\n",
       "\texternal_links = [\n",
       "\t\t{\n",
       "\t\t\tlabel: example link,\n",
       "\t\t\turl: http://example.org/\n",
       "\t\t}\n",
       "\t], \n",
       "\n",
       "\tkitem_apps = [], \n",
       "\n",
       "\tsummary = None, \n",
       "\n",
       "\tuser_groups = [\n",
       "\t\t{\n",
       "\t\t\tname: foogroup,\n",
       "\t\t\tgroup_id: 123\n",
       "\t\t}\n",
       "\t], \n",
       "\n",
       "\tcustom_properties = {\n",
       "\t\tfoo: bar\n",
       "\t}, \n",
       "\n",
       "\tdataframe = None, \n",
       "\n",
       "\trdf_exists = False\n",
       ")"
      ]
     },
     "execution_count": 9,
     "metadata": {},
     "output_type": "execute_result"
    }
   ],
   "source": [
    "item"
   ]
  },
  {
   "cell_type": "markdown",
   "metadata": {},
   "source": [
    "We can see now that e.g. the local system path of the attachment is changed to a simply file name, which means that the upload was successful. If not so, an error would have beem thrown during the `commit`."
   ]
  },
  {
   "cell_type": "markdown",
   "metadata": {},
   "source": [
    "Furthermore we can also download the file we uploaded again:"
   ]
  },
  {
   "cell_type": "code",
   "execution_count": 10,
   "metadata": {},
   "outputs": [
    {
     "name": "stdout",
     "output_type": "stream",
     "text": [
      "\t\t\t Downloaded file: {\n",
      "\t\t\tname: README.md\n",
      "\t\t}\n",
      "|------------------------------------Beginning of file------------------------------------|\n",
      "# DSMS-SDK\n",
      "Python SDK core-package for interacting with the Dataspace Management System (DSMS)\n",
      "\n",
      "\n",
      "## Authors\n",
      "\n",
      "[Matthias Büschelberger](mailto:matthias.bueschelberger@iwm.fraunhofer.de) (Fraunhofer Institute for Mechanics of Materials IWM)\n",
      "\n",
      "[Yoav Nahshon](mailto:yoav.nahshon@iwm.fraunhofer.de) (Fraunhofer Institute for Mechanics of Materials IWM)\n",
      "\n",
      "[Pablo De Andres](mailto:pablo.de.andres@iwm.fraunhofer.de) (Fraunhofer Institute for Mechanics of Materials IWM)\n",
      "\n",
      "## License\n",
      "\n",
      "This project is licensed under the BSD 3-Clause. See the LICENSE file for more information.\n",
      "\n",
      "## Usage\n",
      "\n",
      "The SDK provides a general Python interface to a remote DSMS deployment, allowing users to access, store and link data in a DSMS instance easily and safely. The package provides the following main capabilities:\n",
      "\n",
      "- Managing Knowledge-Items (KItems), which are data instances of an explicitly defined semantic class type (KType)\n",
      " - Creating, updating and deleting meta data and properties, e.g. date, operator, material response data for a conducted tensile test\n",
      " - Administrating authorship, contact information and supplementary information upon making changes or adding KItems\n",
      " - Semantic annotation of KItems\n",
      "- Conduct simple free-text searches within the DSMS instance including filters (e.g. limiting the search for certain materials) as well as a more experts-aware SPARQL interface\n",
      "- Linking KItems to other KItems\n",
      "- Linking Apps to KItems, triggererd, for example, during a file upload\n",
      "- Performing simple file upload and download using attachments to KItems\n",
      "- Export of a knowledge (sub) graph as common serializations (.ttl, .json)\n",
      "\n",
      "For the basic usage, please have a look on the Jupyter Notebook under `examples/basic_usage.ipynb`. This tutorial provides a basic overview of using the dsms package to interact with Knowledge Items.\n",
      "\n",
      "## Disclaimer\n",
      "\n",
      "Copyright (c) 2014-2024, Fraunhofer-Gesellschaft zur Förderung der angewandten Forschung e.V. acting on behalf of its Fraunhofer IWM.\n",
      "\n",
      "Contact: [Matthias Büschelberger](mailto:matthias.bueschelberger@iwm.fraunhofer.de)\n",
      "\n",
      "|---------------------------------------End of file---------------------------------------|\n"
     ]
    }
   ],
   "source": [
    "for file in item.attachments:\n",
    "    download = file.download()\n",
    "\n",
    "    print(\"\\t\\t\\t Downloaded file:\", file)\n",
    "    print(\"|------------------------------------Beginning of file------------------------------------|\")\n",
    "    print(download)\n",
    "    print(\"|---------------------------------------End of file---------------------------------------|\")"
   ]
  },
  {
   "cell_type": "markdown",
   "metadata": {},
   "source": [
    "### 4: Delete KItems and their properties"
   ]
  },
  {
   "cell_type": "markdown",
   "metadata": {},
   "source": [
    "We can also remove properties from the KItem without deleting the KItem itself.\n",
    "\n",
    "For the `list`-like properties, we can use the standard `list`-methods from basic Python again (e.g. `pop`, `remove`, etc. or the `del`-operator).\n",
    "\n",
    "For the other, non-`list`-like properties, we can simply use the attribute-assignment again.\n",
    "\n",
    "When we only want single parts of the properties in the KItem, we can do it like this:"
   ]
  },
  {
   "cell_type": "code",
   "execution_count": 11,
   "metadata": {},
   "outputs": [
    {
     "data": {
      "text/plain": [
       "{\n",
       "\t\t\tiri: www.example.org/foo,\n",
       "\t\t\tname: foo,\n",
       "\t\t\tnamespace: www.example.org,\n",
       "\t\t\tdescription: None\n",
       "\t\t}"
      ]
     },
     "execution_count": 11,
     "metadata": {},
     "output_type": "execute_result"
    }
   ],
   "source": [
    "item.attachments.pop(0)\n",
    "item.annotations.pop(0)"
   ]
  },
  {
   "cell_type": "markdown",
   "metadata": {},
   "source": [
    "However, we can also reset the entire property by setting it to e.g. an empty list again:"
   ]
  },
  {
   "cell_type": "code",
   "execution_count": 12,
   "metadata": {},
   "outputs": [],
   "source": [
    "item.user_groups = []"
   ]
  },
  {
   "cell_type": "markdown",
   "metadata": {},
   "source": [
    "See the changes:"
   ]
  },
  {
   "cell_type": "markdown",
   "metadata": {},
   "source": [
    "Send the changes to the DSMS with the `commit`-method:"
   ]
  },
  {
   "cell_type": "code",
   "execution_count": 13,
   "metadata": {},
   "outputs": [],
   "source": [
    "dsms.commit()"
   ]
  },
  {
   "cell_type": "code",
   "execution_count": 14,
   "metadata": {},
   "outputs": [
    {
     "data": {
      "text/plain": [
       "KItem(\n",
       "\n",
       "\tname = foobar, \n",
       "\n",
       "\tid = 617cd64f-1a4d-48d5-aed6-ff9d9e3ddb20, \n",
       "\n",
       "\tktype_id = dataset, \n",
       "\n",
       "\tin_backend = True, \n",
       "\n",
       "\tslug = foo123-617cd64f, \n",
       "\n",
       "\tannotations = [], \n",
       "\n",
       "\tattachments = [], \n",
       "\n",
       "\tlinked_kitems = [], \n",
       "\n",
       "\taffiliations = [\n",
       "\t\t{\n",
       "\t\t\tname: foobar team\n",
       "\t\t}\n",
       "\t], \n",
       "\n",
       "\tauthors = [\n",
       "\t\t{\n",
       "\t\t\tuser_id: 7f0e5a37-353b-4bbc-b1f1-b6ad575f562d\n",
       "\t\t}\n",
       "\t], \n",
       "\n",
       "\tavatar_exists = False, \n",
       "\n",
       "\tcontacts = [\n",
       "\t\t{\n",
       "\t\t\tname: foo,\n",
       "\t\t\temail: foo@bar.mail,\n",
       "\t\t\tuser_id: None\n",
       "\t\t}\n",
       "\t], \n",
       "\n",
       "\tcreated_at = 2024-08-20 08:01:50.536406, \n",
       "\n",
       "\tupdated_at = 2024-08-20 08:01:54.745601, \n",
       "\n",
       "\texternal_links = [\n",
       "\t\t{\n",
       "\t\t\tlabel: example link,\n",
       "\t\t\turl: http://example.org/\n",
       "\t\t}\n",
       "\t], \n",
       "\n",
       "\tkitem_apps = [], \n",
       "\n",
       "\tsummary = None, \n",
       "\n",
       "\tuser_groups = [], \n",
       "\n",
       "\tcustom_properties = {\n",
       "\t\tfoo: bar\n",
       "\t}, \n",
       "\n",
       "\tdataframe = None, \n",
       "\n",
       "\trdf_exists = False\n",
       ")"
      ]
     },
     "execution_count": 14,
     "metadata": {},
     "output_type": "execute_result"
    }
   ],
   "source": [
    "item"
   ]
  },
  {
   "cell_type": "markdown",
   "metadata": {},
   "source": [
    "However, we can also delete the whole KItem from the DSMS by applying the `del`-operator to the `dsms`-object with the individual `KItem`-object:"
   ]
  },
  {
   "cell_type": "code",
   "execution_count": 15,
   "metadata": {},
   "outputs": [],
   "source": [
    "del dsms[item]"
   ]
  },
  {
   "cell_type": "markdown",
   "metadata": {},
   "source": [
    "Commit the changes:"
   ]
  },
  {
   "cell_type": "code",
   "execution_count": 16,
   "metadata": {},
   "outputs": [],
   "source": [
    "dsms.commit()"
   ]
  },
  {
   "cell_type": "markdown",
   "metadata": {},
   "source": [
    "### 5: Search for KItems"
   ]
  },
  {
   "cell_type": "markdown",
   "metadata": {},
   "source": [
    "In the last unit of this tutorial, we would like to search for specfic KItems we created in the DSMS.\n",
    "\n",
    "For this purpose, we will firstly create some KItems and apply the `search`-method on the `DSMS`-object later on in order to find them again in the DSMS.\n",
    "\n",
    "We also wnat to demonstrate here, that we can link KItems to each other in order to find e.g. a related item of type `DatasetCatalog`. For this strategy, we are using the `linked_kitems`-attribute and the `id` of the item which we would like to link.\n",
    "\n",
    "The procedure looks like this:"
   ]
  },
  {
   "cell_type": "code",
   "execution_count": 17,
   "metadata": {},
   "outputs": [],
   "source": [
    "item = KItem(\n",
    "    name=\"foo 1\",\n",
    "    ktype_id=dsms.ktypes.DatasetCatalog\n",
    ")\n",
    "\n",
    "item2 = KItem(\n",
    "    name=\"foo 2\",\n",
    "    ktype_id=dsms.ktypes.Organization,\n",
    "    linked_kitems=[item],\n",
    "    annotations=[\"www.example.org/foo\"]\n",
    ")\n",
    "item3 = KItem(\n",
    "    name=\"foo 3\", \n",
    "    ktype_id=dsms.ktypes.Organization\n",
    ")\n",
    "item4 = KItem(\n",
    "    name=\"foo 4\",\n",
    "    ktype_id=dsms.ktypes.Organization,\n",
    "    annotations=[\"www.example.org/bar\"],\n",
    ")\n",
    "\n",
    "dsms.commit()"
   ]
  },
  {
   "cell_type": "markdown",
   "metadata": {},
   "source": [
    "Now, we are apply to search for e.g. kitems of type `DatasetCatalog`:"
   ]
  },
  {
   "cell_type": "code",
   "execution_count": 18,
   "metadata": {},
   "outputs": [
    {
     "data": {
      "text/plain": [
       "[SearchResult(hit=KItem(\n",
       " \n",
       " \tname = foo 1, \n",
       " \n",
       " \tid = 966beb55-6eb5-422e-b8c1-84d65b8cf50d, \n",
       " \n",
       " \tktype_id = dataset-catalog, \n",
       " \n",
       " \tin_backend = True, \n",
       " \n",
       " \tslug = foo1-966beb55, \n",
       " \n",
       " \tannotations = [], \n",
       " \n",
       " \tattachments = [], \n",
       " \n",
       " \tlinked_kitems = [\n",
       " \t\t\n",
       " \t\t\tid: 3ca3c293-8845-4f0e-afcb-6c680c07239f\n",
       " \t\t\tname: foo 2\n",
       " \t\t\tslug: foo2-3ca3c293\n",
       " \t\t\tktype_id: organization\n",
       " \t\t\tsummary: None\n",
       " \t\t\tavatar_exists: False\n",
       " \t\t\tannotations: [{\n",
       " \t\t\tiri: www.example.org/foo,\n",
       " \t\t\tname: foo,\n",
       " \t\t\tnamespace: www.example.org,\n",
       " \t\t\tdescription: None\n",
       " \t\t}]\n",
       " \t\t\tlinked_kitems: [{\n",
       " \t\t\tid: 966beb55-6eb5-422e-b8c1-84d65b8cf50d\n",
       " \t\t}]\n",
       " \t\t\texternal_links: []\n",
       " \t\t\tcontacts: []\n",
       " \t\t\tauthors: [{\n",
       " \t\t\tuser_id: 7f0e5a37-353b-4bbc-b1f1-b6ad575f562d\n",
       " \t\t}]\n",
       " \t\t\tlinked_affiliations: []\n",
       " \t\t\tattachments: []\n",
       " \t\t\tuser_groups: []\n",
       " \t\t\tcustom_properties: None\n",
       " \t\t\tcreated_at: 2024-08-20T08:02:09.024038\n",
       " \t\t\tupdated_at: 2024-08-20T08:02:09.024038\n",
       " \t\t\n",
       " \t], \n",
       " \n",
       " \taffiliations = [], \n",
       " \n",
       " \tauthors = [\n",
       " \t\t{\n",
       " \t\t\tuser_id: 7f0e5a37-353b-4bbc-b1f1-b6ad575f562d\n",
       " \t\t}\n",
       " \t], \n",
       " \n",
       " \tavatar_exists = False, \n",
       " \n",
       " \tcontacts = [], \n",
       " \n",
       " \tcreated_at = 2024-08-20 08:02:08.491699, \n",
       " \n",
       " \tupdated_at = 2024-08-20 08:02:08.491699, \n",
       " \n",
       " \texternal_links = [], \n",
       " \n",
       " \tkitem_apps = [], \n",
       " \n",
       " \tsummary = None, \n",
       " \n",
       " \tuser_groups = [], \n",
       " \n",
       " \tcustom_properties = None, \n",
       " \n",
       " \tdataframe = None, \n",
       " \n",
       " \trdf_exists = False\n",
       " ), fuzzy=False)]"
      ]
     },
     "execution_count": 18,
     "metadata": {},
     "output_type": "execute_result"
    }
   ],
   "source": [
    "dsms.search(ktypes=[dsms.ktypes.DatasetCatalog])"
   ]
  },
  {
   "cell_type": "markdown",
   "metadata": {},
   "source": [
    "... and for all of type `Organization` and `DatasetCatalog`:"
   ]
  },
  {
   "cell_type": "code",
   "execution_count": 19,
   "metadata": {},
   "outputs": [
    {
     "data": {
      "text/plain": [
       "[SearchResult(hit=KItem(\n",
       " \n",
       " \tname = foo 1, \n",
       " \n",
       " \tid = 966beb55-6eb5-422e-b8c1-84d65b8cf50d, \n",
       " \n",
       " \tktype_id = dataset-catalog, \n",
       " \n",
       " \tin_backend = True, \n",
       " \n",
       " \tslug = foo1-966beb55, \n",
       " \n",
       " \tannotations = [], \n",
       " \n",
       " \tattachments = [], \n",
       " \n",
       " \tlinked_kitems = [\n",
       " \t\t\n",
       " \t\t\tid: 3ca3c293-8845-4f0e-afcb-6c680c07239f\n",
       " \t\t\tname: foo 2\n",
       " \t\t\tslug: foo2-3ca3c293\n",
       " \t\t\tktype_id: organization\n",
       " \t\t\tsummary: None\n",
       " \t\t\tavatar_exists: False\n",
       " \t\t\tannotations: [{\n",
       " \t\t\tiri: www.example.org/foo,\n",
       " \t\t\tname: foo,\n",
       " \t\t\tnamespace: www.example.org,\n",
       " \t\t\tdescription: None\n",
       " \t\t}]\n",
       " \t\t\tlinked_kitems: [{\n",
       " \t\t\tid: 966beb55-6eb5-422e-b8c1-84d65b8cf50d\n",
       " \t\t}]\n",
       " \t\t\texternal_links: []\n",
       " \t\t\tcontacts: []\n",
       " \t\t\tauthors: [{\n",
       " \t\t\tuser_id: 7f0e5a37-353b-4bbc-b1f1-b6ad575f562d\n",
       " \t\t}]\n",
       " \t\t\tlinked_affiliations: []\n",
       " \t\t\tattachments: []\n",
       " \t\t\tuser_groups: []\n",
       " \t\t\tcustom_properties: None\n",
       " \t\t\tcreated_at: 2024-08-20T08:02:09.024038\n",
       " \t\t\tupdated_at: 2024-08-20T08:02:09.024038\n",
       " \t\t\n",
       " \t], \n",
       " \n",
       " \taffiliations = [], \n",
       " \n",
       " \tauthors = [\n",
       " \t\t{\n",
       " \t\t\tuser_id: 7f0e5a37-353b-4bbc-b1f1-b6ad575f562d\n",
       " \t\t}\n",
       " \t], \n",
       " \n",
       " \tavatar_exists = False, \n",
       " \n",
       " \tcontacts = [], \n",
       " \n",
       " \tcreated_at = 2024-08-20 08:02:08.491699, \n",
       " \n",
       " \tupdated_at = 2024-08-20 08:02:08.491699, \n",
       " \n",
       " \texternal_links = [], \n",
       " \n",
       " \tkitem_apps = [], \n",
       " \n",
       " \tsummary = None, \n",
       " \n",
       " \tuser_groups = [], \n",
       " \n",
       " \tcustom_properties = None, \n",
       " \n",
       " \tdataframe = None, \n",
       " \n",
       " \trdf_exists = False\n",
       " ), fuzzy=False),\n",
       " SearchResult(hit=KItem(\n",
       " \n",
       " \tname = foo 2, \n",
       " \n",
       " \tid = 3ca3c293-8845-4f0e-afcb-6c680c07239f, \n",
       " \n",
       " \tktype_id = organization, \n",
       " \n",
       " \tin_backend = True, \n",
       " \n",
       " \tslug = foo2-3ca3c293, \n",
       " \n",
       " \tannotations = [\n",
       " \t\t{\n",
       " \t\t\tiri: www.example.org/foo,\n",
       " \t\t\tname: foo,\n",
       " \t\t\tnamespace: www.example.org,\n",
       " \t\t\tdescription: None\n",
       " \t\t}\n",
       " \t], \n",
       " \n",
       " \tattachments = [], \n",
       " \n",
       " \tlinked_kitems = [\n",
       " \t\t\n",
       " \t\t\tid: 966beb55-6eb5-422e-b8c1-84d65b8cf50d\n",
       " \t\t\tname: foo 1\n",
       " \t\t\tslug: foo1-966beb55\n",
       " \t\t\tktype_id: dataset-catalog\n",
       " \t\t\tsummary: None\n",
       " \t\t\tavatar_exists: False\n",
       " \t\t\tannotations: []\n",
       " \t\t\tlinked_kitems: [{\n",
       " \t\t\tid: 3ca3c293-8845-4f0e-afcb-6c680c07239f\n",
       " \t\t}]\n",
       " \t\t\texternal_links: []\n",
       " \t\t\tcontacts: []\n",
       " \t\t\tauthors: [{\n",
       " \t\t\tuser_id: 7f0e5a37-353b-4bbc-b1f1-b6ad575f562d\n",
       " \t\t}]\n",
       " \t\t\tlinked_affiliations: []\n",
       " \t\t\tattachments: []\n",
       " \t\t\tuser_groups: []\n",
       " \t\t\tcustom_properties: None\n",
       " \t\t\tcreated_at: 2024-08-20T08:02:08.491699\n",
       " \t\t\tupdated_at: 2024-08-20T08:02:08.491699\n",
       " \t\t\n",
       " \t], \n",
       " \n",
       " \taffiliations = [], \n",
       " \n",
       " \tauthors = [\n",
       " \t\t{\n",
       " \t\t\tuser_id: 7f0e5a37-353b-4bbc-b1f1-b6ad575f562d\n",
       " \t\t}\n",
       " \t], \n",
       " \n",
       " \tavatar_exists = False, \n",
       " \n",
       " \tcontacts = [], \n",
       " \n",
       " \tcreated_at = 2024-08-20 08:02:09.024038, \n",
       " \n",
       " \tupdated_at = 2024-08-20 08:02:09.024038, \n",
       " \n",
       " \texternal_links = [], \n",
       " \n",
       " \tkitem_apps = [], \n",
       " \n",
       " \tsummary = None, \n",
       " \n",
       " \tuser_groups = [], \n",
       " \n",
       " \tcustom_properties = None, \n",
       " \n",
       " \tdataframe = None, \n",
       " \n",
       " \trdf_exists = False\n",
       " ), fuzzy=False),\n",
       " SearchResult(hit=KItem(\n",
       " \n",
       " \tname = foo 3, \n",
       " \n",
       " \tid = 31a58a53-8f50-4f18-93ee-90ff5a806e14, \n",
       " \n",
       " \tktype_id = organization, \n",
       " \n",
       " \tin_backend = True, \n",
       " \n",
       " \tslug = foo3-31a58a53, \n",
       " \n",
       " \tannotations = [], \n",
       " \n",
       " \tattachments = [], \n",
       " \n",
       " \tlinked_kitems = [], \n",
       " \n",
       " \taffiliations = [], \n",
       " \n",
       " \tauthors = [\n",
       " \t\t{\n",
       " \t\t\tuser_id: 7f0e5a37-353b-4bbc-b1f1-b6ad575f562d\n",
       " \t\t}\n",
       " \t], \n",
       " \n",
       " \tavatar_exists = False, \n",
       " \n",
       " \tcontacts = [], \n",
       " \n",
       " \tcreated_at = 2024-08-20 08:02:09.532080, \n",
       " \n",
       " \tupdated_at = 2024-08-20 08:02:09.532080, \n",
       " \n",
       " \texternal_links = [], \n",
       " \n",
       " \tkitem_apps = [], \n",
       " \n",
       " \tsummary = None, \n",
       " \n",
       " \tuser_groups = [], \n",
       " \n",
       " \tcustom_properties = None, \n",
       " \n",
       " \tdataframe = None, \n",
       " \n",
       " \trdf_exists = False\n",
       " ), fuzzy=False),\n",
       " SearchResult(hit=KItem(\n",
       " \n",
       " \tname = foo 4, \n",
       " \n",
       " \tid = 552ab1b9-64df-4343-9e4e-e5c292c3999f, \n",
       " \n",
       " \tktype_id = organization, \n",
       " \n",
       " \tin_backend = True, \n",
       " \n",
       " \tslug = foo4-552ab1b9, \n",
       " \n",
       " \tannotations = [\n",
       " \t\t{\n",
       " \t\t\tiri: www.example.org/bar,\n",
       " \t\t\tname: bar,\n",
       " \t\t\tnamespace: www.example.org,\n",
       " \t\t\tdescription: None\n",
       " \t\t}\n",
       " \t], \n",
       " \n",
       " \tattachments = [], \n",
       " \n",
       " \tlinked_kitems = [], \n",
       " \n",
       " \taffiliations = [], \n",
       " \n",
       " \tauthors = [\n",
       " \t\t{\n",
       " \t\t\tuser_id: 7f0e5a37-353b-4bbc-b1f1-b6ad575f562d\n",
       " \t\t}\n",
       " \t], \n",
       " \n",
       " \tavatar_exists = False, \n",
       " \n",
       " \tcontacts = [], \n",
       " \n",
       " \tcreated_at = 2024-08-20 08:02:10.062595, \n",
       " \n",
       " \tupdated_at = 2024-08-20 08:02:10.062595, \n",
       " \n",
       " \texternal_links = [], \n",
       " \n",
       " \tkitem_apps = [], \n",
       " \n",
       " \tsummary = None, \n",
       " \n",
       " \tuser_groups = [], \n",
       " \n",
       " \tcustom_properties = None, \n",
       " \n",
       " \tdataframe = None, \n",
       " \n",
       " \trdf_exists = False\n",
       " ), fuzzy=False),\n",
       " SearchResult(hit=KItem(\n",
       " \n",
       " \tname = Research Institute ABC, \n",
       " \n",
       " \tid = 21aa50c3-5ec2-4ac3-aba8-69071a4287e2, \n",
       " \n",
       " \tktype_id = organization, \n",
       " \n",
       " \tin_backend = True, \n",
       " \n",
       " \tslug = researchinstituteabc-21aa50c3, \n",
       " \n",
       " \tannotations = [], \n",
       " \n",
       " \tattachments = [], \n",
       " \n",
       " \tlinked_kitems = [], \n",
       " \n",
       " \taffiliations = [], \n",
       " \n",
       " \tauthors = [\n",
       " \t\t{\n",
       " \t\t\tuser_id: 7f0e5a37-353b-4bbc-b1f1-b6ad575f562d\n",
       " \t\t}\n",
       " \t], \n",
       " \n",
       " \tavatar_exists = False, \n",
       " \n",
       " \tcontacts = [], \n",
       " \n",
       " \tcreated_at = 2024-08-19 18:26:00.740761, \n",
       " \n",
       " \tupdated_at = 2024-08-19 18:26:00.740761, \n",
       " \n",
       " \texternal_links = [], \n",
       " \n",
       " \tkitem_apps = [], \n",
       " \n",
       " \tsummary = None, \n",
       " \n",
       " \tuser_groups = [], \n",
       " \n",
       " \tcustom_properties = None, \n",
       " \n",
       " \tdataframe = None, \n",
       " \n",
       " \trdf_exists = False\n",
       " ), fuzzy=False)]"
      ]
     },
     "execution_count": 19,
     "metadata": {},
     "output_type": "execute_result"
    }
   ],
   "source": [
    "dsms.search(ktypes=[dsms.ktypes.Organization, dsms.ktypes.DatasetCatalog])"
   ]
  },
  {
   "cell_type": "markdown",
   "metadata": {},
   "source": [
    "... or for all of type `DatasetCatalog` with `foo` in the name:"
   ]
  },
  {
   "cell_type": "code",
   "execution_count": 20,
   "metadata": {},
   "outputs": [
    {
     "data": {
      "text/plain": [
       "[SearchResult(hit=KItem(\n",
       " \n",
       " \tname = foo 1, \n",
       " \n",
       " \tid = 966beb55-6eb5-422e-b8c1-84d65b8cf50d, \n",
       " \n",
       " \tktype_id = dataset-catalog, \n",
       " \n",
       " \tin_backend = True, \n",
       " \n",
       " \tslug = foo1-966beb55, \n",
       " \n",
       " \tannotations = [], \n",
       " \n",
       " \tattachments = [], \n",
       " \n",
       " \tlinked_kitems = [\n",
       " \t\t\n",
       " \t\t\tid: 3ca3c293-8845-4f0e-afcb-6c680c07239f\n",
       " \t\t\tname: foo 2\n",
       " \t\t\tslug: foo2-3ca3c293\n",
       " \t\t\tktype_id: organization\n",
       " \t\t\tsummary: None\n",
       " \t\t\tavatar_exists: False\n",
       " \t\t\tannotations: [{\n",
       " \t\t\tiri: www.example.org/foo,\n",
       " \t\t\tname: foo,\n",
       " \t\t\tnamespace: www.example.org,\n",
       " \t\t\tdescription: None\n",
       " \t\t}]\n",
       " \t\t\tlinked_kitems: [{\n",
       " \t\t\tid: 966beb55-6eb5-422e-b8c1-84d65b8cf50d\n",
       " \t\t}]\n",
       " \t\t\texternal_links: []\n",
       " \t\t\tcontacts: []\n",
       " \t\t\tauthors: [{\n",
       " \t\t\tuser_id: 7f0e5a37-353b-4bbc-b1f1-b6ad575f562d\n",
       " \t\t}]\n",
       " \t\t\tlinked_affiliations: []\n",
       " \t\t\tattachments: []\n",
       " \t\t\tuser_groups: []\n",
       " \t\t\tcustom_properties: None\n",
       " \t\t\tcreated_at: 2024-08-20T08:02:09.024038\n",
       " \t\t\tupdated_at: 2024-08-20T08:02:09.024038\n",
       " \t\t\n",
       " \t], \n",
       " \n",
       " \taffiliations = [], \n",
       " \n",
       " \tauthors = [\n",
       " \t\t{\n",
       " \t\t\tuser_id: 7f0e5a37-353b-4bbc-b1f1-b6ad575f562d\n",
       " \t\t}\n",
       " \t], \n",
       " \n",
       " \tavatar_exists = False, \n",
       " \n",
       " \tcontacts = [], \n",
       " \n",
       " \tcreated_at = 2024-08-20 08:02:08.491699, \n",
       " \n",
       " \tupdated_at = 2024-08-20 08:02:08.491699, \n",
       " \n",
       " \texternal_links = [], \n",
       " \n",
       " \tkitem_apps = [], \n",
       " \n",
       " \tsummary = None, \n",
       " \n",
       " \tuser_groups = [], \n",
       " \n",
       " \tcustom_properties = None, \n",
       " \n",
       " \tdataframe = None, \n",
       " \n",
       " \trdf_exists = False\n",
       " ), fuzzy=False)]"
      ]
     },
     "execution_count": 20,
     "metadata": {},
     "output_type": "execute_result"
    }
   ],
   "source": [
    "dsms.search(query=\"foo\", ktypes=[dsms.ktypes.DatasetCatalog])"
   ]
  },
  {
   "cell_type": "markdown",
   "metadata": {},
   "source": [
    "... and for all of type `Organization` with the annotation `www.example.org/foo`:"
   ]
  },
  {
   "cell_type": "code",
   "execution_count": 21,
   "metadata": {},
   "outputs": [
    {
     "data": {
      "text/plain": [
       "[SearchResult(hit=KItem(\n",
       " \n",
       " \tname = foo 2, \n",
       " \n",
       " \tid = 3ca3c293-8845-4f0e-afcb-6c680c07239f, \n",
       " \n",
       " \tktype_id = organization, \n",
       " \n",
       " \tin_backend = True, \n",
       " \n",
       " \tslug = foo2-3ca3c293, \n",
       " \n",
       " \tannotations = [\n",
       " \t\t{\n",
       " \t\t\tiri: www.example.org/foo,\n",
       " \t\t\tname: foo,\n",
       " \t\t\tnamespace: www.example.org,\n",
       " \t\t\tdescription: None\n",
       " \t\t}\n",
       " \t], \n",
       " \n",
       " \tattachments = [], \n",
       " \n",
       " \tlinked_kitems = [\n",
       " \t\t\n",
       " \t\t\tid: 966beb55-6eb5-422e-b8c1-84d65b8cf50d\n",
       " \t\t\tname: foo 1\n",
       " \t\t\tslug: foo1-966beb55\n",
       " \t\t\tktype_id: dataset-catalog\n",
       " \t\t\tsummary: None\n",
       " \t\t\tavatar_exists: False\n",
       " \t\t\tannotations: []\n",
       " \t\t\tlinked_kitems: [{\n",
       " \t\t\tid: 3ca3c293-8845-4f0e-afcb-6c680c07239f\n",
       " \t\t}]\n",
       " \t\t\texternal_links: []\n",
       " \t\t\tcontacts: []\n",
       " \t\t\tauthors: [{\n",
       " \t\t\tuser_id: 7f0e5a37-353b-4bbc-b1f1-b6ad575f562d\n",
       " \t\t}]\n",
       " \t\t\tlinked_affiliations: []\n",
       " \t\t\tattachments: []\n",
       " \t\t\tuser_groups: []\n",
       " \t\t\tcustom_properties: None\n",
       " \t\t\tcreated_at: 2024-08-20T08:02:08.491699\n",
       " \t\t\tupdated_at: 2024-08-20T08:02:08.491699\n",
       " \t\t\n",
       " \t], \n",
       " \n",
       " \taffiliations = [], \n",
       " \n",
       " \tauthors = [\n",
       " \t\t{\n",
       " \t\t\tuser_id: 7f0e5a37-353b-4bbc-b1f1-b6ad575f562d\n",
       " \t\t}\n",
       " \t], \n",
       " \n",
       " \tavatar_exists = False, \n",
       " \n",
       " \tcontacts = [], \n",
       " \n",
       " \tcreated_at = 2024-08-20 08:02:09.024038, \n",
       " \n",
       " \tupdated_at = 2024-08-20 08:02:09.024038, \n",
       " \n",
       " \texternal_links = [], \n",
       " \n",
       " \tkitem_apps = [], \n",
       " \n",
       " \tsummary = None, \n",
       " \n",
       " \tuser_groups = [], \n",
       " \n",
       " \tcustom_properties = None, \n",
       " \n",
       " \tdataframe = None, \n",
       " \n",
       " \trdf_exists = False\n",
       " ), fuzzy=False)]"
      ]
     },
     "execution_count": 21,
     "metadata": {},
     "output_type": "execute_result"
    }
   ],
   "source": [
    "dsms.search(\n",
    "        ktypes=[dsms.ktypes.Organization], annotations=[\"www.example.org/foo\"]\n",
    "    )"
   ]
  },
  {
   "cell_type": "markdown",
   "metadata": {},
   "source": [
    "Clean up the DSMS from the tutortial:"
   ]
  },
  {
   "cell_type": "code",
   "execution_count": 22,
   "metadata": {},
   "outputs": [],
   "source": [
    "del dsms[item]\n",
    "del dsms[item2]\n",
    "del dsms[item3]\n",
    "del dsms[item4]\n",
    "\n",
    "dsms.commit()\n"
   ]
  },
  {
   "cell_type": "markdown",
   "metadata": {},
   "source": [
    "### 6. Apps"
   ]
  },
  {
   "cell_type": "markdown",
   "metadata": {},
   "source": [
    "We can investigate which apps are available through JupyterLab:"
   ]
  },
  {
   "cell_type": "code",
   "execution_count": 23,
   "metadata": {},
   "outputs": [
    {
     "data": {
      "text/plain": [
       "[AppConfig(name=ckan-fetch, specification={'metadata': {'generateName': 'ckan-resource-request-'}}),\n",
       " AppConfig(name=csv_tensile_test, specification={'metadata': {'generateName': 'data2rdf-'}}),\n",
       " AppConfig(name=csv_tensile_test_f2, specification={'metadata': {'generateName': 'data2rdf-'}}),\n",
       " AppConfig(name=excel_notched_tensile_test, specification={'metadata': {'generateName': 'data2rdf-'}}),\n",
       " AppConfig(name=excel_shear_test, specification={'metadata': {'generateName': 'data2rdf-'}}),\n",
       " AppConfig(name=excel_tensile_test, specification={'metadata': {'generateName': 'data2rdf-'}}),\n",
       " AppConfig(name=ternary-plot, specification={'metadata': {'generateName': 'ckan-tenary-app-'}})]"
      ]
     },
     "execution_count": 23,
     "metadata": {},
     "output_type": "execute_result"
    }
   ],
   "source": [
    "dsms.app_configs"
   ]
  },
  {
   "cell_type": "markdown",
   "metadata": {},
   "source": [
    "7. HDF5 "
   ]
  },
  {
   "cell_type": "markdown",
   "metadata": {},
   "source": [
    "We are also able to upload dataframes or time series data and investigate them:"
   ]
  },
  {
   "cell_type": "code",
   "execution_count": 24,
   "metadata": {},
   "outputs": [
    {
     "name": "stdout",
     "output_type": "stream",
     "text": [
      "Column-wise:\n",
      "column: a ,\n",
      " data: [0, 1, 2, 3, 4, 5, 6, 7, 8, 9, 10, 11, 12, 13, 14, 15, 16, 17, 18, 19, 20, 21, 22, 23, 24, 25, 26, 27, 28, 29, 30, 31, 32, 33, 34, 35, 36, 37, 38, 39, 40, 41, 42, 43, 44, 45, 46, 47, 48, 49, 50, 51, 52, 53, 54, 55, 56, 57, 58, 59, 60, 61, 62, 63, 64, 65, 66, 67, 68, 69, 70, 71, 72, 73, 74, 75, 76, 77, 78, 79, 80, 81, 82, 83, 84, 85, 86, 87, 88, 89, 90, 91, 92, 93, 94, 95, 96, 97, 98, 99]\n",
      "column: b ,\n",
      " data: [1, 2, 3, 4, 5, 6, 7, 8, 9, 10, 11, 12, 13, 14, 15, 16, 17, 18, 19, 20, 21, 22, 23, 24, 25, 26, 27, 28, 29, 30, 31, 32, 33, 34, 35, 36, 37, 38, 39, 40, 41, 42, 43, 44, 45, 46, 47, 48, 49, 50, 51, 52, 53, 54, 55, 56, 57, 58, 59, 60, 61, 62, 63, 64, 65, 66, 67, 68, 69, 70, 71, 72, 73, 74, 75, 76, 77, 78, 79, 80, 81, 82, 83, 84, 85, 86, 87, 88, 89, 90, 91, 92, 93, 94, 95, 96, 97, 98, 99, 100]\n",
      "\n",
      "As data frame:\n",
      "     a    b\n",
      "0    0    1\n",
      "1    1    2\n",
      "2    2    3\n",
      "3    3    4\n",
      "4    4    5\n",
      "..  ..  ...\n",
      "95  95   96\n",
      "96  96   97\n",
      "97  97   98\n",
      "98  98   99\n",
      "99  99  100\n",
      "\n",
      "[100 rows x 2 columns]\n"
     ]
    }
   ],
   "source": [
    "data = {\"a\": list(range(100)), \"b\": list(range(1,101))}\n",
    "\n",
    "\n",
    "item = KItem(name=\"testdata1234\", ktype_id=dsms.ktypes.DatasetCatalog, dataframe=data)\n",
    "dsms.commit()\n",
    "\n",
    "print(\"Column-wise:\")\n",
    "for column in item.dataframe:\n",
    "    print(\"column:\", column.name, \",\\n\", \"data:\", column.get())\n",
    "\n",
    "df = item.dataframe.to_df()\n",
    "print(\"\\nAs data frame:\")\n",
    "print(df)\n",
    "\n",
    "new_df = df.drop(['a'], axis=1)\n",
    "item.dataframe = new_df\n",
    "\n",
    "dsms.commit()"
   ]
  },
  {
   "cell_type": "code",
   "execution_count": 25,
   "metadata": {},
   "outputs": [],
   "source": [
    "del dsms[item]"
   ]
  },
  {
   "cell_type": "code",
   "execution_count": 26,
   "metadata": {},
   "outputs": [],
   "source": [
    "dsms.commit()"
   ]
  }
 ],
 "metadata": {
  "kernelspec": {
   "display_name": "sdk",
   "language": "python",
   "name": "python3"
  },
  "language_info": {
   "codemirror_mode": {
    "name": "ipython",
    "version": 3
   },
   "file_extension": ".py",
   "mimetype": "text/x-python",
   "name": "python",
   "nbconvert_exporter": "python",
   "pygments_lexer": "ipython3",
   "version": "3.12.2"
  }
 },
 "nbformat": 4,
 "nbformat_minor": 2
}
