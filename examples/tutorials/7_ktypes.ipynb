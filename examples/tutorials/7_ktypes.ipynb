{
 "cells": [
  {
   "cell_type": "markdown",
   "metadata": {},
   "source": [
    "# 7. Interact with KTypes through the SDK\n"
   ]
  },
  {
   "cell_type": "markdown",
   "metadata": {},
   "source": [
    "## 7.1. Setting up\n",
    "\n",
    "Import the needed classes and functions."
   ]
  },
  {
   "cell_type": "code",
   "execution_count": 12,
   "metadata": {},
   "outputs": [],
   "source": [
    "from dsms import DSMS, KType"
   ]
  },
  {
   "cell_type": "markdown",
   "metadata": {},
   "source": [
    "Now source the environmental variables from an `.env` file and start the DSMS-session."
   ]
  },
  {
   "cell_type": "code",
   "execution_count": 13,
   "metadata": {},
   "outputs": [],
   "source": [
    "dsms = DSMS(env=\"../../.env\")"
   ]
  },
  {
   "cell_type": "markdown",
   "metadata": {},
   "source": [
    "## 7.2. Create KTypes\n",
    "\n",
    "New KTypes can be created by a simple class inititation."
   ]
  },
  {
   "cell_type": "code",
   "execution_count": 14,
   "metadata": {},
   "outputs": [
    {
     "data": {
      "text/plain": [
       "Batch(\n",
       "\tid=batch,\n",
       "\tname=Batch,\n",
       "\twebform=None,\n",
       "\tjson_schema=None,\n",
       "\trdf_mapping=None,\n",
       "\tcreated_at=None,\n",
       "\tupdated_at=None\n",
       ")"
      ]
     },
     "execution_count": 14,
     "metadata": {},
     "output_type": "execute_result"
    }
   ],
   "source": [
    "ktype = KType( \n",
    "        id='batch',\n",
    "        name='Batch'\n",
    ")\n",
    "\n",
    "ktype"
   ]
  },
  {
   "cell_type": "markdown",
   "metadata": {},
   "source": [
    "The `commit` method should be executed to synchronize the changes with the DSMS SDK."
   ]
  },
  {
   "cell_type": "code",
   "execution_count": 15,
   "metadata": {},
   "outputs": [],
   "source": [
    "dsms.commit()"
   ]
  },
  {
   "cell_type": "markdown",
   "metadata": {},
   "source": [
    "The `type` object will automatically get updated with after the commit."
   ]
  },
  {
   "cell_type": "code",
   "execution_count": 16,
   "metadata": {},
   "outputs": [
    {
     "data": {
      "text/plain": [
       "Batch(\n",
       "\tid=batch,\n",
       "\tname=Batch,\n",
       "\twebform=None,\n",
       "\tjson_schema=None,\n",
       "\trdf_mapping=None,\n",
       "\tcreated_at=2024-10-01T14:21:01.164121,\n",
       "\tupdated_at=2024-10-01T14:21:01.164121\n",
       ")"
      ]
     },
     "execution_count": 16,
     "metadata": {},
     "output_type": "execute_result"
    }
   ],
   "source": [
    "ktype"
   ]
  },
  {
   "cell_type": "markdown",
   "metadata": {},
   "source": [
    "## 7.3. Update KTypes"
   ]
  },
  {
   "cell_type": "markdown",
   "metadata": {},
   "source": [
    "The ktype object can be fetched using its id."
   ]
  },
  {
   "cell_type": "code",
   "execution_count": 17,
   "metadata": {},
   "outputs": [
    {
     "data": {
      "text/plain": [
       "Batch(\n",
       "\tid=batch,\n",
       "\tname=Batch,\n",
       "\twebform=None,\n",
       "\tjson_schema=None,\n",
       "\trdf_mapping=None,\n",
       "\tcreated_at=2024-10-01T14:21:01.164121,\n",
       "\tupdated_at=2024-10-01T14:21:01.164121\n",
       ")"
      ]
     },
     "execution_count": 17,
     "metadata": {},
     "output_type": "execute_result"
    }
   ],
   "source": [
    "ktype = dsms.ktypes.Batch\n",
    "ktype"
   ]
  },
  {
   "cell_type": "markdown",
   "metadata": {},
   "source": [
    "We can change e.g. the name of the ktype"
   ]
  },
  {
   "cell_type": "code",
   "execution_count": 18,
   "metadata": {},
   "outputs": [],
   "source": [
    "ktype.name = 'Batches'\n",
    "dsms.commit()"
   ]
  },
  {
   "cell_type": "markdown",
   "metadata": {},
   "source": [
    "After the committing, we can see the changes of the ktype"
   ]
  },
  {
   "cell_type": "code",
   "execution_count": 19,
   "metadata": {},
   "outputs": [
    {
     "data": {
      "text/plain": [
       "Batch(\n",
       "\tid=batch,\n",
       "\tname=Batches,\n",
       "\twebform=None,\n",
       "\tjson_schema=None,\n",
       "\trdf_mapping=None,\n",
       "\tcreated_at=2024-10-01T14:21:01.164121,\n",
       "\tupdated_at=2024-10-01T14:21:12.169973\n",
       ")"
      ]
     },
     "execution_count": 19,
     "metadata": {},
     "output_type": "execute_result"
    }
   ],
   "source": [
    "ktype"
   ]
  },
  {
   "cell_type": "markdown",
   "metadata": {},
   "source": [
    "## 7.5. Fetching KTypes\n",
    "\n",
    "The existing KTypes can be fetched as follows."
   ]
  },
  {
   "cell_type": "code",
   "execution_count": 20,
   "metadata": {},
   "outputs": [
    {
     "name": "stdout",
     "output_type": "stream",
     "text": [
      "Organization(\n",
      "\tid=organization,\n",
      "\tname=None,\n",
      "\twebform=None,\n",
      "\tjson_schema=None,\n",
      "\trdf_mapping=None,\n",
      "\tcreated_at=2024-05-06T13:01:42.756035,\n",
      "\tupdated_at=2024-05-06T13:01:42.756035\n",
      ")\n",
      "App(\n",
      "\tid=app,\n",
      "\tname=None,\n",
      "\twebform=None,\n",
      "\tjson_schema=None,\n",
      "\trdf_mapping=None,\n",
      "\tcreated_at=2024-05-06T13:01:42.756035,\n",
      "\tupdated_at=2024-05-06T13:01:42.756035\n",
      ")\n",
      "Dataset(\n",
      "\tid=dataset,\n",
      "\tname=dataset,\n",
      "\twebform=None,\n",
      "\tjson_schema=None,\n",
      "\trdf_mapping=None,\n",
      "\tcreated_at=2024-05-06T13:01:42.756035,\n",
      "\tupdated_at=2024-05-06T13:01:42.756035\n",
      ")\n",
      "DatasetCatalog(\n",
      "\tid=dataset-catalog,\n",
      "\tname=dataset catalog,\n",
      "\twebform=None,\n",
      "\tjson_schema=None,\n",
      "\trdf_mapping=None,\n",
      "\tcreated_at=2024-05-06T13:01:42.756035,\n",
      "\tupdated_at=2024-05-06T13:01:42.756035\n",
      ")\n",
      "Expert(\n",
      "\tid=expert,\n",
      "\tname=expert,\n",
      "\twebform={\n",
      "\t\tname=dict(annotation=Union[str, NoneType] required=False default=None),\n",
      "\t\tskills=dict(annotation=Union[str, NoneType] required=False default=None)\n",
      "\t},\n",
      "\tjson_schema=None,\n",
      "\trdf_mapping=None,\n",
      "\tcreated_at=2024-05-06T13:01:42.756035,\n",
      "\tupdated_at=2024-05-06T17:09:46.125058\n",
      ")\n",
      "Test(\n",
      "\tid=test,\n",
      "\tname=test,\n",
      "\twebform=None,\n",
      "\tjson_schema=None,\n",
      "\trdf_mapping=None,\n",
      "\tcreated_at=2024-05-14T07:45:38.051796,\n",
      "\tupdated_at=2024-05-14T07:45:38.051796\n",
      ")\n",
      "Specimen(\n",
      "\tid=specimen,\n",
      "\tname=Specimen,\n",
      "\twebform={\n",
      "\t\tsampletype=dict(annotation=Union[str, NoneType] required=False default=None),\n",
      "\t\tsampleinformation=dict(annotation=Union[str, NoneType] required=False default=None),\n",
      "\t\tsampleproductionprocess=dict(annotation=Union[str, NoneType] required=False default=None)\n",
      "\t},\n",
      "\tjson_schema=None,\n",
      "\trdf_mapping=None,\n",
      "\tcreated_at=2024-05-22T07:19:24.079365,\n",
      "\tupdated_at=2024-05-22T07:20:08.774884\n",
      ")\n",
      "Resource(\n",
      "\tid=resource,\n",
      "\tname=Resource,\n",
      "\twebform=None,\n",
      "\tjson_schema=None,\n",
      "\trdf_mapping=None,\n",
      "\tcreated_at=2024-06-10T10:17:31.071959,\n",
      "\tupdated_at=2024-06-10T10:17:40.156104\n",
      ")\n",
      "TestingMachine(\n",
      "\tid=testing-machine,\n",
      "\tname=Testing Machine,\n",
      "\twebform=None,\n",
      "\tjson_schema=None,\n",
      "\trdf_mapping=None,\n",
      "\tcreated_at=2024-08-19T17:13:57.534570,\n",
      "\tupdated_at=2024-08-19T18:11:40.465640\n",
      ")\n",
      "Batch(\n",
      "\tid=batch,\n",
      "\tname=Batches,\n",
      "\twebform=None,\n",
      "\tjson_schema=None,\n",
      "\trdf_mapping=None,\n",
      "\tcreated_at=2024-10-01T14:21:01.164121,\n",
      "\tupdated_at=2024-10-01T14:21:12.169973\n",
      ")\n"
     ]
    }
   ],
   "source": [
    "for ktype in dsms.ktypes:\n",
    "    print(ktype)"
   ]
  },
  {
   "cell_type": "markdown",
   "metadata": {},
   "source": [
    "## 7.4. Delete KTypes"
   ]
  },
  {
   "cell_type": "markdown",
   "metadata": {},
   "source": [
    "The fetched ktype can be deleted by applying the `del`-operator to the `dsms` object with the individual `KType` object."
   ]
  },
  {
   "cell_type": "code",
   "execution_count": 21,
   "metadata": {},
   "outputs": [],
   "source": [
    "del dsms[ktype]"
   ]
  },
  {
   "cell_type": "markdown",
   "metadata": {},
   "source": [
    "As always, commit the changes."
   ]
  },
  {
   "cell_type": "code",
   "execution_count": 22,
   "metadata": {},
   "outputs": [],
   "source": [
    "dsms.commit()"
   ]
  },
  {
   "cell_type": "markdown",
   "metadata": {},
   "source": [
    "The available KTypes in the SDK can be fetched from an enum list."
   ]
  }
 ],
 "metadata": {
  "kernelspec": {
   "display_name": "sdk",
   "language": "python",
   "name": "python3"
  },
  "language_info": {
   "codemirror_mode": {
    "name": "ipython",
    "version": 3
   },
   "file_extension": ".py",
   "mimetype": "text/x-python",
   "name": "python",
   "nbconvert_exporter": "python",
   "pygments_lexer": "ipython3",
   "version": "3.12.2"
  }
 },
 "nbformat": 4,
 "nbformat_minor": 2
}
